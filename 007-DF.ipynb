{
 "cells": [
  {
   "cell_type": "code",
   "execution_count": 1,
   "metadata": {},
   "outputs": [],
   "source": [
    "import sys\n",
    "import dask\n",
    "import dask.array as da\n",
    "import dask.dataframe as dd\n",
    "import numpy as np\n",
    "import pandas as pd"
   ]
  },
  {
   "cell_type": "code",
   "execution_count": 1,
   "metadata": {},
   "outputs": [
    {
     "name": "stderr",
     "output_type": "stream",
     "text": [
      "/home/dev/.local/lib/python3.8/site-packages/distributed/client.py:1130: VersionMismatchWarning: Mismatched versions found\n",
      "\n",
      "+-------------+---------------+---------------+---------------+\n",
      "| Package     | client        | scheduler     | workers       |\n",
      "+-------------+---------------+---------------+---------------+\n",
      "| blosc       | None          | 1.9.1         | 1.9.1         |\n",
      "| cloudpickle | 1.6.0         | 1.5.0         | 1.5.0         |\n",
      "| dask        | 2.26.0        | 2.24.0        | 2.24.0        |\n",
      "| distributed | 2.26.0        | 2.24.0        | 2.24.0        |\n",
      "| lz4         | None          | 3.1.0         | 3.1.0         |\n",
      "| numpy       | 1.19.2        | 1.18.1        | 1.18.1        |\n",
      "| python      | 3.8.2.final.0 | 3.8.0.final.0 | 3.8.0.final.0 |\n",
      "+-------------+---------------+---------------+---------------+\n",
      "  warnings.warn(version_module.VersionMismatchWarning(msg[0][\"warning\"]))\n"
     ]
    },
    {
     "data": {
      "text/html": [
       "<table style=\"border: 2px solid white;\">\n",
       "<tr>\n",
       "<td style=\"vertical-align: top; border: 0px solid white\">\n",
       "<h3 style=\"text-align: left;\">Client</h3>\n",
       "<ul style=\"text-align: left; list-style: none; margin: 0; padding: 0;\">\n",
       "  <li><b>Scheduler: </b>tcp://192.168.74.131:31280</li>\n",
       "  <li><b>Dashboard: </b><a href='http://192.168.74.131:8787/status' target='_blank'>http://192.168.74.131:8787/status</a></li>\n",
       "</ul>\n",
       "</td>\n",
       "<td style=\"vertical-align: top; border: 0px solid white\">\n",
       "<h3 style=\"text-align: left;\">Cluster</h3>\n",
       "<ul style=\"text-align: left; list-style:none; margin: 0; padding: 0;\">\n",
       "  <li><b>Workers: </b>3</li>\n",
       "  <li><b>Cores: </b>12</li>\n",
       "  <li><b>Memory: </b>24.96 GB</li>\n",
       "</ul>\n",
       "</td>\n",
       "</tr>\n",
       "</table>"
      ],
      "text/plain": [
       "<Client: 'tcp://10.42.2.31:8786' processes=3 threads=12, memory=24.96 GB>"
      ]
     },
     "execution_count": 1,
     "metadata": {},
     "output_type": "execute_result"
    }
   ],
   "source": [
    "from dask.distributed import Client, progress\n",
    "\n",
    "# client = Client(processes=True)\n",
    "# client = Client(processes=False)\n",
    "# client = Client(processes=False, threads_per_worker=2, n_workers=4, memory_limit=\"6GB\")\n",
    "client = Client('tcp://192.168.74.131:31280')\n",
    "\n",
    "client"
   ]
  },
  {
   "cell_type": "code",
   "execution_count": 3,
   "metadata": {},
   "outputs": [],
   "source": [
    "df = dask.datasets.timeseries()"
   ]
  },
  {
   "cell_type": "code",
   "execution_count": 4,
   "metadata": {},
   "outputs": [
    {
     "data": {
      "text/plain": [
       "id        int64\n",
       "name     object\n",
       "x       float64\n",
       "y       float64\n",
       "dtype: object"
      ]
     },
     "execution_count": 4,
     "metadata": {},
     "output_type": "execute_result"
    }
   ],
   "source": [
    "df.dtypes"
   ]
  },
  {
   "cell_type": "code",
   "execution_count": 5,
   "metadata": {},
   "outputs": [
    {
     "name": "stdout",
     "output_type": "stream",
     "text": [
      "Client\t client\t da\t dask\t dd\t df\t np\t pd\t progress\t \n",
      "sys\t \n"
     ]
    }
   ],
   "source": [
    "%who"
   ]
  },
  {
   "cell_type": "code",
   "execution_count": null,
   "metadata": {},
   "outputs": [],
   "source": [
    "del df"
   ]
  },
  {
   "cell_type": "code",
   "execution_count": null,
   "metadata": {},
   "outputs": [],
   "source": [
    "client.cancel(df)"
   ]
  },
  {
   "cell_type": "code",
   "execution_count": null,
   "metadata": {},
   "outputs": [],
   "source": [
    "df"
   ]
  },
  {
   "cell_type": "code",
   "execution_count": null,
   "metadata": {},
   "outputs": [],
   "source": [
    "del df"
   ]
  },
  {
   "cell_type": "code",
   "execution_count": null,
   "metadata": {},
   "outputs": [],
   "source": [
    "client.restart()"
   ]
  },
  {
   "cell_type": "markdown",
   "metadata": {},
   "source": [
    "## Connect to Kubernetes Cluster"
   ]
  },
  {
   "cell_type": "markdown",
   "metadata": {},
   "source": [
    "!export KUBECONFIG=~/.kube/config #Olmuyo"
   ]
  },
  {
   "cell_type": "markdown",
   "metadata": {},
   "source": [
    "from dask_kubernetes import KubeCluster\n",
    "\n",
    "cluster = KubeCluster()"
   ]
  },
  {
   "cell_type": "code",
   "execution_count": null,
   "metadata": {},
   "outputs": [],
   "source": [
    "from dask.distributed import Client, progress\n",
    "c = Client(\"tcp://192.168.74.131:31280\")\n",
    "c"
   ]
  },
  {
   "cell_type": "code",
   "execution_count": 3,
   "metadata": {},
   "outputs": [],
   "source": [
    "import dask.array as da"
   ]
  },
  {
   "cell_type": "code",
   "execution_count": 4,
   "metadata": {},
   "outputs": [
    {
     "data": {
      "text/html": [
       "<table>\n",
       "<tr>\n",
       "<td>\n",
       "<table>\n",
       "  <thead>\n",
       "    <tr><td> </td><th> Array </th><th> Chunk </th></tr>\n",
       "  </thead>\n",
       "  <tbody>\n",
       "    <tr><th> Bytes </th><td> 800.00 GB </td> <td> 125.00 MB </td></tr>\n",
       "    <tr><th> Shape </th><td> (1000, 10000, 10000) </td> <td> (250, 250, 250) </td></tr>\n",
       "    <tr><th> Count </th><td> 6400 Tasks </td><td> 6400 Chunks </td></tr>\n",
       "    <tr><th> Type </th><td> float64 </td><td> numpy.ndarray </td></tr>\n",
       "  </tbody>\n",
       "</table>\n",
       "</td>\n",
       "<td>\n",
       "<svg width=\"202\" height=\"192\" style=\"stroke:rgb(0,0,0);stroke-width:1\" >\n",
       "\n",
       "  <!-- Horizontal lines -->\n",
       "  <line x1=\"10\" y1=\"0\" x2=\"32\" y2=\"22\" style=\"stroke-width:2\" />\n",
       "  <line x1=\"10\" y1=\"3\" x2=\"32\" y2=\"25\" />\n",
       "  <line x1=\"10\" y1=\"6\" x2=\"32\" y2=\"28\" />\n",
       "  <line x1=\"10\" y1=\"9\" x2=\"32\" y2=\"31\" />\n",
       "  <line x1=\"10\" y1=\"12\" x2=\"32\" y2=\"34\" />\n",
       "  <line x1=\"10\" y1=\"15\" x2=\"32\" y2=\"37\" />\n",
       "  <line x1=\"10\" y1=\"18\" x2=\"32\" y2=\"40\" />\n",
       "  <line x1=\"10\" y1=\"21\" x2=\"32\" y2=\"43\" />\n",
       "  <line x1=\"10\" y1=\"24\" x2=\"32\" y2=\"46\" />\n",
       "  <line x1=\"10\" y1=\"27\" x2=\"32\" y2=\"49\" />\n",
       "  <line x1=\"10\" y1=\"30\" x2=\"32\" y2=\"52\" />\n",
       "  <line x1=\"10\" y1=\"33\" x2=\"32\" y2=\"55\" />\n",
       "  <line x1=\"10\" y1=\"36\" x2=\"32\" y2=\"58\" />\n",
       "  <line x1=\"10\" y1=\"39\" x2=\"32\" y2=\"61\" />\n",
       "  <line x1=\"10\" y1=\"42\" x2=\"32\" y2=\"64\" />\n",
       "  <line x1=\"10\" y1=\"45\" x2=\"32\" y2=\"67\" />\n",
       "  <line x1=\"10\" y1=\"48\" x2=\"32\" y2=\"70\" />\n",
       "  <line x1=\"10\" y1=\"51\" x2=\"32\" y2=\"73\" />\n",
       "  <line x1=\"10\" y1=\"54\" x2=\"32\" y2=\"76\" />\n",
       "  <line x1=\"10\" y1=\"57\" x2=\"32\" y2=\"79\" />\n",
       "  <line x1=\"10\" y1=\"60\" x2=\"32\" y2=\"82\" />\n",
       "  <line x1=\"10\" y1=\"63\" x2=\"32\" y2=\"85\" />\n",
       "  <line x1=\"10\" y1=\"66\" x2=\"32\" y2=\"88\" />\n",
       "  <line x1=\"10\" y1=\"69\" x2=\"32\" y2=\"91\" />\n",
       "  <line x1=\"10\" y1=\"72\" x2=\"32\" y2=\"94\" />\n",
       "  <line x1=\"10\" y1=\"75\" x2=\"32\" y2=\"97\" />\n",
       "  <line x1=\"10\" y1=\"78\" x2=\"32\" y2=\"100\" />\n",
       "  <line x1=\"10\" y1=\"81\" x2=\"32\" y2=\"103\" />\n",
       "  <line x1=\"10\" y1=\"84\" x2=\"32\" y2=\"106\" />\n",
       "  <line x1=\"10\" y1=\"87\" x2=\"32\" y2=\"109\" />\n",
       "  <line x1=\"10\" y1=\"90\" x2=\"32\" y2=\"112\" />\n",
       "  <line x1=\"10\" y1=\"93\" x2=\"32\" y2=\"115\" />\n",
       "  <line x1=\"10\" y1=\"96\" x2=\"32\" y2=\"118\" />\n",
       "  <line x1=\"10\" y1=\"99\" x2=\"32\" y2=\"121\" />\n",
       "  <line x1=\"10\" y1=\"102\" x2=\"32\" y2=\"124\" />\n",
       "  <line x1=\"10\" y1=\"105\" x2=\"32\" y2=\"127\" />\n",
       "  <line x1=\"10\" y1=\"108\" x2=\"32\" y2=\"130\" />\n",
       "  <line x1=\"10\" y1=\"111\" x2=\"32\" y2=\"133\" />\n",
       "  <line x1=\"10\" y1=\"114\" x2=\"32\" y2=\"136\" />\n",
       "  <line x1=\"10\" y1=\"117\" x2=\"32\" y2=\"139\" />\n",
       "  <line x1=\"10\" y1=\"120\" x2=\"32\" y2=\"142\" style=\"stroke-width:2\" />\n",
       "\n",
       "  <!-- Vertical lines -->\n",
       "  <line x1=\"10\" y1=\"0\" x2=\"10\" y2=\"120\" style=\"stroke-width:2\" />\n",
       "  <line x1=\"15\" y1=\"5\" x2=\"15\" y2=\"125\" />\n",
       "  <line x1=\"21\" y1=\"11\" x2=\"21\" y2=\"131\" />\n",
       "  <line x1=\"27\" y1=\"17\" x2=\"27\" y2=\"137\" />\n",
       "  <line x1=\"32\" y1=\"22\" x2=\"32\" y2=\"142\" style=\"stroke-width:2\" />\n",
       "\n",
       "  <!-- Colored Rectangle -->\n",
       "  <polygon points=\"10.000000,0.000000 32.704037,22.704037 32.704037,142.704037 10.000000,120.000000\" style=\"fill:#ECB172A0;stroke-width:0\"/>\n",
       "\n",
       "  <!-- Horizontal lines -->\n",
       "  <line x1=\"10\" y1=\"0\" x2=\"130\" y2=\"0\" style=\"stroke-width:2\" />\n",
       "  <line x1=\"15\" y1=\"5\" x2=\"135\" y2=\"5\" />\n",
       "  <line x1=\"21\" y1=\"11\" x2=\"141\" y2=\"11\" />\n",
       "  <line x1=\"27\" y1=\"17\" x2=\"147\" y2=\"17\" />\n",
       "  <line x1=\"32\" y1=\"22\" x2=\"152\" y2=\"22\" style=\"stroke-width:2\" />\n",
       "\n",
       "  <!-- Vertical lines -->\n",
       "  <line x1=\"10\" y1=\"0\" x2=\"32\" y2=\"22\" style=\"stroke-width:2\" />\n",
       "  <line x1=\"13\" y1=\"0\" x2=\"35\" y2=\"22\" />\n",
       "  <line x1=\"16\" y1=\"0\" x2=\"38\" y2=\"22\" />\n",
       "  <line x1=\"19\" y1=\"0\" x2=\"41\" y2=\"22\" />\n",
       "  <line x1=\"22\" y1=\"0\" x2=\"44\" y2=\"22\" />\n",
       "  <line x1=\"25\" y1=\"0\" x2=\"47\" y2=\"22\" />\n",
       "  <line x1=\"28\" y1=\"0\" x2=\"50\" y2=\"22\" />\n",
       "  <line x1=\"31\" y1=\"0\" x2=\"53\" y2=\"22\" />\n",
       "  <line x1=\"34\" y1=\"0\" x2=\"56\" y2=\"22\" />\n",
       "  <line x1=\"37\" y1=\"0\" x2=\"59\" y2=\"22\" />\n",
       "  <line x1=\"40\" y1=\"0\" x2=\"62\" y2=\"22\" />\n",
       "  <line x1=\"43\" y1=\"0\" x2=\"65\" y2=\"22\" />\n",
       "  <line x1=\"46\" y1=\"0\" x2=\"68\" y2=\"22\" />\n",
       "  <line x1=\"49\" y1=\"0\" x2=\"71\" y2=\"22\" />\n",
       "  <line x1=\"52\" y1=\"0\" x2=\"74\" y2=\"22\" />\n",
       "  <line x1=\"55\" y1=\"0\" x2=\"77\" y2=\"22\" />\n",
       "  <line x1=\"58\" y1=\"0\" x2=\"80\" y2=\"22\" />\n",
       "  <line x1=\"61\" y1=\"0\" x2=\"83\" y2=\"22\" />\n",
       "  <line x1=\"64\" y1=\"0\" x2=\"86\" y2=\"22\" />\n",
       "  <line x1=\"67\" y1=\"0\" x2=\"89\" y2=\"22\" />\n",
       "  <line x1=\"70\" y1=\"0\" x2=\"92\" y2=\"22\" />\n",
       "  <line x1=\"73\" y1=\"0\" x2=\"95\" y2=\"22\" />\n",
       "  <line x1=\"76\" y1=\"0\" x2=\"98\" y2=\"22\" />\n",
       "  <line x1=\"79\" y1=\"0\" x2=\"101\" y2=\"22\" />\n",
       "  <line x1=\"82\" y1=\"0\" x2=\"104\" y2=\"22\" />\n",
       "  <line x1=\"85\" y1=\"0\" x2=\"107\" y2=\"22\" />\n",
       "  <line x1=\"88\" y1=\"0\" x2=\"110\" y2=\"22\" />\n",
       "  <line x1=\"91\" y1=\"0\" x2=\"113\" y2=\"22\" />\n",
       "  <line x1=\"94\" y1=\"0\" x2=\"116\" y2=\"22\" />\n",
       "  <line x1=\"97\" y1=\"0\" x2=\"119\" y2=\"22\" />\n",
       "  <line x1=\"100\" y1=\"0\" x2=\"122\" y2=\"22\" />\n",
       "  <line x1=\"103\" y1=\"0\" x2=\"125\" y2=\"22\" />\n",
       "  <line x1=\"106\" y1=\"0\" x2=\"128\" y2=\"22\" />\n",
       "  <line x1=\"109\" y1=\"0\" x2=\"131\" y2=\"22\" />\n",
       "  <line x1=\"112\" y1=\"0\" x2=\"134\" y2=\"22\" />\n",
       "  <line x1=\"115\" y1=\"0\" x2=\"137\" y2=\"22\" />\n",
       "  <line x1=\"118\" y1=\"0\" x2=\"140\" y2=\"22\" />\n",
       "  <line x1=\"121\" y1=\"0\" x2=\"143\" y2=\"22\" />\n",
       "  <line x1=\"124\" y1=\"0\" x2=\"146\" y2=\"22\" />\n",
       "  <line x1=\"127\" y1=\"0\" x2=\"149\" y2=\"22\" />\n",
       "  <line x1=\"130\" y1=\"0\" x2=\"152\" y2=\"22\" style=\"stroke-width:2\" />\n",
       "\n",
       "  <!-- Colored Rectangle -->\n",
       "  <polygon points=\"10.000000,0.000000 130.000000,0.000000 152.704037,22.704037 32.704037,22.704037\" style=\"fill:#ECB172A0;stroke-width:0\"/>\n",
       "\n",
       "  <!-- Horizontal lines -->\n",
       "  <line x1=\"32\" y1=\"22\" x2=\"152\" y2=\"22\" style=\"stroke-width:2\" />\n",
       "  <line x1=\"32\" y1=\"25\" x2=\"152\" y2=\"25\" />\n",
       "  <line x1=\"32\" y1=\"28\" x2=\"152\" y2=\"28\" />\n",
       "  <line x1=\"32\" y1=\"31\" x2=\"152\" y2=\"31\" />\n",
       "  <line x1=\"32\" y1=\"34\" x2=\"152\" y2=\"34\" />\n",
       "  <line x1=\"32\" y1=\"37\" x2=\"152\" y2=\"37\" />\n",
       "  <line x1=\"32\" y1=\"40\" x2=\"152\" y2=\"40\" />\n",
       "  <line x1=\"32\" y1=\"43\" x2=\"152\" y2=\"43\" />\n",
       "  <line x1=\"32\" y1=\"46\" x2=\"152\" y2=\"46\" />\n",
       "  <line x1=\"32\" y1=\"49\" x2=\"152\" y2=\"49\" />\n",
       "  <line x1=\"32\" y1=\"52\" x2=\"152\" y2=\"52\" />\n",
       "  <line x1=\"32\" y1=\"55\" x2=\"152\" y2=\"55\" />\n",
       "  <line x1=\"32\" y1=\"58\" x2=\"152\" y2=\"58\" />\n",
       "  <line x1=\"32\" y1=\"61\" x2=\"152\" y2=\"61\" />\n",
       "  <line x1=\"32\" y1=\"64\" x2=\"152\" y2=\"64\" />\n",
       "  <line x1=\"32\" y1=\"67\" x2=\"152\" y2=\"67\" />\n",
       "  <line x1=\"32\" y1=\"70\" x2=\"152\" y2=\"70\" />\n",
       "  <line x1=\"32\" y1=\"73\" x2=\"152\" y2=\"73\" />\n",
       "  <line x1=\"32\" y1=\"76\" x2=\"152\" y2=\"76\" />\n",
       "  <line x1=\"32\" y1=\"79\" x2=\"152\" y2=\"79\" />\n",
       "  <line x1=\"32\" y1=\"82\" x2=\"152\" y2=\"82\" />\n",
       "  <line x1=\"32\" y1=\"85\" x2=\"152\" y2=\"85\" />\n",
       "  <line x1=\"32\" y1=\"88\" x2=\"152\" y2=\"88\" />\n",
       "  <line x1=\"32\" y1=\"91\" x2=\"152\" y2=\"91\" />\n",
       "  <line x1=\"32\" y1=\"94\" x2=\"152\" y2=\"94\" />\n",
       "  <line x1=\"32\" y1=\"97\" x2=\"152\" y2=\"97\" />\n",
       "  <line x1=\"32\" y1=\"100\" x2=\"152\" y2=\"100\" />\n",
       "  <line x1=\"32\" y1=\"103\" x2=\"152\" y2=\"103\" />\n",
       "  <line x1=\"32\" y1=\"106\" x2=\"152\" y2=\"106\" />\n",
       "  <line x1=\"32\" y1=\"109\" x2=\"152\" y2=\"109\" />\n",
       "  <line x1=\"32\" y1=\"112\" x2=\"152\" y2=\"112\" />\n",
       "  <line x1=\"32\" y1=\"115\" x2=\"152\" y2=\"115\" />\n",
       "  <line x1=\"32\" y1=\"118\" x2=\"152\" y2=\"118\" />\n",
       "  <line x1=\"32\" y1=\"121\" x2=\"152\" y2=\"121\" />\n",
       "  <line x1=\"32\" y1=\"124\" x2=\"152\" y2=\"124\" />\n",
       "  <line x1=\"32\" y1=\"127\" x2=\"152\" y2=\"127\" />\n",
       "  <line x1=\"32\" y1=\"130\" x2=\"152\" y2=\"130\" />\n",
       "  <line x1=\"32\" y1=\"133\" x2=\"152\" y2=\"133\" />\n",
       "  <line x1=\"32\" y1=\"136\" x2=\"152\" y2=\"136\" />\n",
       "  <line x1=\"32\" y1=\"139\" x2=\"152\" y2=\"139\" />\n",
       "  <line x1=\"32\" y1=\"142\" x2=\"152\" y2=\"142\" style=\"stroke-width:2\" />\n",
       "\n",
       "  <!-- Vertical lines -->\n",
       "  <line x1=\"32\" y1=\"22\" x2=\"32\" y2=\"142\" style=\"stroke-width:2\" />\n",
       "  <line x1=\"35\" y1=\"22\" x2=\"35\" y2=\"142\" />\n",
       "  <line x1=\"38\" y1=\"22\" x2=\"38\" y2=\"142\" />\n",
       "  <line x1=\"41\" y1=\"22\" x2=\"41\" y2=\"142\" />\n",
       "  <line x1=\"44\" y1=\"22\" x2=\"44\" y2=\"142\" />\n",
       "  <line x1=\"47\" y1=\"22\" x2=\"47\" y2=\"142\" />\n",
       "  <line x1=\"50\" y1=\"22\" x2=\"50\" y2=\"142\" />\n",
       "  <line x1=\"53\" y1=\"22\" x2=\"53\" y2=\"142\" />\n",
       "  <line x1=\"56\" y1=\"22\" x2=\"56\" y2=\"142\" />\n",
       "  <line x1=\"59\" y1=\"22\" x2=\"59\" y2=\"142\" />\n",
       "  <line x1=\"62\" y1=\"22\" x2=\"62\" y2=\"142\" />\n",
       "  <line x1=\"65\" y1=\"22\" x2=\"65\" y2=\"142\" />\n",
       "  <line x1=\"68\" y1=\"22\" x2=\"68\" y2=\"142\" />\n",
       "  <line x1=\"71\" y1=\"22\" x2=\"71\" y2=\"142\" />\n",
       "  <line x1=\"74\" y1=\"22\" x2=\"74\" y2=\"142\" />\n",
       "  <line x1=\"77\" y1=\"22\" x2=\"77\" y2=\"142\" />\n",
       "  <line x1=\"80\" y1=\"22\" x2=\"80\" y2=\"142\" />\n",
       "  <line x1=\"83\" y1=\"22\" x2=\"83\" y2=\"142\" />\n",
       "  <line x1=\"86\" y1=\"22\" x2=\"86\" y2=\"142\" />\n",
       "  <line x1=\"89\" y1=\"22\" x2=\"89\" y2=\"142\" />\n",
       "  <line x1=\"92\" y1=\"22\" x2=\"92\" y2=\"142\" />\n",
       "  <line x1=\"95\" y1=\"22\" x2=\"95\" y2=\"142\" />\n",
       "  <line x1=\"98\" y1=\"22\" x2=\"98\" y2=\"142\" />\n",
       "  <line x1=\"101\" y1=\"22\" x2=\"101\" y2=\"142\" />\n",
       "  <line x1=\"104\" y1=\"22\" x2=\"104\" y2=\"142\" />\n",
       "  <line x1=\"107\" y1=\"22\" x2=\"107\" y2=\"142\" />\n",
       "  <line x1=\"110\" y1=\"22\" x2=\"110\" y2=\"142\" />\n",
       "  <line x1=\"113\" y1=\"22\" x2=\"113\" y2=\"142\" />\n",
       "  <line x1=\"116\" y1=\"22\" x2=\"116\" y2=\"142\" />\n",
       "  <line x1=\"119\" y1=\"22\" x2=\"119\" y2=\"142\" />\n",
       "  <line x1=\"122\" y1=\"22\" x2=\"122\" y2=\"142\" />\n",
       "  <line x1=\"125\" y1=\"22\" x2=\"125\" y2=\"142\" />\n",
       "  <line x1=\"128\" y1=\"22\" x2=\"128\" y2=\"142\" />\n",
       "  <line x1=\"131\" y1=\"22\" x2=\"131\" y2=\"142\" />\n",
       "  <line x1=\"134\" y1=\"22\" x2=\"134\" y2=\"142\" />\n",
       "  <line x1=\"137\" y1=\"22\" x2=\"137\" y2=\"142\" />\n",
       "  <line x1=\"140\" y1=\"22\" x2=\"140\" y2=\"142\" />\n",
       "  <line x1=\"143\" y1=\"22\" x2=\"143\" y2=\"142\" />\n",
       "  <line x1=\"146\" y1=\"22\" x2=\"146\" y2=\"142\" />\n",
       "  <line x1=\"149\" y1=\"22\" x2=\"149\" y2=\"142\" />\n",
       "  <line x1=\"152\" y1=\"22\" x2=\"152\" y2=\"142\" style=\"stroke-width:2\" />\n",
       "\n",
       "  <!-- Colored Rectangle -->\n",
       "  <polygon points=\"32.704037,22.704037 152.704037,22.704037 152.704037,142.704037 32.704037,142.704037\" style=\"fill:#ECB172A0;stroke-width:0\"/>\n",
       "\n",
       "  <!-- Text -->\n",
       "  <text x=\"92.704037\" y=\"162.704037\" font-size=\"1.0rem\" font-weight=\"100\" text-anchor=\"middle\" >10000</text>\n",
       "  <text x=\"172.704037\" y=\"82.704037\" font-size=\"1.0rem\" font-weight=\"100\" text-anchor=\"middle\" transform=\"rotate(-90,172.704037,82.704037)\">10000</text>\n",
       "  <text x=\"11.352019\" y=\"151.352019\" font-size=\"1.0rem\" font-weight=\"100\" text-anchor=\"middle\" transform=\"rotate(45,11.352019,151.352019)\">1000</text>\n",
       "</svg>\n",
       "</td>\n",
       "</tr>\n",
       "</table>"
      ],
      "text/plain": [
       "dask.array<random_sample, shape=(1000, 10000, 10000), dtype=float64, chunksize=(250, 250, 250), chunktype=numpy.ndarray>"
      ]
     },
     "execution_count": 4,
     "metadata": {},
     "output_type": "execute_result"
    }
   ],
   "source": [
    "x = da.random.random((1000,10000,10000))\n",
    "x"
   ]
  },
  {
   "cell_type": "code",
   "execution_count": 5,
   "metadata": {},
   "outputs": [
    {
     "data": {
      "text/html": [
       "<table>\n",
       "<tr>\n",
       "<td>\n",
       "<table>\n",
       "  <thead>\n",
       "    <tr><td> </td><th> Array </th><th> Chunk </th></tr>\n",
       "  </thead>\n",
       "  <tbody>\n",
       "    <tr><th> Bytes </th><td> 80.00 MB </td> <td> 500.00 kB </td></tr>\n",
       "    <tr><th> Shape </th><td> (1000, 10000) </td> <td> (250, 250) </td></tr>\n",
       "    <tr><th> Count </th><td> 15040 Tasks </td><td> 160 Chunks </td></tr>\n",
       "    <tr><th> Type </th><td> float64 </td><td> numpy.ndarray </td></tr>\n",
       "  </tbody>\n",
       "</table>\n",
       "</td>\n",
       "<td>\n",
       "<svg width=\"170\" height=\"88\" style=\"stroke:rgb(0,0,0);stroke-width:1\" >\n",
       "\n",
       "  <!-- Horizontal lines -->\n",
       "  <line x1=\"0\" y1=\"0\" x2=\"120\" y2=\"0\" style=\"stroke-width:2\" />\n",
       "  <line x1=\"0\" y1=\"9\" x2=\"120\" y2=\"9\" />\n",
       "  <line x1=\"0\" y1=\"19\" x2=\"120\" y2=\"19\" />\n",
       "  <line x1=\"0\" y1=\"28\" x2=\"120\" y2=\"28\" />\n",
       "  <line x1=\"0\" y1=\"38\" x2=\"120\" y2=\"38\" style=\"stroke-width:2\" />\n",
       "\n",
       "  <!-- Vertical lines -->\n",
       "  <line x1=\"0\" y1=\"0\" x2=\"0\" y2=\"38\" style=\"stroke-width:2\" />\n",
       "  <line x1=\"3\" y1=\"0\" x2=\"3\" y2=\"38\" />\n",
       "  <line x1=\"6\" y1=\"0\" x2=\"6\" y2=\"38\" />\n",
       "  <line x1=\"9\" y1=\"0\" x2=\"9\" y2=\"38\" />\n",
       "  <line x1=\"12\" y1=\"0\" x2=\"12\" y2=\"38\" />\n",
       "  <line x1=\"15\" y1=\"0\" x2=\"15\" y2=\"38\" />\n",
       "  <line x1=\"18\" y1=\"0\" x2=\"18\" y2=\"38\" />\n",
       "  <line x1=\"21\" y1=\"0\" x2=\"21\" y2=\"38\" />\n",
       "  <line x1=\"24\" y1=\"0\" x2=\"24\" y2=\"38\" />\n",
       "  <line x1=\"27\" y1=\"0\" x2=\"27\" y2=\"38\" />\n",
       "  <line x1=\"30\" y1=\"0\" x2=\"30\" y2=\"38\" />\n",
       "  <line x1=\"33\" y1=\"0\" x2=\"33\" y2=\"38\" />\n",
       "  <line x1=\"36\" y1=\"0\" x2=\"36\" y2=\"38\" />\n",
       "  <line x1=\"39\" y1=\"0\" x2=\"39\" y2=\"38\" />\n",
       "  <line x1=\"42\" y1=\"0\" x2=\"42\" y2=\"38\" />\n",
       "  <line x1=\"45\" y1=\"0\" x2=\"45\" y2=\"38\" />\n",
       "  <line x1=\"48\" y1=\"0\" x2=\"48\" y2=\"38\" />\n",
       "  <line x1=\"51\" y1=\"0\" x2=\"51\" y2=\"38\" />\n",
       "  <line x1=\"54\" y1=\"0\" x2=\"54\" y2=\"38\" />\n",
       "  <line x1=\"57\" y1=\"0\" x2=\"57\" y2=\"38\" />\n",
       "  <line x1=\"60\" y1=\"0\" x2=\"60\" y2=\"38\" />\n",
       "  <line x1=\"63\" y1=\"0\" x2=\"63\" y2=\"38\" />\n",
       "  <line x1=\"66\" y1=\"0\" x2=\"66\" y2=\"38\" />\n",
       "  <line x1=\"69\" y1=\"0\" x2=\"69\" y2=\"38\" />\n",
       "  <line x1=\"72\" y1=\"0\" x2=\"72\" y2=\"38\" />\n",
       "  <line x1=\"75\" y1=\"0\" x2=\"75\" y2=\"38\" />\n",
       "  <line x1=\"78\" y1=\"0\" x2=\"78\" y2=\"38\" />\n",
       "  <line x1=\"81\" y1=\"0\" x2=\"81\" y2=\"38\" />\n",
       "  <line x1=\"84\" y1=\"0\" x2=\"84\" y2=\"38\" />\n",
       "  <line x1=\"87\" y1=\"0\" x2=\"87\" y2=\"38\" />\n",
       "  <line x1=\"90\" y1=\"0\" x2=\"90\" y2=\"38\" />\n",
       "  <line x1=\"93\" y1=\"0\" x2=\"93\" y2=\"38\" />\n",
       "  <line x1=\"96\" y1=\"0\" x2=\"96\" y2=\"38\" />\n",
       "  <line x1=\"99\" y1=\"0\" x2=\"99\" y2=\"38\" />\n",
       "  <line x1=\"102\" y1=\"0\" x2=\"102\" y2=\"38\" />\n",
       "  <line x1=\"105\" y1=\"0\" x2=\"105\" y2=\"38\" />\n",
       "  <line x1=\"108\" y1=\"0\" x2=\"108\" y2=\"38\" />\n",
       "  <line x1=\"111\" y1=\"0\" x2=\"111\" y2=\"38\" />\n",
       "  <line x1=\"114\" y1=\"0\" x2=\"114\" y2=\"38\" />\n",
       "  <line x1=\"117\" y1=\"0\" x2=\"117\" y2=\"38\" />\n",
       "  <line x1=\"120\" y1=\"0\" x2=\"120\" y2=\"38\" style=\"stroke-width:2\" />\n",
       "\n",
       "  <!-- Colored Rectangle -->\n",
       "  <polygon points=\"0.000000,0.000000 120.000000,0.000000 120.000000,38.596863 0.000000,38.596863\" style=\"fill:#ECB172A0;stroke-width:0\"/>\n",
       "\n",
       "  <!-- Text -->\n",
       "  <text x=\"60.000000\" y=\"58.596863\" font-size=\"1.0rem\" font-weight=\"100\" text-anchor=\"middle\" >10000</text>\n",
       "  <text x=\"140.000000\" y=\"19.298432\" font-size=\"1.0rem\" font-weight=\"100\" text-anchor=\"middle\" transform=\"rotate(-90,140.000000,19.298432)\">1000</text>\n",
       "</svg>\n",
       "</td>\n",
       "</tr>\n",
       "</table>"
      ],
      "text/plain": [
       "dask.array<sum-aggregate, shape=(1000, 10000), dtype=float64, chunksize=(250, 250), chunktype=numpy.ndarray>"
      ]
     },
     "execution_count": 5,
     "metadata": {},
     "output_type": "execute_result"
    }
   ],
   "source": [
    "y = x.sum(axis=1)\n",
    "y"
   ]
  },
  {
   "cell_type": "code",
   "execution_count": 6,
   "metadata": {},
   "outputs": [
    {
     "data": {
      "text/html": [
       "<table>\n",
       "<tr>\n",
       "<td>\n",
       "<table>\n",
       "  <thead>\n",
       "    <tr><td> </td><th> Array </th><th> Chunk </th></tr>\n",
       "  </thead>\n",
       "  <tbody>\n",
       "    <tr><th> Bytes </th><td> 80.00 MB </td> <td> 500.00 kB </td></tr>\n",
       "    <tr><th> Shape </th><td> (1000, 10000) </td> <td> (250, 250) </td></tr>\n",
       "    <tr><th> Count </th><td> 160 Tasks </td><td> 160 Chunks </td></tr>\n",
       "    <tr><th> Type </th><td> float64 </td><td> numpy.ndarray </td></tr>\n",
       "  </tbody>\n",
       "</table>\n",
       "</td>\n",
       "<td>\n",
       "<svg width=\"170\" height=\"88\" style=\"stroke:rgb(0,0,0);stroke-width:1\" >\n",
       "\n",
       "  <!-- Horizontal lines -->\n",
       "  <line x1=\"0\" y1=\"0\" x2=\"120\" y2=\"0\" style=\"stroke-width:2\" />\n",
       "  <line x1=\"0\" y1=\"9\" x2=\"120\" y2=\"9\" />\n",
       "  <line x1=\"0\" y1=\"19\" x2=\"120\" y2=\"19\" />\n",
       "  <line x1=\"0\" y1=\"28\" x2=\"120\" y2=\"28\" />\n",
       "  <line x1=\"0\" y1=\"38\" x2=\"120\" y2=\"38\" style=\"stroke-width:2\" />\n",
       "\n",
       "  <!-- Vertical lines -->\n",
       "  <line x1=\"0\" y1=\"0\" x2=\"0\" y2=\"38\" style=\"stroke-width:2\" />\n",
       "  <line x1=\"3\" y1=\"0\" x2=\"3\" y2=\"38\" />\n",
       "  <line x1=\"6\" y1=\"0\" x2=\"6\" y2=\"38\" />\n",
       "  <line x1=\"9\" y1=\"0\" x2=\"9\" y2=\"38\" />\n",
       "  <line x1=\"12\" y1=\"0\" x2=\"12\" y2=\"38\" />\n",
       "  <line x1=\"15\" y1=\"0\" x2=\"15\" y2=\"38\" />\n",
       "  <line x1=\"18\" y1=\"0\" x2=\"18\" y2=\"38\" />\n",
       "  <line x1=\"21\" y1=\"0\" x2=\"21\" y2=\"38\" />\n",
       "  <line x1=\"24\" y1=\"0\" x2=\"24\" y2=\"38\" />\n",
       "  <line x1=\"27\" y1=\"0\" x2=\"27\" y2=\"38\" />\n",
       "  <line x1=\"30\" y1=\"0\" x2=\"30\" y2=\"38\" />\n",
       "  <line x1=\"33\" y1=\"0\" x2=\"33\" y2=\"38\" />\n",
       "  <line x1=\"36\" y1=\"0\" x2=\"36\" y2=\"38\" />\n",
       "  <line x1=\"39\" y1=\"0\" x2=\"39\" y2=\"38\" />\n",
       "  <line x1=\"42\" y1=\"0\" x2=\"42\" y2=\"38\" />\n",
       "  <line x1=\"45\" y1=\"0\" x2=\"45\" y2=\"38\" />\n",
       "  <line x1=\"48\" y1=\"0\" x2=\"48\" y2=\"38\" />\n",
       "  <line x1=\"51\" y1=\"0\" x2=\"51\" y2=\"38\" />\n",
       "  <line x1=\"54\" y1=\"0\" x2=\"54\" y2=\"38\" />\n",
       "  <line x1=\"57\" y1=\"0\" x2=\"57\" y2=\"38\" />\n",
       "  <line x1=\"60\" y1=\"0\" x2=\"60\" y2=\"38\" />\n",
       "  <line x1=\"63\" y1=\"0\" x2=\"63\" y2=\"38\" />\n",
       "  <line x1=\"66\" y1=\"0\" x2=\"66\" y2=\"38\" />\n",
       "  <line x1=\"69\" y1=\"0\" x2=\"69\" y2=\"38\" />\n",
       "  <line x1=\"72\" y1=\"0\" x2=\"72\" y2=\"38\" />\n",
       "  <line x1=\"75\" y1=\"0\" x2=\"75\" y2=\"38\" />\n",
       "  <line x1=\"78\" y1=\"0\" x2=\"78\" y2=\"38\" />\n",
       "  <line x1=\"81\" y1=\"0\" x2=\"81\" y2=\"38\" />\n",
       "  <line x1=\"84\" y1=\"0\" x2=\"84\" y2=\"38\" />\n",
       "  <line x1=\"87\" y1=\"0\" x2=\"87\" y2=\"38\" />\n",
       "  <line x1=\"90\" y1=\"0\" x2=\"90\" y2=\"38\" />\n",
       "  <line x1=\"93\" y1=\"0\" x2=\"93\" y2=\"38\" />\n",
       "  <line x1=\"96\" y1=\"0\" x2=\"96\" y2=\"38\" />\n",
       "  <line x1=\"99\" y1=\"0\" x2=\"99\" y2=\"38\" />\n",
       "  <line x1=\"102\" y1=\"0\" x2=\"102\" y2=\"38\" />\n",
       "  <line x1=\"105\" y1=\"0\" x2=\"105\" y2=\"38\" />\n",
       "  <line x1=\"108\" y1=\"0\" x2=\"108\" y2=\"38\" />\n",
       "  <line x1=\"111\" y1=\"0\" x2=\"111\" y2=\"38\" />\n",
       "  <line x1=\"114\" y1=\"0\" x2=\"114\" y2=\"38\" />\n",
       "  <line x1=\"117\" y1=\"0\" x2=\"117\" y2=\"38\" />\n",
       "  <line x1=\"120\" y1=\"0\" x2=\"120\" y2=\"38\" style=\"stroke-width:2\" />\n",
       "\n",
       "  <!-- Colored Rectangle -->\n",
       "  <polygon points=\"0.000000,0.000000 120.000000,0.000000 120.000000,38.596863 0.000000,38.596863\" style=\"fill:#ECB172A0;stroke-width:0\"/>\n",
       "\n",
       "  <!-- Text -->\n",
       "  <text x=\"60.000000\" y=\"58.596863\" font-size=\"1.0rem\" font-weight=\"100\" text-anchor=\"middle\" >10000</text>\n",
       "  <text x=\"140.000000\" y=\"19.298432\" font-size=\"1.0rem\" font-weight=\"100\" text-anchor=\"middle\" transform=\"rotate(-90,140.000000,19.298432)\">1000</text>\n",
       "</svg>\n",
       "</td>\n",
       "</tr>\n",
       "</table>"
      ],
      "text/plain": [
       "dask.array<sum-aggregate, shape=(1000, 10000), dtype=float64, chunksize=(250, 250), chunktype=numpy.ndarray>"
      ]
     },
     "execution_count": 6,
     "metadata": {},
     "output_type": "execute_result"
    }
   ],
   "source": [
    "y = y.persist()\n",
    "y"
   ]
  },
  {
   "cell_type": "markdown",
   "metadata": {},
   "source": [
    "### Problem !!! Autoscaling didin't work"
   ]
  },
  {
   "cell_type": "code",
   "execution_count": null,
   "metadata": {},
   "outputs": [],
   "source": [
    "c.cancel(y)"
   ]
  }
 ],
 "metadata": {
  "kernelspec": {
   "display_name": "Python 3",
   "language": "python",
   "name": "python3"
  },
  "language_info": {
   "codemirror_mode": {
    "name": "ipython",
    "version": 3
   },
   "file_extension": ".py",
   "mimetype": "text/x-python",
   "name": "python",
   "nbconvert_exporter": "python",
   "pygments_lexer": "ipython3",
   "version": "3.8.2"
  }
 },
 "nbformat": 4,
 "nbformat_minor": 4
}
