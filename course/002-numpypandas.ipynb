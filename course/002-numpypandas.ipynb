{
 "cells": [
  {
   "cell_type": "code",
   "execution_count": null,
   "metadata": {},
   "outputs": [],
   "source": [
    "import numpy as np\n",
    "import pandas as pd"
   ]
  },
  {
   "cell_type": "code",
   "execution_count": null,
   "metadata": {
    "jupyter": {
     "source_hidden": true
    }
   },
   "outputs": [],
   "source": [
    "questions = {\n",
    "    \"Q1\": \"I would never audition to be on a game show.\",\n",
    "    \"Q2\": \"I am not much of a flirt.\",\n",
    "    \"Q3\": \"I have to psych myself up before I am brave enough to make a phone call.\",\n",
    "    \"Q4\": \"I would hate living with room mates.\",\n",
    "    \"Q5\": \"I mostly listen to people in conversations.\",\n",
    "    \"Q6\": \"I reveal little about myself.\",\n",
    "    \"Q7\": \"I spend hours alone with my hobbies.\",\n",
    "    \"Q8\": \"I prefer to eat alone.\",\n",
    "    \"Q9\": \"I have trouble finding people I want to be friends with.\",\n",
    "    \"Q10\": \"I prefer to socialize 1 on 1, than with a group.\",\n",
    "    \"Q11\": \"I sometimes speak so quietly people sometimes have trouble hearing me.\",\n",
    "    \"Q12\": \"I do not like to get my picture taken.\",\n",
    "    \"Q13\": \"I can keep a conversation going with anyone about anything.\",\n",
    "    \"Q14\": \"I want a huge social circle.\",\n",
    "    \"Q15\": \"I talk to people when waiting in lines.\",\n",
    "    \"Q16\": \"I act wild and crazy.\",\n",
    "    \"Q17\": \"I am a bundle of joy.\",\n",
    "    \"Q18\": \"I love excitement.\",\n",
    "    \"Q19\": \"I'd like to be in a parade.\",\n",
    "    \"Q20\": \"I am a flamboyant person.\",\n",
    "    \"Q21\": \"I am good at making impromptu speeches.\",\n",
    "    \"Q22\": \"I naturally emerge as a leader.\",\n",
    "    \"Q23\": \"I am spontaneous.\",\n",
    "    \"Q24\": \"I would enjoy being a sports team coach.\",\n",
    "    \"Q25\": \"I have a strong personality.\",\n",
    "    \"Q26\": \"I am excited by many different activities.\",\n",
    "    \"Q27\": \"I spend most of my time in fantasy worlds.\",\n",
    "    \"Q28\": \"I often feel lucky.\",\n",
    "    \"Q29\": \"I don't make eye contact when I talk with people.\",\n",
    "    \"Q30\": \"I have a monotone voice.\",\n",
    "    \"Q31\": \"I am a touchy feely person.\",\n",
    "    \"Q32\": \"I would like to try bungee jumping.\",\n",
    "    \"Q33\": \"I tend to be admired by others.\",\n",
    "    \"Q34\": \"I make big physical movements whenever I get excited.\",\n",
    "    \"Q35\": \"I am brave.\",\n",
    "    \"Q36\": \"I am always in the moment.\",\n",
    "    \"Q37\": \"I am involved with my community.\",\n",
    "    \"Q38\": \"I am good an entertaining children.\",\n",
    "    \"Q39\": \"I like formal occasions.\",\n",
    "    \"Q40\": \"I would have to be lost for a very long time before asking help.\",\n",
    "    \"Q41\": \"I do not care about sports.\",\n",
    "    \"Q42\": \"I prefer individual sports to team sports.\",\n",
    "    \"Q43\": \"My parents know nothing about my love life.\",\n",
    "    \"Q44\": \"I mostly listen to people in conversations.\",\n",
    "    \"Q45\": \"I never leave the door to my room open.\",\n",
    "    \"Q46\": \"I make a lot of hand motions when I talk.\",\n",
    "    \"Q47\": \"I take lots of pictures of my activities.\",\n",
    "    \"Q48\": \"When I was a child, I put on fake concerts and plays with my friends.\",\n",
    "    \"Q49\": \"I really like dancing.\",\n",
    "    \"Q50\": \"I would have difficulty describing myself to someone.\",\n",
    "    \"Q51\": \"My life would not make a good story.\",\n",
    "    \"Q52\": \"I am hesitant to give suggestions.\",\n",
    "    \"Q53\": \"I tire out quickly.\",\n",
    "    \"Q54\": \"I never tell people the important things about myself.\",\n",
    "    \"Q55\": \"I avoid going to unknown places.\",\n",
    "    \"Q56\": \"Going to the doctor is always awkward for me.\",\n",
    "    \"Q57\": \"I have not kept up with my old friends over the years.\",\n",
    "    \"Q58\": \"I have not been joyful for quite some time.\",\n",
    "    \"Q59\": \"I hate to ask for help.\",\n",
    "    \"Q60\": \"If I were to die, I would not want there to be a memorial for me.\",\n",
    "    \"Q61\": \"I hate shopping.\",\n",
    "    \"Q62\": \"I love to do impressions.\",\n",
    "    \"Q63\": \"I would be pleased if asked to speak at a funeral.\",\n",
    "    \"Q64\": \"I would never go to a dance club.\",\n",
    "    \"Q65\": \"I find it very hard to tell people I find them attractive.\",\n",
    "    \"Q66\": \"I hate people.\",\n",
    "    \"Q67\": \"I was an outcast in school.\",\n",
    "    \"Q68\": \"I would enjoy being a librarian.\",\n",
    "    \"Q69\": \"I am usually not single.\",\n",
    "    \"Q70\": \"I am able to stand up for myself.\",\n",
    "    \"Q71\": \"I would go surfing regularly if I lived on a beach.\",\n",
    "    \"Q72\": \"I have wanted to be a stand-up comedian.\",\n",
    "    \"Q73\": \"I am a high status person.\",\n",
    "    \"Q74\": \"I work out regularly.\",\n",
    "    \"Q75\": \"I laugh a lot.\",\n",
    "    \"Q76\": \"I like pranks.\",\n",
    "    \"Q77\": \"I am happy with my life.\",\n",
    "    \"Q78\": \"I am never at a loss for words.\",\n",
    "    \"Q79\": \"I feel healthy and vibrant most of the time.\",\n",
    "    \"Q80\": \"I love large parties.\",\n",
    "    \"Q81\": \"I am quiet around strangers.\",\n",
    "    \"Q82\": \"I don't talk a lot.\",\n",
    "    \"Q83\": \"I keep in the background.\",\n",
    "    \"Q84\": \"I don't like to draw attention to myself.\",\n",
    "    \"Q85\": \"I have little to say.\",\n",
    "    \"Q86\": \"I often feel blue.\",\n",
    "    \"Q87\": \"I am not really interested in others.\",\n",
    "    \"Q88\": \"I make people feel at ease.\",\n",
    "    \"Q89\": \"I don't mind being the center of attention.\",\n",
    "    \"Q90\": \"I start conversations.\",\n",
    "    \"Q91\": \"I talk to a lot of different people at parties.\",\n",
    "}"
   ]
  },
  {
   "cell_type": "code",
   "execution_count": null,
   "metadata": {},
   "outputs": [],
   "source": [
    "questions = np.array(list(questions.values()))"
   ]
  },
  {
   "cell_type": "code",
   "execution_count": null,
   "metadata": {},
   "outputs": [],
   "source": [
    "questions[1]"
   ]
  },
  {
   "cell_type": "code",
   "execution_count": null,
   "metadata": {},
   "outputs": [],
   "source": [
    "data = np.genfromtxt(\"data/dataset.csv\", dtype=int, delimiter=\"\\t\")"
   ]
  },
  {
   "cell_type": "code",
   "execution_count": null,
   "metadata": {},
   "outputs": [],
   "source": [
    "data = data[1:, :]"
   ]
  },
  {
   "cell_type": "code",
   "execution_count": null,
   "metadata": {},
   "outputs": [],
   "source": [
    "print(data)\n",
    "print(data.shape)\n",
    "print(data.dtype)"
   ]
  },
  {
   "cell_type": "code",
   "execution_count": null,
   "metadata": {},
   "outputs": [],
   "source": [
    "questions[[0, 1, 2]]"
   ]
  },
  {
   "cell_type": "code",
   "execution_count": null,
   "metadata": {},
   "outputs": [],
   "source": [
    "data.shape"
   ]
  },
  {
   "cell_type": "code",
   "execution_count": null,
   "metadata": {},
   "outputs": [],
   "source": [
    "data[data < 12000].shape"
   ]
  },
  {
   "cell_type": "code",
   "execution_count": null,
   "metadata": {},
   "outputs": [],
   "source": [
    "my_array = np.array(\n",
    "    [[10, 2, 13], [21, 22, 23], [31, 32, 33], [10, 57, 20], [20, 20, 20], [101, 91, 10]]\n",
    ")"
   ]
  },
  {
   "cell_type": "code",
   "execution_count": null,
   "metadata": {},
   "outputs": [],
   "source": [
    "def my_function(x):\n",
    "#     position = np.argmax(x)\n",
    "    position = np.max(x)\n",
    "\n",
    "    return position"
   ]
  },
  {
   "cell_type": "code",
   "execution_count": null,
   "metadata": {},
   "outputs": [],
   "source": [
    "print(np.apply_along_axis(my_function, axis=0, arr=my_array))"
   ]
  },
  {
   "cell_type": "code",
   "execution_count": null,
   "metadata": {},
   "outputs": [],
   "source": [
    "df = pd.DataFrame(my_array)"
   ]
  },
  {
   "cell_type": "code",
   "execution_count": null,
   "metadata": {},
   "outputs": [],
   "source": [
    "def my_function(x):\n",
    "#     z= x.idxmax()\n",
    "#     print(x[0], x[1], x[2])\n",
    "    z= x.max()\n",
    "\n",
    "    return z"
   ]
  },
  {
   "cell_type": "code",
   "execution_count": null,
   "metadata": {},
   "outputs": [],
   "source": [
    "print(df.apply(my_function, axis=0))"
   ]
  },
  {
   "cell_type": "code",
   "execution_count": null,
   "metadata": {},
   "outputs": [],
   "source": [
    "df['yeni'] =df.apply(my_function, axis=1)"
   ]
  },
  {
   "cell_type": "code",
   "execution_count": null,
   "metadata": {},
   "outputs": [],
   "source": [
    "df"
   ]
  },
  {
   "cell_type": "code",
   "execution_count": null,
   "metadata": {},
   "outputs": [],
   "source": [
    "?df.nlargest"
   ]
  },
  {
   "cell_type": "code",
   "execution_count": null,
   "metadata": {},
   "outputs": [],
   "source": [
    "df.nlargest(3, 'yeni')"
   ]
  },
  {
   "cell_type": "code",
   "execution_count": null,
   "metadata": {},
   "outputs": [],
   "source": [
    "%%time\n",
    "df.nsmallest(3, 'yeni')"
   ]
  },
  {
   "cell_type": "code",
   "execution_count": null,
   "metadata": {},
   "outputs": [],
   "source": [
    "%%time\n",
    "df.sort_values('yeni', ascending=True).head(3)"
   ]
  },
  {
   "cell_type": "code",
   "execution_count": null,
   "metadata": {},
   "outputs": [],
   "source": [
    "%%time\n",
    "df_2 = pd.DataFrame(np.random.randint(0,1000000,size=(15000000, 4)), columns=list('ABCD'))"
   ]
  },
  {
   "cell_type": "code",
   "execution_count": null,
   "metadata": {},
   "outputs": [],
   "source": [
    "%%time\n",
    "df_2"
   ]
  },
  {
   "cell_type": "code",
   "execution_count": null,
   "metadata": {},
   "outputs": [],
   "source": [
    "%%time\n",
    "df_2.nlargest(5, 'D')"
   ]
  },
  {
   "cell_type": "code",
   "execution_count": null,
   "metadata": {},
   "outputs": [],
   "source": [
    "%%time\n",
    "# df_2['yeni'] =df_2.apply(my_function, axis=1)\n",
    "df_2['yeni'] =df_2.apply(lambda x: x.A+10, axis=1)"
   ]
  },
  {
   "cell_type": "code",
   "execution_count": null,
   "metadata": {},
   "outputs": [],
   "source": [
    "df_2"
   ]
  },
  {
   "cell_type": "code",
   "execution_count": null,
   "metadata": {},
   "outputs": [],
   "source": [
    "%%time\n",
    "df_2.sort_values('yeni', ascending=False).head(5)"
   ]
  },
  {
   "cell_type": "code",
   "execution_count": null,
   "metadata": {},
   "outputs": [],
   "source": [
    "%%time\n",
    "df_2.nlargest(5, 'yeni')"
   ]
  },
  {
   "cell_type": "code",
   "execution_count": null,
   "metadata": {},
   "outputs": [],
   "source": []
  }
 ],
 "metadata": {
  "kernelspec": {
   "display_name": "Python 3",
   "language": "python",
   "name": "python3"
  },
  "language_info": {
   "codemirror_mode": {
    "name": "ipython",
    "version": 3
   },
   "file_extension": ".py",
   "mimetype": "text/x-python",
   "name": "python",
   "nbconvert_exporter": "python",
   "pygments_lexer": "ipython3",
   "version": "3.8.2"
  }
 },
 "nbformat": 4,
 "nbformat_minor": 4
}
