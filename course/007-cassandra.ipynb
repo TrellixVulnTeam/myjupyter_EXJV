{
 "cells": [
  {
   "cell_type": "code",
   "execution_count": 2,
   "metadata": {},
   "outputs": [],
   "source": [
    "from dask_cassandra_loader import Loader\n",
    "\n",
    "dask_cassandra_loader = Loader()\n"
   ]
  },
  {
   "cell_type": "code",
   "execution_count": 3,
   "metadata": {},
   "outputs": [],
   "source": [
    "keyspace = 'tutorial'\n",
    "cluster = ['127.0.0.1']"
   ]
  },
  {
   "cell_type": "code",
   "execution_count": 4,
   "metadata": {},
   "outputs": [],
   "source": [
    "dask_cassandra_loader.connect_to_cassandra(cluster,\n",
    "                                           keyspace,\n",
    "                                           username='cassandra',\n",
    "                                           password='cassandra')"
   ]
  },
  {
   "cell_type": "code",
   "execution_count": 5,
   "metadata": {},
   "outputs": [
    {
     "name": "stderr",
     "output_type": "stream",
     "text": [
      "distributed.scheduler - INFO - Clear task state\n",
      "distributed.scheduler - INFO -   Scheduler at: inproc://192.168.16.112/4611/1\n",
      "distributed.scheduler - INFO -   dashboard at:            localhost:8787\n",
      "distributed.worker - INFO -       Start worker at: inproc://192.168.16.112/4611/3\n",
      "distributed.worker - INFO -          Listening to:       inproc192.168.16.112\n",
      "distributed.worker - INFO -          dashboard at:       192.168.16.112:41733\n",
      "distributed.worker - INFO - Waiting to connect to: inproc://192.168.16.112/4611/1\n",
      "distributed.worker - INFO - -------------------------------------------------\n",
      "distributed.worker - INFO -               Threads:                         12\n",
      "distributed.worker - INFO -                Memory:                   26.67 GB\n",
      "distributed.worker - INFO -       Local Directory: /home/dev/Practice/dask/myjupyter/course/dask-worker-space/worker-dwssikx2\n",
      "distributed.worker - INFO - -------------------------------------------------\n",
      "distributed.scheduler - INFO - Register worker <Worker 'inproc://192.168.16.112/4611/3', name: 0, memory: 0, processing: 0>\n",
      "distributed.scheduler - INFO - Starting worker compute stream, inproc://192.168.16.112/4611/3\n",
      "distributed.core - INFO - Starting established connection\n",
      "distributed.worker - INFO -         Registered to: inproc://192.168.16.112/4611/1\n",
      "distributed.worker - INFO - -------------------------------------------------\n",
      "distributed.core - INFO - Starting established connection\n",
      "distributed.scheduler - INFO - Receive client connection: Client-07e572a5-f862-11ea-9203-00155d1e00b7\n",
      "distributed.core - INFO - Starting established connection\n"
     ]
    }
   ],
   "source": [
    "dask_cassandra_loader.connect_to_local_dask()"
   ]
  },
  {
   "cell_type": "code",
   "execution_count": 6,
   "metadata": {},
   "outputs": [],
   "source": [
    "table = dask_cassandra_loader.load_cassandra_table('tab1',\n",
    "                                         ['id', 'year', 'month', 'day'],\n",
    "                                         [('day', 'equal', [8])],\n",
    "                                         [('id', [18]), ('year', [2018]),\n",
    "                                          ('month', [11])],\n",
    "                                         force=False)"
   ]
  },
  {
   "cell_type": "code",
   "execution_count": 7,
   "metadata": {},
   "outputs": [],
   "source": [
    "if table is None:\n",
    "    raise AssertionError(\"Table is not supposed to be None!!!\")\n",
    "\n",
    "if table.data is None:\n",
    "    raise AssertionError(\"Table.data is not supposed to be None!!!\")"
   ]
  },
  {
   "cell_type": "code",
   "execution_count": 8,
   "metadata": {},
   "outputs": [],
   "source": [
    "local_table = table.data.compute()"
   ]
  },
  {
   "cell_type": "code",
   "execution_count": 9,
   "metadata": {},
   "outputs": [
    {
     "name": "stdout",
     "output_type": "stream",
     "text": [
      "   id  year  month  day\n",
      "0  18  2018     11    8\n"
     ]
    }
   ],
   "source": [
    "print(local_table.head())"
   ]
  },
  {
   "cell_type": "code",
   "execution_count": 15,
   "metadata": {},
   "outputs": [],
   "source": [
    "table2 = dask_cassandra_loader.load_cassandra_table('tab1',\n",
    "                                         ['id', 'year', 'month', 'day'],[],[],\n",
    "                                         force=True)"
   ]
  },
  {
   "cell_type": "code",
   "execution_count": 16,
   "metadata": {},
   "outputs": [],
   "source": [
    "local_table2 = table2.data.compute()"
   ]
  },
  {
   "cell_type": "code",
   "execution_count": 17,
   "metadata": {},
   "outputs": [
    {
     "data": {
      "text/html": [
       "<div>\n",
       "<style scoped>\n",
       "    .dataframe tbody tr th:only-of-type {\n",
       "        vertical-align: middle;\n",
       "    }\n",
       "\n",
       "    .dataframe tbody tr th {\n",
       "        vertical-align: top;\n",
       "    }\n",
       "\n",
       "    .dataframe thead th {\n",
       "        text-align: right;\n",
       "    }\n",
       "</style>\n",
       "<table border=\"1\" class=\"dataframe\">\n",
       "  <thead>\n",
       "    <tr style=\"text-align: right;\">\n",
       "      <th></th>\n",
       "      <th>id</th>\n",
       "      <th>year</th>\n",
       "      <th>month</th>\n",
       "      <th>day</th>\n",
       "    </tr>\n",
       "  </thead>\n",
       "  <tbody>\n",
       "    <tr>\n",
       "      <th>0</th>\n",
       "      <td>18</td>\n",
       "      <td>2018</td>\n",
       "      <td>12</td>\n",
       "      <td>8</td>\n",
       "    </tr>\n",
       "    <tr>\n",
       "      <th>0</th>\n",
       "      <td>18</td>\n",
       "      <td>2018</td>\n",
       "      <td>11</td>\n",
       "      <td>8</td>\n",
       "    </tr>\n",
       "  </tbody>\n",
       "</table>\n",
       "</div>"
      ],
      "text/plain": [
       "   id  year  month  day\n",
       "0  18  2018     12    8\n",
       "0  18  2018     11    8"
      ]
     },
     "execution_count": 17,
     "metadata": {},
     "output_type": "execute_result"
    }
   ],
   "source": [
    "local_table2.head()"
   ]
  },
  {
   "cell_type": "code",
   "execution_count": null,
   "metadata": {},
   "outputs": [],
   "source": []
  }
 ],
 "metadata": {
  "kernelspec": {
   "display_name": "Python 3",
   "language": "python",
   "name": "python3"
  },
  "language_info": {
   "codemirror_mode": {
    "name": "ipython",
    "version": 3
   },
   "file_extension": ".py",
   "mimetype": "text/x-python",
   "name": "python",
   "nbconvert_exporter": "python",
   "pygments_lexer": "ipython3",
   "version": "3.8.2"
  }
 },
 "nbformat": 4,
 "nbformat_minor": 4
}
