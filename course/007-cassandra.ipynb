{
 "cells": [
  {
   "cell_type": "code",
   "execution_count": 1,
   "metadata": {},
   "outputs": [
    {
     "data": {
      "text/html": [
       "<table style=\"border: 2px solid white;\">\n",
       "<tr>\n",
       "<td style=\"vertical-align: top; border: 0px solid white\">\n",
       "<h3 style=\"text-align: left;\">Client</h3>\n",
       "<ul style=\"text-align: left; list-style: none; margin: 0; padding: 0;\">\n",
       "  <li><b>Scheduler: </b>tcp://192.168.254.34:8786</li>\n",
       "  <li><b>Dashboard: </b><a href='http://192.168.254.34:8787/status' target='_blank'>http://192.168.254.34:8787/status</a></li>\n",
       "</ul>\n",
       "</td>\n",
       "<td style=\"vertical-align: top; border: 0px solid white\">\n",
       "<h3 style=\"text-align: left;\">Cluster</h3>\n",
       "<ul style=\"text-align: left; list-style:none; margin: 0; padding: 0;\">\n",
       "  <li><b>Workers: </b>2</li>\n",
       "  <li><b>Cores: </b>24</li>\n",
       "  <li><b>Memory: </b>53.34 GB</li>\n",
       "</ul>\n",
       "</td>\n",
       "</tr>\n",
       "</table>"
      ],
      "text/plain": [
       "<Client: 'tcp://192.168.254.34:8786' processes=2 threads=24, memory=53.34 GB>"
      ]
     },
     "execution_count": 1,
     "metadata": {},
     "output_type": "execute_result"
    }
   ],
   "source": [
    "from dask.distributed import Client, progress\n",
    "\n",
    "client = Client(\"tcp://192.168.254.34:8786\")\n",
    "# client = Client(processes=False, threads_per_worker=3, n_workers=4, memory_limit=\"10GB\")\n",
    "# client = Client(n_workers=4)\n",
    "\n",
    "client"
   ]
  },
  {
   "cell_type": "code",
   "execution_count": 2,
   "metadata": {},
   "outputs": [],
   "source": [
    "from dask_cassandra_loader import Loader\n",
    "\n",
    "dask_cassandra_loader = Loader()\n"
   ]
  },
  {
   "cell_type": "markdown",
   "metadata": {},
   "source": [
    "###  cassandra ornegi çalıtırma\n",
    "\n",
    "wget https://dask-cassandra-loader.readthedocs.io/en/latest/_downloads/5f6a89aeb41f1a7e7bdcb0b51bd37a76/tutorial.cql\n",
    "\n",
    "docker run --name cassandra-server -p 9042:9042 -d -v bitcassvol:/bitnami bitnami/cassandra:latest\n",
    "\n",
    "docker run --name castest -it --rm bitnami/cassandra:latest bash\n",
    "\n",
    "#### hostta\n",
    "docker cp tutorial.cql castest:/\n",
    "\n",
    "#### castest container'ında\n",
    "HOST_IP=10.151.255.101\n",
    "cqlsh -u cassandra -p cassandra $HOST_IP -e \"create keyspace tutorial with replication = {'class': 'SimpleStrategy', 'replication_factor': 1};\"\n",
    "\n",
    "cqlsh -u cassandra -p cassandra $HOST_IP --keyspace=tutorial -f tutorial.cql\n"
   ]
  },
  {
   "cell_type": "code",
   "execution_count": 3,
   "metadata": {},
   "outputs": [],
   "source": [
    "HOST_IP=\"10.151.255.101\"\n",
    "HOST_IP=\"10.151.255.101\"\n",
    "keyspace = 'tutorial'\n",
    "cluster = [HOST_IP]"
   ]
  },
  {
   "cell_type": "code",
   "execution_count": 4,
   "metadata": {},
   "outputs": [],
   "source": [
    "dask_cassandra_loader.connect_to_cassandra(cluster,\n",
    "                                           keyspace,\n",
    "                                           username='cassandra',\n",
    "                                           password='cassandra')"
   ]
  },
  {
   "cell_type": "markdown",
   "metadata": {},
   "source": [
    "dask_cassandra_loader.connect_to_local_dask()"
   ]
  },
  {
   "cell_type": "code",
   "execution_count": 3,
   "metadata": {},
   "outputs": [],
   "source": [
    "cluster = \"192.168.254.34:8786\"\n",
    "dask_cassandra_loader.connect_to_dask(cluster)"
   ]
  },
  {
   "cell_type": "code",
   "execution_count": null,
   "metadata": {},
   "outputs": [],
   "source": [
    "table = dask_cassandra_loader.load_cassandra_table('tab1',\n",
    "                                         ['id', 'year', 'month', 'day'],\n",
    "                                         [('day', 'equal', [8])],\n",
    "                                         [('id', [18]), ('year', [2018]),\n",
    "                                          ('month', [11])],\n",
    "                                         force=False)"
   ]
  },
  {
   "cell_type": "code",
   "execution_count": null,
   "metadata": {},
   "outputs": [],
   "source": [
    "if table is None:\n",
    "    raise AssertionError(\"Table is not supposed to be None!!!\")\n",
    "\n",
    "if table.data is None:\n",
    "    raise AssertionError(\"Table.data is not supposed to be None!!!\")"
   ]
  },
  {
   "cell_type": "code",
   "execution_count": null,
   "metadata": {},
   "outputs": [],
   "source": [
    "local_table = table.data.compute()"
   ]
  },
  {
   "cell_type": "code",
   "execution_count": null,
   "metadata": {},
   "outputs": [],
   "source": [
    "print(local_table.head())"
   ]
  },
  {
   "cell_type": "code",
   "execution_count": null,
   "metadata": {},
   "outputs": [],
   "source": [
    "table2 = dask_cassandra_loader.load_cassandra_table('tab1',\n",
    "                                         ['id', 'year', 'month', 'day'],[],[],\n",
    "                                         force=True)"
   ]
  },
  {
   "cell_type": "code",
   "execution_count": null,
   "metadata": {},
   "outputs": [],
   "source": [
    "local_table2 = table2.data.compute()"
   ]
  },
  {
   "cell_type": "code",
   "execution_count": null,
   "metadata": {},
   "outputs": [],
   "source": [
    "local_table2.head()"
   ]
  },
  {
   "cell_type": "markdown",
   "metadata": {},
   "source": [
    "table3 = dask_cassandra_loader.load_cassandra_table('cylinder_target_2',\n",
    "                                         ['personid', 'status', 'finger_index'],[],[],\n",
    "                                         force=True)"
   ]
  },
  {
   "cell_type": "code",
   "execution_count": 8,
   "metadata": {},
   "outputs": [],
   "source": [
    "table3 = dask_cassandra_loader.load_cassandra_table('dnm',\n",
    "                                         ['personid', 'status', 'finger_index', 'cylindersbinary'],[],[],\n",
    "                                         force=True)"
   ]
  },
  {
   "cell_type": "code",
   "execution_count": 9,
   "metadata": {},
   "outputs": [],
   "source": [
    "local_table3 = table3.data.compute()"
   ]
  },
  {
   "cell_type": "code",
   "execution_count": 14,
   "metadata": {},
   "outputs": [
    {
     "data": {
      "text/html": [
       "<div>\n",
       "<style scoped>\n",
       "    .dataframe tbody tr th:only-of-type {\n",
       "        vertical-align: middle;\n",
       "    }\n",
       "\n",
       "    .dataframe tbody tr th {\n",
       "        vertical-align: top;\n",
       "    }\n",
       "\n",
       "    .dataframe thead th {\n",
       "        text-align: right;\n",
       "    }\n",
       "</style>\n",
       "<table border=\"1\" class=\"dataframe\">\n",
       "  <thead>\n",
       "    <tr style=\"text-align: right;\">\n",
       "      <th></th>\n",
       "      <th>personid</th>\n",
       "      <th>status</th>\n",
       "      <th>finger_index</th>\n",
       "      <th>cylindersbinary</th>\n",
       "    </tr>\n",
       "  </thead>\n",
       "  <tbody>\n",
       "    <tr>\n",
       "      <th>8</th>\n",
       "      <td>413208</td>\n",
       "      <td>1</td>\n",
       "      <td>19</td>\n",
       "      <td>b'\\x00\\xff\\xff\\x00\\xf0\\xff\\xff\\x0f\\xff\\xff\\xff...</td>\n",
       "    </tr>\n",
       "    <tr>\n",
       "      <th>9</th>\n",
       "      <td>413208</td>\n",
       "      <td>1</td>\n",
       "      <td>20</td>\n",
       "      <td>b'\\x00\\xff\\xff\\x00\\xf0\\xff\\xff\\x0f\\xff\\xff\\xff...</td>\n",
       "    </tr>\n",
       "    <tr>\n",
       "      <th>0</th>\n",
       "      <td>186584</td>\n",
       "      <td>1</td>\n",
       "      <td>11</td>\n",
       "      <td>b'\\x00\\xff\\xff\\x00\\xf0\\xff\\xff\\x00\\xff\\xff\\xff...</td>\n",
       "    </tr>\n",
       "    <tr>\n",
       "      <th>1</th>\n",
       "      <td>186584</td>\n",
       "      <td>1</td>\n",
       "      <td>12</td>\n",
       "      <td>b'\\x00\\xff\\xff\\x00\\xf0\\xff\\xff\\x0f\\xf0\\xff\\xff...</td>\n",
       "    </tr>\n",
       "    <tr>\n",
       "      <th>2</th>\n",
       "      <td>186584</td>\n",
       "      <td>1</td>\n",
       "      <td>13</td>\n",
       "      <td>b'\\x00\\x00\\xf0\\x00\\x00\\x00\\xf0\\x0f\\x00\\x00\\xff...</td>\n",
       "    </tr>\n",
       "  </tbody>\n",
       "</table>\n",
       "</div>"
      ],
      "text/plain": [
       "   personid status finger_index  \\\n",
       "8    413208      1           19   \n",
       "9    413208      1           20   \n",
       "0    186584      1           11   \n",
       "1    186584      1           12   \n",
       "2    186584      1           13   \n",
       "\n",
       "                                     cylindersbinary  \n",
       "8  b'\\x00\\xff\\xff\\x00\\xf0\\xff\\xff\\x0f\\xff\\xff\\xff...  \n",
       "9  b'\\x00\\xff\\xff\\x00\\xf0\\xff\\xff\\x0f\\xff\\xff\\xff...  \n",
       "0  b'\\x00\\xff\\xff\\x00\\xf0\\xff\\xff\\x00\\xff\\xff\\xff...  \n",
       "1  b'\\x00\\xff\\xff\\x00\\xf0\\xff\\xff\\x0f\\xf0\\xff\\xff...  \n",
       "2  b'\\x00\\x00\\xf0\\x00\\x00\\x00\\xf0\\x0f\\x00\\x00\\xff...  "
      ]
     },
     "execution_count": 14,
     "metadata": {},
     "output_type": "execute_result"
    }
   ],
   "source": [
    "local_table3.tail()"
   ]
  },
  {
   "cell_type": "markdown",
   "metadata": {},
   "source": [
    "del local_table3"
   ]
  },
  {
   "cell_type": "code",
   "execution_count": 12,
   "metadata": {},
   "outputs": [
    {
     "data": {
      "text/plain": [
       "pandas.core.frame.DataFrame"
      ]
     },
     "execution_count": 12,
     "metadata": {},
     "output_type": "execute_result"
    }
   ],
   "source": [
    "type(local_table3)"
   ]
  },
  {
   "cell_type": "code",
   "execution_count": 13,
   "metadata": {},
   "outputs": [
    {
     "data": {
      "text/plain": [
       "dask_cassandra_loader.loader.Table"
      ]
     },
     "execution_count": 13,
     "metadata": {},
     "output_type": "execute_result"
    }
   ],
   "source": [
    "type(table3)"
   ]
  },
  {
   "cell_type": "code",
   "execution_count": 16,
   "metadata": {},
   "outputs": [],
   "source": [
    "import pandas as pd"
   ]
  },
  {
   "cell_type": "markdown",
   "metadata": {},
   "source": [
    "pdf = pd.DataFrame(data={'col1': [1, 2], 'col2': [3, 4]})"
   ]
  },
  {
   "cell_type": "markdown",
   "metadata": {},
   "source": [
    "pip install pyarrow#  veya fastparquet"
   ]
  },
  {
   "cell_type": "code",
   "execution_count": 24,
   "metadata": {},
   "outputs": [],
   "source": [
    "local_table3.to_parquet('local_table3.parquet.gzip',\n",
    "              compression='gzip')"
   ]
  },
  {
   "cell_type": "code",
   "execution_count": 26,
   "metadata": {},
   "outputs": [
    {
     "data": {
      "text/html": [
       "<div>\n",
       "<style scoped>\n",
       "    .dataframe tbody tr th:only-of-type {\n",
       "        vertical-align: middle;\n",
       "    }\n",
       "\n",
       "    .dataframe tbody tr th {\n",
       "        vertical-align: top;\n",
       "    }\n",
       "\n",
       "    .dataframe thead th {\n",
       "        text-align: right;\n",
       "    }\n",
       "</style>\n",
       "<table border=\"1\" class=\"dataframe\">\n",
       "  <thead>\n",
       "    <tr style=\"text-align: right;\">\n",
       "      <th></th>\n",
       "      <th>personid</th>\n",
       "      <th>status</th>\n",
       "      <th>finger_index</th>\n",
       "      <th>cylindersbinary</th>\n",
       "    </tr>\n",
       "  </thead>\n",
       "  <tbody>\n",
       "    <tr>\n",
       "      <th>0</th>\n",
       "      <td>365538</td>\n",
       "      <td>1</td>\n",
       "      <td>11</td>\n",
       "      <td>b'\\x00\\xff\\xff\\x00\\xf0\\xff\\xff\\x0f\\xff\\xff\\xff...</td>\n",
       "    </tr>\n",
       "    <tr>\n",
       "      <th>1</th>\n",
       "      <td>365538</td>\n",
       "      <td>1</td>\n",
       "      <td>12</td>\n",
       "      <td>b'\\x00\\xff\\xff\\x00\\xf0\\xff\\xff\\x0f\\xff\\xff\\xff...</td>\n",
       "    </tr>\n",
       "    <tr>\n",
       "      <th>2</th>\n",
       "      <td>365538</td>\n",
       "      <td>1</td>\n",
       "      <td>13</td>\n",
       "      <td>b'\\x00\\xff\\xff\\x00\\xf0\\xff\\xff\\x0f\\xff\\xff\\xff...</td>\n",
       "    </tr>\n",
       "    <tr>\n",
       "      <th>3</th>\n",
       "      <td>365538</td>\n",
       "      <td>1</td>\n",
       "      <td>14</td>\n",
       "      <td>b'\\x00\\xff\\xff\\x00\\xf0\\xff\\xff\\x0f\\xff\\xff\\xff...</td>\n",
       "    </tr>\n",
       "    <tr>\n",
       "      <th>4</th>\n",
       "      <td>365538</td>\n",
       "      <td>1</td>\n",
       "      <td>15</td>\n",
       "      <td>b'\\x00\\x00\\xff\\x00\\x00\\x00\\xff\\x0f\\x00\\xf0\\xff...</td>\n",
       "    </tr>\n",
       "    <tr>\n",
       "      <th>...</th>\n",
       "      <td>...</td>\n",
       "      <td>...</td>\n",
       "      <td>...</td>\n",
       "      <td>...</td>\n",
       "    </tr>\n",
       "    <tr>\n",
       "      <th>8</th>\n",
       "      <td>413208</td>\n",
       "      <td>1</td>\n",
       "      <td>19</td>\n",
       "      <td>b'\\x00\\xff\\xff\\x00\\xf0\\xff\\xff\\x0f\\xff\\xff\\xff...</td>\n",
       "    </tr>\n",
       "    <tr>\n",
       "      <th>9</th>\n",
       "      <td>413208</td>\n",
       "      <td>1</td>\n",
       "      <td>20</td>\n",
       "      <td>b'\\x00\\xff\\xff\\x00\\xf0\\xff\\xff\\x0f\\xff\\xff\\xff...</td>\n",
       "    </tr>\n",
       "    <tr>\n",
       "      <th>0</th>\n",
       "      <td>186584</td>\n",
       "      <td>1</td>\n",
       "      <td>11</td>\n",
       "      <td>b'\\x00\\xff\\xff\\x00\\xf0\\xff\\xff\\x00\\xff\\xff\\xff...</td>\n",
       "    </tr>\n",
       "    <tr>\n",
       "      <th>1</th>\n",
       "      <td>186584</td>\n",
       "      <td>1</td>\n",
       "      <td>12</td>\n",
       "      <td>b'\\x00\\xff\\xff\\x00\\xf0\\xff\\xff\\x0f\\xf0\\xff\\xff...</td>\n",
       "    </tr>\n",
       "    <tr>\n",
       "      <th>2</th>\n",
       "      <td>186584</td>\n",
       "      <td>1</td>\n",
       "      <td>13</td>\n",
       "      <td>b'\\x00\\x00\\xf0\\x00\\x00\\x00\\xf0\\x0f\\x00\\x00\\xff...</td>\n",
       "    </tr>\n",
       "  </tbody>\n",
       "</table>\n",
       "<p>13150 rows × 4 columns</p>\n",
       "</div>"
      ],
      "text/plain": [
       "    personid  status  finger_index  \\\n",
       "0     365538       1            11   \n",
       "1     365538       1            12   \n",
       "2     365538       1            13   \n",
       "3     365538       1            14   \n",
       "4     365538       1            15   \n",
       "..       ...     ...           ...   \n",
       "8     413208       1            19   \n",
       "9     413208       1            20   \n",
       "0     186584       1            11   \n",
       "1     186584       1            12   \n",
       "2     186584       1            13   \n",
       "\n",
       "                                      cylindersbinary  \n",
       "0   b'\\x00\\xff\\xff\\x00\\xf0\\xff\\xff\\x0f\\xff\\xff\\xff...  \n",
       "1   b'\\x00\\xff\\xff\\x00\\xf0\\xff\\xff\\x0f\\xff\\xff\\xff...  \n",
       "2   b'\\x00\\xff\\xff\\x00\\xf0\\xff\\xff\\x0f\\xff\\xff\\xff...  \n",
       "3   b'\\x00\\xff\\xff\\x00\\xf0\\xff\\xff\\x0f\\xff\\xff\\xff...  \n",
       "4   b'\\x00\\x00\\xff\\x00\\x00\\x00\\xff\\x0f\\x00\\xf0\\xff...  \n",
       "..                                                ...  \n",
       "8   b'\\x00\\xff\\xff\\x00\\xf0\\xff\\xff\\x0f\\xff\\xff\\xff...  \n",
       "9   b'\\x00\\xff\\xff\\x00\\xf0\\xff\\xff\\x0f\\xff\\xff\\xff...  \n",
       "0   b'\\x00\\xff\\xff\\x00\\xf0\\xff\\xff\\x00\\xff\\xff\\xff...  \n",
       "1   b'\\x00\\xff\\xff\\x00\\xf0\\xff\\xff\\x0f\\xf0\\xff\\xff...  \n",
       "2   b'\\x00\\x00\\xf0\\x00\\x00\\x00\\xf0\\x0f\\x00\\x00\\xff...  \n",
       "\n",
       "[13150 rows x 4 columns]"
      ]
     },
     "execution_count": 26,
     "metadata": {},
     "output_type": "execute_result"
    }
   ],
   "source": [
    "pd.read_parquet('local_table3.parquet.gzip')"
   ]
  },
  {
   "cell_type": "code",
   "execution_count": null,
   "metadata": {},
   "outputs": [],
   "source": []
  }
 ],
 "metadata": {
  "kernelspec": {
   "display_name": "Python 3",
   "language": "python",
   "name": "python3"
  },
  "language_info": {
   "codemirror_mode": {
    "name": "ipython",
    "version": 3
   },
   "file_extension": ".py",
   "mimetype": "text/x-python",
   "name": "python",
   "nbconvert_exporter": "python",
   "pygments_lexer": "ipython3",
   "version": "3.8.2"
  }
 },
 "nbformat": 4,
 "nbformat_minor": 4
}
