{
 "cells": [
  {
   "cell_type": "code",
   "execution_count": 1,
   "metadata": {},
   "outputs": [],
   "source": [
    "import numpy as np\n",
    "import pandas as pd\n",
    "import dask\n",
    "import dask.dataframe as dd"
   ]
  },
  {
   "cell_type": "code",
   "execution_count": 2,
   "metadata": {},
   "outputs": [
    {
     "name": "stdout",
     "output_type": "stream",
     "text": [
      "CPU times: user 684 ms, sys: 54.6 ms, total: 739 ms\n",
      "Wall time: 760 ms\n"
     ]
    }
   ],
   "source": [
    "%%time\n",
    "df = dd.from_array(np.random.randint(0,1000000,size=(15000000, 4)), columns=list('ABCD'))"
   ]
  },
  {
   "cell_type": "code",
   "execution_count": 3,
   "metadata": {},
   "outputs": [
    {
     "name": "stdout",
     "output_type": "stream",
     "text": [
      "CPU times: user 140 ms, sys: 116 ms, total: 256 ms\n",
      "Wall time: 245 ms\n"
     ]
    },
    {
     "data": {
      "text/html": [
       "<div>\n",
       "<style scoped>\n",
       "    .dataframe tbody tr th:only-of-type {\n",
       "        vertical-align: middle;\n",
       "    }\n",
       "\n",
       "    .dataframe tbody tr th {\n",
       "        vertical-align: top;\n",
       "    }\n",
       "\n",
       "    .dataframe thead th {\n",
       "        text-align: right;\n",
       "    }\n",
       "</style>\n",
       "<table border=\"1\" class=\"dataframe\">\n",
       "  <thead>\n",
       "    <tr style=\"text-align: right;\">\n",
       "      <th></th>\n",
       "      <th>A</th>\n",
       "      <th>B</th>\n",
       "      <th>C</th>\n",
       "      <th>D</th>\n",
       "    </tr>\n",
       "  </thead>\n",
       "  <tbody>\n",
       "    <tr>\n",
       "      <th>0</th>\n",
       "      <td>602709</td>\n",
       "      <td>782734</td>\n",
       "      <td>468066</td>\n",
       "      <td>921662</td>\n",
       "    </tr>\n",
       "    <tr>\n",
       "      <th>1</th>\n",
       "      <td>739485</td>\n",
       "      <td>571161</td>\n",
       "      <td>622752</td>\n",
       "      <td>707628</td>\n",
       "    </tr>\n",
       "    <tr>\n",
       "      <th>2</th>\n",
       "      <td>498336</td>\n",
       "      <td>941546</td>\n",
       "      <td>657259</td>\n",
       "      <td>576978</td>\n",
       "    </tr>\n",
       "    <tr>\n",
       "      <th>3</th>\n",
       "      <td>472741</td>\n",
       "      <td>443118</td>\n",
       "      <td>748326</td>\n",
       "      <td>346125</td>\n",
       "    </tr>\n",
       "    <tr>\n",
       "      <th>4</th>\n",
       "      <td>580040</td>\n",
       "      <td>715323</td>\n",
       "      <td>310793</td>\n",
       "      <td>679404</td>\n",
       "    </tr>\n",
       "    <tr>\n",
       "      <th>...</th>\n",
       "      <td>...</td>\n",
       "      <td>...</td>\n",
       "      <td>...</td>\n",
       "      <td>...</td>\n",
       "    </tr>\n",
       "    <tr>\n",
       "      <th>49995</th>\n",
       "      <td>553518</td>\n",
       "      <td>324979</td>\n",
       "      <td>622094</td>\n",
       "      <td>916401</td>\n",
       "    </tr>\n",
       "    <tr>\n",
       "      <th>49996</th>\n",
       "      <td>837651</td>\n",
       "      <td>3826</td>\n",
       "      <td>287347</td>\n",
       "      <td>680045</td>\n",
       "    </tr>\n",
       "    <tr>\n",
       "      <th>49997</th>\n",
       "      <td>492901</td>\n",
       "      <td>457825</td>\n",
       "      <td>558565</td>\n",
       "      <td>987617</td>\n",
       "    </tr>\n",
       "    <tr>\n",
       "      <th>49998</th>\n",
       "      <td>522623</td>\n",
       "      <td>732667</td>\n",
       "      <td>354363</td>\n",
       "      <td>294667</td>\n",
       "    </tr>\n",
       "    <tr>\n",
       "      <th>49999</th>\n",
       "      <td>661144</td>\n",
       "      <td>571291</td>\n",
       "      <td>100317</td>\n",
       "      <td>228756</td>\n",
       "    </tr>\n",
       "  </tbody>\n",
       "</table>\n",
       "<p>15000000 rows × 4 columns</p>\n",
       "</div>"
      ],
      "text/plain": [
       "            A       B       C       D\n",
       "0      602709  782734  468066  921662\n",
       "1      739485  571161  622752  707628\n",
       "2      498336  941546  657259  576978\n",
       "3      472741  443118  748326  346125\n",
       "4      580040  715323  310793  679404\n",
       "...       ...     ...     ...     ...\n",
       "49995  553518  324979  622094  916401\n",
       "49996  837651    3826  287347  680045\n",
       "49997  492901  457825  558565  987617\n",
       "49998  522623  732667  354363  294667\n",
       "49999  661144  571291  100317  228756\n",
       "\n",
       "[15000000 rows x 4 columns]"
      ]
     },
     "execution_count": 3,
     "metadata": {},
     "output_type": "execute_result"
    }
   ],
   "source": [
    "%%time\n",
    "df.compute()"
   ]
  },
  {
   "cell_type": "code",
   "execution_count": 5,
   "metadata": {},
   "outputs": [
    {
     "data": {
      "text/plain": [
       "2"
      ]
     },
     "execution_count": 5,
     "metadata": {},
     "output_type": "execute_result"
    }
   ],
   "source": [
    "df.ndim"
   ]
  },
  {
   "cell_type": "code",
   "execution_count": 6,
   "metadata": {},
   "outputs": [
    {
     "data": {
      "text/plain": [
       "300"
      ]
     },
     "execution_count": 6,
     "metadata": {},
     "output_type": "execute_result"
    }
   ],
   "source": [
    "df.npartitions"
   ]
  },
  {
   "cell_type": "code",
   "execution_count": 7,
   "metadata": {},
   "outputs": [
    {
     "data": {
      "text/plain": [
       "A    int64\n",
       "B    int64\n",
       "C    int64\n",
       "D    int64\n",
       "dtype: object"
      ]
     },
     "execution_count": 7,
     "metadata": {},
     "output_type": "execute_result"
    }
   ],
   "source": [
    "df.dtypes"
   ]
  },
  {
   "cell_type": "code",
   "execution_count": 8,
   "metadata": {},
   "outputs": [
    {
     "name": "stdout",
     "output_type": "stream",
     "text": [
      "CPU times: user 1.14 s, sys: 504 ms, total: 1.64 s\n",
      "Wall time: 753 ms\n"
     ]
    },
    {
     "data": {
      "text/html": [
       "<div>\n",
       "<style scoped>\n",
       "    .dataframe tbody tr th:only-of-type {\n",
       "        vertical-align: middle;\n",
       "    }\n",
       "\n",
       "    .dataframe tbody tr th {\n",
       "        vertical-align: top;\n",
       "    }\n",
       "\n",
       "    .dataframe thead th {\n",
       "        text-align: right;\n",
       "    }\n",
       "</style>\n",
       "<table border=\"1\" class=\"dataframe\">\n",
       "  <thead>\n",
       "    <tr style=\"text-align: right;\">\n",
       "      <th></th>\n",
       "      <th>A</th>\n",
       "      <th>B</th>\n",
       "      <th>C</th>\n",
       "      <th>D</th>\n",
       "    </tr>\n",
       "  </thead>\n",
       "  <tbody>\n",
       "    <tr>\n",
       "      <th>49548</th>\n",
       "      <td>477230</td>\n",
       "      <td>314050</td>\n",
       "      <td>531316</td>\n",
       "      <td>999999</td>\n",
       "    </tr>\n",
       "    <tr>\n",
       "      <th>13362</th>\n",
       "      <td>434693</td>\n",
       "      <td>383283</td>\n",
       "      <td>656275</td>\n",
       "      <td>999999</td>\n",
       "    </tr>\n",
       "    <tr>\n",
       "      <th>30849</th>\n",
       "      <td>641045</td>\n",
       "      <td>768491</td>\n",
       "      <td>837767</td>\n",
       "      <td>999999</td>\n",
       "    </tr>\n",
       "    <tr>\n",
       "      <th>19368</th>\n",
       "      <td>727333</td>\n",
       "      <td>15600</td>\n",
       "      <td>65253</td>\n",
       "      <td>999999</td>\n",
       "    </tr>\n",
       "    <tr>\n",
       "      <th>26079</th>\n",
       "      <td>178675</td>\n",
       "      <td>571715</td>\n",
       "      <td>641114</td>\n",
       "      <td>999999</td>\n",
       "    </tr>\n",
       "  </tbody>\n",
       "</table>\n",
       "</div>"
      ],
      "text/plain": [
       "            A       B       C       D\n",
       "49548  477230  314050  531316  999999\n",
       "13362  434693  383283  656275  999999\n",
       "30849  641045  768491  837767  999999\n",
       "19368  727333   15600   65253  999999\n",
       "26079  178675  571715  641114  999999"
      ]
     },
     "execution_count": 8,
     "metadata": {},
     "output_type": "execute_result"
    }
   ],
   "source": [
    "%%time\n",
    "df.nlargest(5, 'D').compute()"
   ]
  },
  {
   "cell_type": "code",
   "execution_count": 9,
   "metadata": {},
   "outputs": [],
   "source": [
    "a=df.assign(temp_f=lambda x: x.A+10)"
   ]
  },
  {
   "cell_type": "code",
   "execution_count": 10,
   "metadata": {},
   "outputs": [
    {
     "name": "stdout",
     "output_type": "stream",
     "text": [
      "CPU times: user 868 ms, sys: 623 ms, total: 1.49 s\n",
      "Wall time: 1.1 s\n"
     ]
    },
    {
     "data": {
      "text/html": [
       "<div>\n",
       "<style scoped>\n",
       "    .dataframe tbody tr th:only-of-type {\n",
       "        vertical-align: middle;\n",
       "    }\n",
       "\n",
       "    .dataframe tbody tr th {\n",
       "        vertical-align: top;\n",
       "    }\n",
       "\n",
       "    .dataframe thead th {\n",
       "        text-align: right;\n",
       "    }\n",
       "</style>\n",
       "<table border=\"1\" class=\"dataframe\">\n",
       "  <thead>\n",
       "    <tr style=\"text-align: right;\">\n",
       "      <th></th>\n",
       "      <th>A</th>\n",
       "      <th>B</th>\n",
       "      <th>C</th>\n",
       "      <th>D</th>\n",
       "      <th>temp_f</th>\n",
       "    </tr>\n",
       "  </thead>\n",
       "  <tbody>\n",
       "    <tr>\n",
       "      <th>0</th>\n",
       "      <td>602709</td>\n",
       "      <td>782734</td>\n",
       "      <td>468066</td>\n",
       "      <td>921662</td>\n",
       "      <td>602719</td>\n",
       "    </tr>\n",
       "    <tr>\n",
       "      <th>1</th>\n",
       "      <td>739485</td>\n",
       "      <td>571161</td>\n",
       "      <td>622752</td>\n",
       "      <td>707628</td>\n",
       "      <td>739495</td>\n",
       "    </tr>\n",
       "    <tr>\n",
       "      <th>2</th>\n",
       "      <td>498336</td>\n",
       "      <td>941546</td>\n",
       "      <td>657259</td>\n",
       "      <td>576978</td>\n",
       "      <td>498346</td>\n",
       "    </tr>\n",
       "    <tr>\n",
       "      <th>3</th>\n",
       "      <td>472741</td>\n",
       "      <td>443118</td>\n",
       "      <td>748326</td>\n",
       "      <td>346125</td>\n",
       "      <td>472751</td>\n",
       "    </tr>\n",
       "    <tr>\n",
       "      <th>4</th>\n",
       "      <td>580040</td>\n",
       "      <td>715323</td>\n",
       "      <td>310793</td>\n",
       "      <td>679404</td>\n",
       "      <td>580050</td>\n",
       "    </tr>\n",
       "    <tr>\n",
       "      <th>...</th>\n",
       "      <td>...</td>\n",
       "      <td>...</td>\n",
       "      <td>...</td>\n",
       "      <td>...</td>\n",
       "      <td>...</td>\n",
       "    </tr>\n",
       "    <tr>\n",
       "      <th>49995</th>\n",
       "      <td>553518</td>\n",
       "      <td>324979</td>\n",
       "      <td>622094</td>\n",
       "      <td>916401</td>\n",
       "      <td>553528</td>\n",
       "    </tr>\n",
       "    <tr>\n",
       "      <th>49996</th>\n",
       "      <td>837651</td>\n",
       "      <td>3826</td>\n",
       "      <td>287347</td>\n",
       "      <td>680045</td>\n",
       "      <td>837661</td>\n",
       "    </tr>\n",
       "    <tr>\n",
       "      <th>49997</th>\n",
       "      <td>492901</td>\n",
       "      <td>457825</td>\n",
       "      <td>558565</td>\n",
       "      <td>987617</td>\n",
       "      <td>492911</td>\n",
       "    </tr>\n",
       "    <tr>\n",
       "      <th>49998</th>\n",
       "      <td>522623</td>\n",
       "      <td>732667</td>\n",
       "      <td>354363</td>\n",
       "      <td>294667</td>\n",
       "      <td>522633</td>\n",
       "    </tr>\n",
       "    <tr>\n",
       "      <th>49999</th>\n",
       "      <td>661144</td>\n",
       "      <td>571291</td>\n",
       "      <td>100317</td>\n",
       "      <td>228756</td>\n",
       "      <td>661154</td>\n",
       "    </tr>\n",
       "  </tbody>\n",
       "</table>\n",
       "<p>15000000 rows × 5 columns</p>\n",
       "</div>"
      ],
      "text/plain": [
       "            A       B       C       D  temp_f\n",
       "0      602709  782734  468066  921662  602719\n",
       "1      739485  571161  622752  707628  739495\n",
       "2      498336  941546  657259  576978  498346\n",
       "3      472741  443118  748326  346125  472751\n",
       "4      580040  715323  310793  679404  580050\n",
       "...       ...     ...     ...     ...     ...\n",
       "49995  553518  324979  622094  916401  553528\n",
       "49996  837651    3826  287347  680045  837661\n",
       "49997  492901  457825  558565  987617  492911\n",
       "49998  522623  732667  354363  294667  522633\n",
       "49999  661144  571291  100317  228756  661154\n",
       "\n",
       "[15000000 rows x 5 columns]"
      ]
     },
     "execution_count": 10,
     "metadata": {},
     "output_type": "execute_result"
    }
   ],
   "source": [
    "%%time\n",
    "a.compute()"
   ]
  },
  {
   "cell_type": "code",
   "execution_count": 11,
   "metadata": {},
   "outputs": [
    {
     "name": "stdout",
     "output_type": "stream",
     "text": [
      "CPU times: user 2.08 s, sys: 1.25 s, total: 3.33 s\n",
      "Wall time: 1.34 s\n"
     ]
    },
    {
     "data": {
      "text/html": [
       "<div>\n",
       "<style scoped>\n",
       "    .dataframe tbody tr th:only-of-type {\n",
       "        vertical-align: middle;\n",
       "    }\n",
       "\n",
       "    .dataframe tbody tr th {\n",
       "        vertical-align: top;\n",
       "    }\n",
       "\n",
       "    .dataframe thead th {\n",
       "        text-align: right;\n",
       "    }\n",
       "</style>\n",
       "<table border=\"1\" class=\"dataframe\">\n",
       "  <thead>\n",
       "    <tr style=\"text-align: right;\">\n",
       "      <th></th>\n",
       "      <th>A</th>\n",
       "      <th>B</th>\n",
       "      <th>C</th>\n",
       "      <th>D</th>\n",
       "      <th>temp_f</th>\n",
       "    </tr>\n",
       "  </thead>\n",
       "  <tbody>\n",
       "    <tr>\n",
       "      <th>43540</th>\n",
       "      <td>999999</td>\n",
       "      <td>325617</td>\n",
       "      <td>620006</td>\n",
       "      <td>321533</td>\n",
       "      <td>1000009</td>\n",
       "    </tr>\n",
       "    <tr>\n",
       "      <th>25374</th>\n",
       "      <td>999999</td>\n",
       "      <td>493692</td>\n",
       "      <td>29345</td>\n",
       "      <td>911264</td>\n",
       "      <td>1000009</td>\n",
       "    </tr>\n",
       "    <tr>\n",
       "      <th>40457</th>\n",
       "      <td>999999</td>\n",
       "      <td>54088</td>\n",
       "      <td>394761</td>\n",
       "      <td>697764</td>\n",
       "      <td>1000009</td>\n",
       "    </tr>\n",
       "    <tr>\n",
       "      <th>22246</th>\n",
       "      <td>999999</td>\n",
       "      <td>470432</td>\n",
       "      <td>152898</td>\n",
       "      <td>530228</td>\n",
       "      <td>1000009</td>\n",
       "    </tr>\n",
       "    <tr>\n",
       "      <th>7624</th>\n",
       "      <td>999999</td>\n",
       "      <td>575232</td>\n",
       "      <td>5733</td>\n",
       "      <td>317070</td>\n",
       "      <td>1000009</td>\n",
       "    </tr>\n",
       "  </tbody>\n",
       "</table>\n",
       "</div>"
      ],
      "text/plain": [
       "            A       B       C       D   temp_f\n",
       "43540  999999  325617  620006  321533  1000009\n",
       "25374  999999  493692   29345  911264  1000009\n",
       "40457  999999   54088  394761  697764  1000009\n",
       "22246  999999  470432  152898  530228  1000009\n",
       "7624   999999  575232    5733  317070  1000009"
      ]
     },
     "execution_count": 11,
     "metadata": {},
     "output_type": "execute_result"
    }
   ],
   "source": [
    "%%time\n",
    "a.nlargest(5, 'temp_f').compute()"
   ]
  },
  {
   "cell_type": "code",
   "execution_count": null,
   "metadata": {},
   "outputs": [],
   "source": []
  }
 ],
 "metadata": {
  "kernelspec": {
   "display_name": "Python 3",
   "language": "python",
   "name": "python3"
  },
  "language_info": {
   "codemirror_mode": {
    "name": "ipython",
    "version": 3
   },
   "file_extension": ".py",
   "mimetype": "text/x-python",
   "name": "python",
   "nbconvert_exporter": "python",
   "pygments_lexer": "ipython3",
   "version": "3.8.2"
  }
 },
 "nbformat": 4,
 "nbformat_minor": 4
}
