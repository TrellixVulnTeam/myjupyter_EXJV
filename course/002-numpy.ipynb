{
 "cells": [
  {
   "cell_type": "code",
   "execution_count": 3,
   "metadata": {},
   "outputs": [],
   "source": [
    "import numpy as np\n",
    "import pandas as pd"
   ]
  },
  {
   "cell_type": "code",
   "execution_count": 2,
   "metadata": {
    "jupyter": {
     "source_hidden": true
    }
   },
   "outputs": [],
   "source": [
    "questions = {\n",
    "    \"Q1\": \"I would never audition to be on a game show.\",\n",
    "    \"Q2\": \"I am not much of a flirt.\",\n",
    "    \"Q3\": \"I have to psych myself up before I am brave enough to make a phone call.\",\n",
    "    \"Q4\": \"I would hate living with room mates.\",\n",
    "    \"Q5\": \"I mostly listen to people in conversations.\",\n",
    "    \"Q6\": \"I reveal little about myself.\",\n",
    "    \"Q7\": \"I spend hours alone with my hobbies.\",\n",
    "    \"Q8\": \"I prefer to eat alone.\",\n",
    "    \"Q9\": \"I have trouble finding people I want to be friends with.\",\n",
    "    \"Q10\": \"I prefer to socialize 1 on 1, than with a group.\",\n",
    "    \"Q11\": \"I sometimes speak so quietly people sometimes have trouble hearing me.\",\n",
    "    \"Q12\": \"I do not like to get my picture taken.\",\n",
    "    \"Q13\": \"I can keep a conversation going with anyone about anything.\",\n",
    "    \"Q14\": \"I want a huge social circle.\",\n",
    "    \"Q15\": \"I talk to people when waiting in lines.\",\n",
    "    \"Q16\": \"I act wild and crazy.\",\n",
    "    \"Q17\": \"I am a bundle of joy.\",\n",
    "    \"Q18\": \"I love excitement.\",\n",
    "    \"Q19\": \"I'd like to be in a parade.\",\n",
    "    \"Q20\": \"I am a flamboyant person.\",\n",
    "    \"Q21\": \"I am good at making impromptu speeches.\",\n",
    "    \"Q22\": \"I naturally emerge as a leader.\",\n",
    "    \"Q23\": \"I am spontaneous.\",\n",
    "    \"Q24\": \"I would enjoy being a sports team coach.\",\n",
    "    \"Q25\": \"I have a strong personality.\",\n",
    "    \"Q26\": \"I am excited by many different activities.\",\n",
    "    \"Q27\": \"I spend most of my time in fantasy worlds.\",\n",
    "    \"Q28\": \"I often feel lucky.\",\n",
    "    \"Q29\": \"I don't make eye contact when I talk with people.\",\n",
    "    \"Q30\": \"I have a monotone voice.\",\n",
    "    \"Q31\": \"I am a touchy feely person.\",\n",
    "    \"Q32\": \"I would like to try bungee jumping.\",\n",
    "    \"Q33\": \"I tend to be admired by others.\",\n",
    "    \"Q34\": \"I make big physical movements whenever I get excited.\",\n",
    "    \"Q35\": \"I am brave.\",\n",
    "    \"Q36\": \"I am always in the moment.\",\n",
    "    \"Q37\": \"I am involved with my community.\",\n",
    "    \"Q38\": \"I am good an entertaining children.\",\n",
    "    \"Q39\": \"I like formal occasions.\",\n",
    "    \"Q40\": \"I would have to be lost for a very long time before asking help.\",\n",
    "    \"Q41\": \"I do not care about sports.\",\n",
    "    \"Q42\": \"I prefer individual sports to team sports.\",\n",
    "    \"Q43\": \"My parents know nothing about my love life.\",\n",
    "    \"Q44\": \"I mostly listen to people in conversations.\",\n",
    "    \"Q45\": \"I never leave the door to my room open.\",\n",
    "    \"Q46\": \"I make a lot of hand motions when I talk.\",\n",
    "    \"Q47\": \"I take lots of pictures of my activities.\",\n",
    "    \"Q48\": \"When I was a child, I put on fake concerts and plays with my friends.\",\n",
    "    \"Q49\": \"I really like dancing.\",\n",
    "    \"Q50\": \"I would have difficulty describing myself to someone.\",\n",
    "    \"Q51\": \"My life would not make a good story.\",\n",
    "    \"Q52\": \"I am hesitant to give suggestions.\",\n",
    "    \"Q53\": \"I tire out quickly.\",\n",
    "    \"Q54\": \"I never tell people the important things about myself.\",\n",
    "    \"Q55\": \"I avoid going to unknown places.\",\n",
    "    \"Q56\": \"Going to the doctor is always awkward for me.\",\n",
    "    \"Q57\": \"I have not kept up with my old friends over the years.\",\n",
    "    \"Q58\": \"I have not been joyful for quite some time.\",\n",
    "    \"Q59\": \"I hate to ask for help.\",\n",
    "    \"Q60\": \"If I were to die, I would not want there to be a memorial for me.\",\n",
    "    \"Q61\": \"I hate shopping.\",\n",
    "    \"Q62\": \"I love to do impressions.\",\n",
    "    \"Q63\": \"I would be pleased if asked to speak at a funeral.\",\n",
    "    \"Q64\": \"I would never go to a dance club.\",\n",
    "    \"Q65\": \"I find it very hard to tell people I find them attractive.\",\n",
    "    \"Q66\": \"I hate people.\",\n",
    "    \"Q67\": \"I was an outcast in school.\",\n",
    "    \"Q68\": \"I would enjoy being a librarian.\",\n",
    "    \"Q69\": \"I am usually not single.\",\n",
    "    \"Q70\": \"I am able to stand up for myself.\",\n",
    "    \"Q71\": \"I would go surfing regularly if I lived on a beach.\",\n",
    "    \"Q72\": \"I have wanted to be a stand-up comedian.\",\n",
    "    \"Q73\": \"I am a high status person.\",\n",
    "    \"Q74\": \"I work out regularly.\",\n",
    "    \"Q75\": \"I laugh a lot.\",\n",
    "    \"Q76\": \"I like pranks.\",\n",
    "    \"Q77\": \"I am happy with my life.\",\n",
    "    \"Q78\": \"I am never at a loss for words.\",\n",
    "    \"Q79\": \"I feel healthy and vibrant most of the time.\",\n",
    "    \"Q80\": \"I love large parties.\",\n",
    "    \"Q81\": \"I am quiet around strangers.\",\n",
    "    \"Q82\": \"I don't talk a lot.\",\n",
    "    \"Q83\": \"I keep in the background.\",\n",
    "    \"Q84\": \"I don't like to draw attention to myself.\",\n",
    "    \"Q85\": \"I have little to say.\",\n",
    "    \"Q86\": \"I often feel blue.\",\n",
    "    \"Q87\": \"I am not really interested in others.\",\n",
    "    \"Q88\": \"I make people feel at ease.\",\n",
    "    \"Q89\": \"I don't mind being the center of attention.\",\n",
    "    \"Q90\": \"I start conversations.\",\n",
    "    \"Q91\": \"I talk to a lot of different people at parties.\",\n",
    "}"
   ]
  },
  {
   "cell_type": "code",
   "execution_count": 3,
   "metadata": {},
   "outputs": [],
   "source": [
    "questions = np.array(list(questions.values()))"
   ]
  },
  {
   "cell_type": "code",
   "execution_count": 4,
   "metadata": {},
   "outputs": [
    {
     "data": {
      "text/plain": [
       "'I am not much of a flirt.'"
      ]
     },
     "execution_count": 4,
     "metadata": {},
     "output_type": "execute_result"
    }
   ],
   "source": [
    "questions[1]"
   ]
  },
  {
   "cell_type": "code",
   "execution_count": 15,
   "metadata": {},
   "outputs": [],
   "source": [
    "data = np.genfromtxt(\"data/dataset.csv\", dtype=int, delimiter=\"\\t\")"
   ]
  },
  {
   "cell_type": "code",
   "execution_count": 16,
   "metadata": {},
   "outputs": [],
   "source": [
    "data = data[1:, :]"
   ]
  },
  {
   "cell_type": "code",
   "execution_count": 18,
   "metadata": {},
   "outputs": [
    {
     "name": "stdout",
     "output_type": "stream",
     "text": [
      "[[   5   51 7107 ...    1   23    3]\n",
      " [   5   39 6354 ...    2   25    2]\n",
      " [   3   17 5397 ...    2   19    1]\n",
      " ...\n",
      " [   3   29 6618 ...    2   28    1]\n",
      " [   4   15 8321 ...    1   19    1]\n",
      " [   5   57 2950 ...    1   25    1]]\n",
      "(7188, 282)\n",
      "int64\n"
     ]
    }
   ],
   "source": [
    "print(data)\n",
    "print(data.shape)\n",
    "print(data.dtype)"
   ]
  },
  {
   "cell_type": "code",
   "execution_count": 34,
   "metadata": {},
   "outputs": [
    {
     "data": {
      "text/plain": [
       "array(['I would never audition to be on a game show.',\n",
       "       'I am not much of a flirt.',\n",
       "       'I have to psych myself up before I am brave enough to make a phone call.'],\n",
       "      dtype='<U72')"
      ]
     },
     "execution_count": 34,
     "metadata": {},
     "output_type": "execute_result"
    }
   ],
   "source": [
    "questions[[0, 1, 2]]"
   ]
  },
  {
   "cell_type": "code",
   "execution_count": 40,
   "metadata": {},
   "outputs": [
    {
     "data": {
      "text/plain": [
       "(7188, 282)"
      ]
     },
     "execution_count": 40,
     "metadata": {},
     "output_type": "execute_result"
    }
   ],
   "source": [
    "data.shape"
   ]
  },
  {
   "cell_type": "code",
   "execution_count": 41,
   "metadata": {},
   "outputs": [
    {
     "data": {
      "text/plain": [
       "(2006429,)"
      ]
     },
     "execution_count": 41,
     "metadata": {},
     "output_type": "execute_result"
    }
   ],
   "source": [
    "data[data < 12000].shape"
   ]
  },
  {
   "cell_type": "code",
   "execution_count": 45,
   "metadata": {},
   "outputs": [],
   "source": [
    "my_array = np.array(\n",
    "    [[10, 2, 13], [21, 22, 23], [31, 32, 33], [10, 57, 20], [20, 20, 20], [101, 91, 10]]\n",
    ")"
   ]
  },
  {
   "cell_type": "code",
   "execution_count": 48,
   "metadata": {},
   "outputs": [],
   "source": [
    "def my_function(x):\n",
    "#     position = np.argmax(x)\n",
    "    position = np.max(x)\n",
    "\n",
    "    return position"
   ]
  },
  {
   "cell_type": "code",
   "execution_count": 49,
   "metadata": {},
   "outputs": [
    {
     "name": "stdout",
     "output_type": "stream",
     "text": [
      "[101  91  33]\n"
     ]
    }
   ],
   "source": [
    "print(np.apply_along_axis(my_function, axis=0, arr=my_array))"
   ]
  },
  {
   "cell_type": "code",
   "execution_count": 99,
   "metadata": {},
   "outputs": [
    {
     "name": "stdout",
     "output_type": "stream",
     "text": [
      "0    101\n",
      "1     91\n",
      "2     33\n",
      "dtype: int64\n"
     ]
    }
   ],
   "source": [
    "df = pd.DataFrame(my_array)"
   ]
  },
  {
   "cell_type": "code",
   "execution_count": 9,
   "metadata": {},
   "outputs": [],
   "source": [
    "def my_function(x):\n",
    "#     z= x.idxmax()\n",
    "#     print(x[0], x[1], x[2])\n",
    "    z= x.max()\n",
    "\n",
    "    return z"
   ]
  },
  {
   "cell_type": "code",
   "execution_count": null,
   "metadata": {},
   "outputs": [],
   "source": [
    "print(df.apply(my_function, axis=0))"
   ]
  },
  {
   "cell_type": "code",
   "execution_count": 74,
   "metadata": {},
   "outputs": [
    {
     "name": "stdout",
     "output_type": "stream",
     "text": [
      "10 2 13\n",
      "21 22 23\n",
      "31 32 33\n",
      "10 57 20\n",
      "20 20 20\n",
      "101 91 10\n"
     ]
    }
   ],
   "source": [
    "df['yeni'] =df.apply(my_function, axis=1)"
   ]
  },
  {
   "cell_type": "code",
   "execution_count": 75,
   "metadata": {},
   "outputs": [
    {
     "data": {
      "text/html": [
       "<div>\n",
       "<style scoped>\n",
       "    .dataframe tbody tr th:only-of-type {\n",
       "        vertical-align: middle;\n",
       "    }\n",
       "\n",
       "    .dataframe tbody tr th {\n",
       "        vertical-align: top;\n",
       "    }\n",
       "\n",
       "    .dataframe thead th {\n",
       "        text-align: right;\n",
       "    }\n",
       "</style>\n",
       "<table border=\"1\" class=\"dataframe\">\n",
       "  <thead>\n",
       "    <tr style=\"text-align: right;\">\n",
       "      <th></th>\n",
       "      <th>0</th>\n",
       "      <th>1</th>\n",
       "      <th>2</th>\n",
       "      <th>yeni</th>\n",
       "    </tr>\n",
       "  </thead>\n",
       "  <tbody>\n",
       "    <tr>\n",
       "      <th>0</th>\n",
       "      <td>10</td>\n",
       "      <td>2</td>\n",
       "      <td>13</td>\n",
       "      <td>13</td>\n",
       "    </tr>\n",
       "    <tr>\n",
       "      <th>1</th>\n",
       "      <td>21</td>\n",
       "      <td>22</td>\n",
       "      <td>23</td>\n",
       "      <td>23</td>\n",
       "    </tr>\n",
       "    <tr>\n",
       "      <th>2</th>\n",
       "      <td>31</td>\n",
       "      <td>32</td>\n",
       "      <td>33</td>\n",
       "      <td>33</td>\n",
       "    </tr>\n",
       "    <tr>\n",
       "      <th>3</th>\n",
       "      <td>10</td>\n",
       "      <td>57</td>\n",
       "      <td>20</td>\n",
       "      <td>57</td>\n",
       "    </tr>\n",
       "    <tr>\n",
       "      <th>4</th>\n",
       "      <td>20</td>\n",
       "      <td>20</td>\n",
       "      <td>20</td>\n",
       "      <td>20</td>\n",
       "    </tr>\n",
       "    <tr>\n",
       "      <th>5</th>\n",
       "      <td>101</td>\n",
       "      <td>91</td>\n",
       "      <td>10</td>\n",
       "      <td>101</td>\n",
       "    </tr>\n",
       "  </tbody>\n",
       "</table>\n",
       "</div>"
      ],
      "text/plain": [
       "     0   1   2  yeni\n",
       "0   10   2  13    13\n",
       "1   21  22  23    23\n",
       "2   31  32  33    33\n",
       "3   10  57  20    57\n",
       "4   20  20  20    20\n",
       "5  101  91  10   101"
      ]
     },
     "execution_count": 75,
     "metadata": {},
     "output_type": "execute_result"
    }
   ],
   "source": [
    "df"
   ]
  },
  {
   "cell_type": "code",
   "execution_count": 78,
   "metadata": {
    "collapsed": true,
    "jupyter": {
     "outputs_hidden": true
    }
   },
   "outputs": [
    {
     "data": {
      "text/plain": [
       "\u001b[0;31mSignature:\u001b[0m \u001b[0mdf\u001b[0m\u001b[0;34m.\u001b[0m\u001b[0mnlargest\u001b[0m\u001b[0;34m(\u001b[0m\u001b[0mn\u001b[0m\u001b[0;34m,\u001b[0m \u001b[0mcolumns\u001b[0m\u001b[0;34m,\u001b[0m \u001b[0mkeep\u001b[0m\u001b[0;34m=\u001b[0m\u001b[0;34m'first'\u001b[0m\u001b[0;34m)\u001b[0m \u001b[0;34m->\u001b[0m \u001b[0;34m'DataFrame'\u001b[0m\u001b[0;34m\u001b[0m\u001b[0;34m\u001b[0m\u001b[0m\n",
       "\u001b[0;31mDocstring:\u001b[0m\n",
       "Return the first `n` rows ordered by `columns` in descending order.\n",
       "\n",
       "Return the first `n` rows with the largest values in `columns`, in\n",
       "descending order. The columns that are not specified are returned as\n",
       "well, but not used for ordering.\n",
       "\n",
       "This method is equivalent to\n",
       "``df.sort_values(columns, ascending=False).head(n)``, but more\n",
       "performant.\n",
       "\n",
       "Parameters\n",
       "----------\n",
       "n : int\n",
       "    Number of rows to return.\n",
       "columns : label or list of labels\n",
       "    Column label(s) to order by.\n",
       "keep : {'first', 'last', 'all'}, default 'first'\n",
       "    Where there are duplicate values:\n",
       "\n",
       "    - `first` : prioritize the first occurrence(s)\n",
       "    - `last` : prioritize the last occurrence(s)\n",
       "    - ``all`` : do not drop any duplicates, even it means\n",
       "                selecting more than `n` items.\n",
       "\n",
       "    .. versionadded:: 0.24.0\n",
       "\n",
       "Returns\n",
       "-------\n",
       "DataFrame\n",
       "    The first `n` rows ordered by the given columns in descending\n",
       "    order.\n",
       "\n",
       "See Also\n",
       "--------\n",
       "DataFrame.nsmallest : Return the first `n` rows ordered by `columns` in\n",
       "    ascending order.\n",
       "DataFrame.sort_values : Sort DataFrame by the values.\n",
       "DataFrame.head : Return the first `n` rows without re-ordering.\n",
       "\n",
       "Notes\n",
       "-----\n",
       "This function cannot be used with all column types. For example, when\n",
       "specifying columns with `object` or `category` dtypes, ``TypeError`` is\n",
       "raised.\n",
       "\n",
       "Examples\n",
       "--------\n",
       ">>> df = pd.DataFrame({'population': [59000000, 65000000, 434000,\n",
       "...                                   434000, 434000, 337000, 11300,\n",
       "...                                   11300, 11300],\n",
       "...                    'GDP': [1937894, 2583560 , 12011, 4520, 12128,\n",
       "...                            17036, 182, 38, 311],\n",
       "...                    'alpha-2': [\"IT\", \"FR\", \"MT\", \"MV\", \"BN\",\n",
       "...                                \"IS\", \"NR\", \"TV\", \"AI\"]},\n",
       "...                   index=[\"Italy\", \"France\", \"Malta\",\n",
       "...                          \"Maldives\", \"Brunei\", \"Iceland\",\n",
       "...                          \"Nauru\", \"Tuvalu\", \"Anguilla\"])\n",
       ">>> df\n",
       "          population      GDP alpha-2\n",
       "Italy       59000000  1937894      IT\n",
       "France      65000000  2583560      FR\n",
       "Malta         434000    12011      MT\n",
       "Maldives      434000     4520      MV\n",
       "Brunei        434000    12128      BN\n",
       "Iceland       337000    17036      IS\n",
       "Nauru          11300      182      NR\n",
       "Tuvalu         11300       38      TV\n",
       "Anguilla       11300      311      AI\n",
       "\n",
       "In the following example, we will use ``nlargest`` to select the three\n",
       "rows having the largest values in column \"population\".\n",
       "\n",
       ">>> df.nlargest(3, 'population')\n",
       "        population      GDP alpha-2\n",
       "France    65000000  2583560      FR\n",
       "Italy     59000000  1937894      IT\n",
       "Malta       434000    12011      MT\n",
       "\n",
       "When using ``keep='last'``, ties are resolved in reverse order:\n",
       "\n",
       ">>> df.nlargest(3, 'population', keep='last')\n",
       "        population      GDP alpha-2\n",
       "France    65000000  2583560      FR\n",
       "Italy     59000000  1937894      IT\n",
       "Brunei      434000    12128      BN\n",
       "\n",
       "When using ``keep='all'``, all duplicate items are maintained:\n",
       "\n",
       ">>> df.nlargest(3, 'population', keep='all')\n",
       "          population      GDP alpha-2\n",
       "France      65000000  2583560      FR\n",
       "Italy       59000000  1937894      IT\n",
       "Malta         434000    12011      MT\n",
       "Maldives      434000     4520      MV\n",
       "Brunei        434000    12128      BN\n",
       "\n",
       "To order by the largest values in column \"population\" and then \"GDP\",\n",
       "we can specify multiple columns like in the next example.\n",
       "\n",
       ">>> df.nlargest(3, ['population', 'GDP'])\n",
       "        population      GDP alpha-2\n",
       "France    65000000  2583560      FR\n",
       "Italy     59000000  1937894      IT\n",
       "Brunei      434000    12128      BN\n",
       "\u001b[0;31mFile:\u001b[0m      ~/.local/lib/python3.8/site-packages/pandas/core/frame.py\n",
       "\u001b[0;31mType:\u001b[0m      method\n"
      ]
     },
     "metadata": {},
     "output_type": "display_data"
    }
   ],
   "source": [
    "?df.nlargest"
   ]
  },
  {
   "cell_type": "code",
   "execution_count": 79,
   "metadata": {},
   "outputs": [
    {
     "data": {
      "text/html": [
       "<div>\n",
       "<style scoped>\n",
       "    .dataframe tbody tr th:only-of-type {\n",
       "        vertical-align: middle;\n",
       "    }\n",
       "\n",
       "    .dataframe tbody tr th {\n",
       "        vertical-align: top;\n",
       "    }\n",
       "\n",
       "    .dataframe thead th {\n",
       "        text-align: right;\n",
       "    }\n",
       "</style>\n",
       "<table border=\"1\" class=\"dataframe\">\n",
       "  <thead>\n",
       "    <tr style=\"text-align: right;\">\n",
       "      <th></th>\n",
       "      <th>0</th>\n",
       "      <th>1</th>\n",
       "      <th>2</th>\n",
       "      <th>yeni</th>\n",
       "    </tr>\n",
       "  </thead>\n",
       "  <tbody>\n",
       "    <tr>\n",
       "      <th>5</th>\n",
       "      <td>101</td>\n",
       "      <td>91</td>\n",
       "      <td>10</td>\n",
       "      <td>101</td>\n",
       "    </tr>\n",
       "    <tr>\n",
       "      <th>3</th>\n",
       "      <td>10</td>\n",
       "      <td>57</td>\n",
       "      <td>20</td>\n",
       "      <td>57</td>\n",
       "    </tr>\n",
       "    <tr>\n",
       "      <th>2</th>\n",
       "      <td>31</td>\n",
       "      <td>32</td>\n",
       "      <td>33</td>\n",
       "      <td>33</td>\n",
       "    </tr>\n",
       "  </tbody>\n",
       "</table>\n",
       "</div>"
      ],
      "text/plain": [
       "     0   1   2  yeni\n",
       "5  101  91  10   101\n",
       "3   10  57  20    57\n",
       "2   31  32  33    33"
      ]
     },
     "execution_count": 79,
     "metadata": {},
     "output_type": "execute_result"
    }
   ],
   "source": [
    "df.nlargest(3, 'yeni')"
   ]
  },
  {
   "cell_type": "code",
   "execution_count": 90,
   "metadata": {},
   "outputs": [
    {
     "name": "stdout",
     "output_type": "stream",
     "text": [
      "CPU times: user 3.52 ms, sys: 0 ns, total: 3.52 ms\n",
      "Wall time: 1.9 ms\n"
     ]
    },
    {
     "data": {
      "text/html": [
       "<div>\n",
       "<style scoped>\n",
       "    .dataframe tbody tr th:only-of-type {\n",
       "        vertical-align: middle;\n",
       "    }\n",
       "\n",
       "    .dataframe tbody tr th {\n",
       "        vertical-align: top;\n",
       "    }\n",
       "\n",
       "    .dataframe thead th {\n",
       "        text-align: right;\n",
       "    }\n",
       "</style>\n",
       "<table border=\"1\" class=\"dataframe\">\n",
       "  <thead>\n",
       "    <tr style=\"text-align: right;\">\n",
       "      <th></th>\n",
       "      <th>0</th>\n",
       "      <th>1</th>\n",
       "      <th>2</th>\n",
       "      <th>yeni</th>\n",
       "    </tr>\n",
       "  </thead>\n",
       "  <tbody>\n",
       "    <tr>\n",
       "      <th>0</th>\n",
       "      <td>10</td>\n",
       "      <td>2</td>\n",
       "      <td>13</td>\n",
       "      <td>13</td>\n",
       "    </tr>\n",
       "    <tr>\n",
       "      <th>4</th>\n",
       "      <td>20</td>\n",
       "      <td>20</td>\n",
       "      <td>20</td>\n",
       "      <td>20</td>\n",
       "    </tr>\n",
       "    <tr>\n",
       "      <th>1</th>\n",
       "      <td>21</td>\n",
       "      <td>22</td>\n",
       "      <td>23</td>\n",
       "      <td>23</td>\n",
       "    </tr>\n",
       "  </tbody>\n",
       "</table>\n",
       "</div>"
      ],
      "text/plain": [
       "    0   1   2  yeni\n",
       "0  10   2  13    13\n",
       "4  20  20  20    20\n",
       "1  21  22  23    23"
      ]
     },
     "execution_count": 90,
     "metadata": {},
     "output_type": "execute_result"
    }
   ],
   "source": [
    "%%time\n",
    "df.nsmallest(3, 'yeni')"
   ]
  },
  {
   "cell_type": "code",
   "execution_count": 86,
   "metadata": {},
   "outputs": [
    {
     "name": "stdout",
     "output_type": "stream",
     "text": [
      "CPU times: user 1.4 ms, sys: 226 µs, total: 1.62 ms\n",
      "Wall time: 941 µs\n"
     ]
    },
    {
     "data": {
      "text/html": [
       "<div>\n",
       "<style scoped>\n",
       "    .dataframe tbody tr th:only-of-type {\n",
       "        vertical-align: middle;\n",
       "    }\n",
       "\n",
       "    .dataframe tbody tr th {\n",
       "        vertical-align: top;\n",
       "    }\n",
       "\n",
       "    .dataframe thead th {\n",
       "        text-align: right;\n",
       "    }\n",
       "</style>\n",
       "<table border=\"1\" class=\"dataframe\">\n",
       "  <thead>\n",
       "    <tr style=\"text-align: right;\">\n",
       "      <th></th>\n",
       "      <th>0</th>\n",
       "      <th>1</th>\n",
       "      <th>2</th>\n",
       "      <th>yeni</th>\n",
       "    </tr>\n",
       "  </thead>\n",
       "  <tbody>\n",
       "    <tr>\n",
       "      <th>0</th>\n",
       "      <td>10</td>\n",
       "      <td>2</td>\n",
       "      <td>13</td>\n",
       "      <td>13</td>\n",
       "    </tr>\n",
       "    <tr>\n",
       "      <th>4</th>\n",
       "      <td>20</td>\n",
       "      <td>20</td>\n",
       "      <td>20</td>\n",
       "      <td>20</td>\n",
       "    </tr>\n",
       "    <tr>\n",
       "      <th>1</th>\n",
       "      <td>21</td>\n",
       "      <td>22</td>\n",
       "      <td>23</td>\n",
       "      <td>23</td>\n",
       "    </tr>\n",
       "  </tbody>\n",
       "</table>\n",
       "</div>"
      ],
      "text/plain": [
       "    0   1   2  yeni\n",
       "0  10   2  13    13\n",
       "4  20  20  20    20\n",
       "1  21  22  23    23"
      ]
     },
     "execution_count": 86,
     "metadata": {},
     "output_type": "execute_result"
    }
   ],
   "source": [
    "%%time\n",
    "df.sort_values('yeni', ascending=True).head(3)"
   ]
  },
  {
   "cell_type": "code",
   "execution_count": 10,
   "metadata": {},
   "outputs": [
    {
     "name": "stdout",
     "output_type": "stream",
     "text": [
      "CPU times: user 3.4 ms, sys: 1.79 ms, total: 5.18 ms\n",
      "Wall time: 3.83 ms\n"
     ]
    }
   ],
   "source": [
    "%%time\n",
    "df_2 = pd.DataFrame(np.random.randint(0,1000000,size=(150000, 4)), columns=list('ABCD'))"
   ]
  },
  {
   "cell_type": "code",
   "execution_count": 11,
   "metadata": {},
   "outputs": [
    {
     "name": "stdout",
     "output_type": "stream",
     "text": [
      "CPU times: user 2 µs, sys: 1 µs, total: 3 µs\n",
      "Wall time: 4.29 µs\n"
     ]
    },
    {
     "data": {
      "text/html": [
       "<div>\n",
       "<style scoped>\n",
       "    .dataframe tbody tr th:only-of-type {\n",
       "        vertical-align: middle;\n",
       "    }\n",
       "\n",
       "    .dataframe tbody tr th {\n",
       "        vertical-align: top;\n",
       "    }\n",
       "\n",
       "    .dataframe thead th {\n",
       "        text-align: right;\n",
       "    }\n",
       "</style>\n",
       "<table border=\"1\" class=\"dataframe\">\n",
       "  <thead>\n",
       "    <tr style=\"text-align: right;\">\n",
       "      <th></th>\n",
       "      <th>A</th>\n",
       "      <th>B</th>\n",
       "      <th>C</th>\n",
       "      <th>D</th>\n",
       "    </tr>\n",
       "  </thead>\n",
       "  <tbody>\n",
       "    <tr>\n",
       "      <th>0</th>\n",
       "      <td>150585</td>\n",
       "      <td>998918</td>\n",
       "      <td>194920</td>\n",
       "      <td>760535</td>\n",
       "    </tr>\n",
       "    <tr>\n",
       "      <th>1</th>\n",
       "      <td>832780</td>\n",
       "      <td>977520</td>\n",
       "      <td>933415</td>\n",
       "      <td>473585</td>\n",
       "    </tr>\n",
       "    <tr>\n",
       "      <th>2</th>\n",
       "      <td>561704</td>\n",
       "      <td>316452</td>\n",
       "      <td>303296</td>\n",
       "      <td>817997</td>\n",
       "    </tr>\n",
       "    <tr>\n",
       "      <th>3</th>\n",
       "      <td>940847</td>\n",
       "      <td>65155</td>\n",
       "      <td>70238</td>\n",
       "      <td>265937</td>\n",
       "    </tr>\n",
       "    <tr>\n",
       "      <th>4</th>\n",
       "      <td>740735</td>\n",
       "      <td>922780</td>\n",
       "      <td>836565</td>\n",
       "      <td>616100</td>\n",
       "    </tr>\n",
       "    <tr>\n",
       "      <th>...</th>\n",
       "      <td>...</td>\n",
       "      <td>...</td>\n",
       "      <td>...</td>\n",
       "      <td>...</td>\n",
       "    </tr>\n",
       "    <tr>\n",
       "      <th>149995</th>\n",
       "      <td>911323</td>\n",
       "      <td>763350</td>\n",
       "      <td>774797</td>\n",
       "      <td>203463</td>\n",
       "    </tr>\n",
       "    <tr>\n",
       "      <th>149996</th>\n",
       "      <td>916565</td>\n",
       "      <td>407177</td>\n",
       "      <td>518233</td>\n",
       "      <td>21218</td>\n",
       "    </tr>\n",
       "    <tr>\n",
       "      <th>149997</th>\n",
       "      <td>517583</td>\n",
       "      <td>837872</td>\n",
       "      <td>339594</td>\n",
       "      <td>237872</td>\n",
       "    </tr>\n",
       "    <tr>\n",
       "      <th>149998</th>\n",
       "      <td>413803</td>\n",
       "      <td>789299</td>\n",
       "      <td>30317</td>\n",
       "      <td>700114</td>\n",
       "    </tr>\n",
       "    <tr>\n",
       "      <th>149999</th>\n",
       "      <td>733046</td>\n",
       "      <td>403663</td>\n",
       "      <td>40377</td>\n",
       "      <td>722079</td>\n",
       "    </tr>\n",
       "  </tbody>\n",
       "</table>\n",
       "<p>150000 rows × 4 columns</p>\n",
       "</div>"
      ],
      "text/plain": [
       "             A       B       C       D\n",
       "0       150585  998918  194920  760535\n",
       "1       832780  977520  933415  473585\n",
       "2       561704  316452  303296  817997\n",
       "3       940847   65155   70238  265937\n",
       "4       740735  922780  836565  616100\n",
       "...        ...     ...     ...     ...\n",
       "149995  911323  763350  774797  203463\n",
       "149996  916565  407177  518233   21218\n",
       "149997  517583  837872  339594  237872\n",
       "149998  413803  789299   30317  700114\n",
       "149999  733046  403663   40377  722079\n",
       "\n",
       "[150000 rows x 4 columns]"
      ]
     },
     "execution_count": 11,
     "metadata": {},
     "output_type": "execute_result"
    }
   ],
   "source": [
    "%%time\n",
    "df_2"
   ]
  },
  {
   "cell_type": "code",
   "execution_count": 12,
   "metadata": {},
   "outputs": [
    {
     "name": "stdout",
     "output_type": "stream",
     "text": [
      "CPU times: user 7.14 s, sys: 513 ms, total: 7.65 s\n",
      "Wall time: 7.2 s\n"
     ]
    }
   ],
   "source": [
    "%%time\n",
    "df_2['yeni'] =df_2.apply(my_function, axis=1)"
   ]
  },
  {
   "cell_type": "code",
   "execution_count": 13,
   "metadata": {},
   "outputs": [
    {
     "data": {
      "text/html": [
       "<div>\n",
       "<style scoped>\n",
       "    .dataframe tbody tr th:only-of-type {\n",
       "        vertical-align: middle;\n",
       "    }\n",
       "\n",
       "    .dataframe tbody tr th {\n",
       "        vertical-align: top;\n",
       "    }\n",
       "\n",
       "    .dataframe thead th {\n",
       "        text-align: right;\n",
       "    }\n",
       "</style>\n",
       "<table border=\"1\" class=\"dataframe\">\n",
       "  <thead>\n",
       "    <tr style=\"text-align: right;\">\n",
       "      <th></th>\n",
       "      <th>A</th>\n",
       "      <th>B</th>\n",
       "      <th>C</th>\n",
       "      <th>D</th>\n",
       "      <th>yeni</th>\n",
       "    </tr>\n",
       "  </thead>\n",
       "  <tbody>\n",
       "    <tr>\n",
       "      <th>0</th>\n",
       "      <td>150585</td>\n",
       "      <td>998918</td>\n",
       "      <td>194920</td>\n",
       "      <td>760535</td>\n",
       "      <td>998918</td>\n",
       "    </tr>\n",
       "    <tr>\n",
       "      <th>1</th>\n",
       "      <td>832780</td>\n",
       "      <td>977520</td>\n",
       "      <td>933415</td>\n",
       "      <td>473585</td>\n",
       "      <td>977520</td>\n",
       "    </tr>\n",
       "    <tr>\n",
       "      <th>2</th>\n",
       "      <td>561704</td>\n",
       "      <td>316452</td>\n",
       "      <td>303296</td>\n",
       "      <td>817997</td>\n",
       "      <td>817997</td>\n",
       "    </tr>\n",
       "    <tr>\n",
       "      <th>3</th>\n",
       "      <td>940847</td>\n",
       "      <td>65155</td>\n",
       "      <td>70238</td>\n",
       "      <td>265937</td>\n",
       "      <td>940847</td>\n",
       "    </tr>\n",
       "    <tr>\n",
       "      <th>4</th>\n",
       "      <td>740735</td>\n",
       "      <td>922780</td>\n",
       "      <td>836565</td>\n",
       "      <td>616100</td>\n",
       "      <td>922780</td>\n",
       "    </tr>\n",
       "    <tr>\n",
       "      <th>...</th>\n",
       "      <td>...</td>\n",
       "      <td>...</td>\n",
       "      <td>...</td>\n",
       "      <td>...</td>\n",
       "      <td>...</td>\n",
       "    </tr>\n",
       "    <tr>\n",
       "      <th>149995</th>\n",
       "      <td>911323</td>\n",
       "      <td>763350</td>\n",
       "      <td>774797</td>\n",
       "      <td>203463</td>\n",
       "      <td>911323</td>\n",
       "    </tr>\n",
       "    <tr>\n",
       "      <th>149996</th>\n",
       "      <td>916565</td>\n",
       "      <td>407177</td>\n",
       "      <td>518233</td>\n",
       "      <td>21218</td>\n",
       "      <td>916565</td>\n",
       "    </tr>\n",
       "    <tr>\n",
       "      <th>149997</th>\n",
       "      <td>517583</td>\n",
       "      <td>837872</td>\n",
       "      <td>339594</td>\n",
       "      <td>237872</td>\n",
       "      <td>837872</td>\n",
       "    </tr>\n",
       "    <tr>\n",
       "      <th>149998</th>\n",
       "      <td>413803</td>\n",
       "      <td>789299</td>\n",
       "      <td>30317</td>\n",
       "      <td>700114</td>\n",
       "      <td>789299</td>\n",
       "    </tr>\n",
       "    <tr>\n",
       "      <th>149999</th>\n",
       "      <td>733046</td>\n",
       "      <td>403663</td>\n",
       "      <td>40377</td>\n",
       "      <td>722079</td>\n",
       "      <td>733046</td>\n",
       "    </tr>\n",
       "  </tbody>\n",
       "</table>\n",
       "<p>150000 rows × 5 columns</p>\n",
       "</div>"
      ],
      "text/plain": [
       "             A       B       C       D    yeni\n",
       "0       150585  998918  194920  760535  998918\n",
       "1       832780  977520  933415  473585  977520\n",
       "2       561704  316452  303296  817997  817997\n",
       "3       940847   65155   70238  265937  940847\n",
       "4       740735  922780  836565  616100  922780\n",
       "...        ...     ...     ...     ...     ...\n",
       "149995  911323  763350  774797  203463  911323\n",
       "149996  916565  407177  518233   21218  916565\n",
       "149997  517583  837872  339594  237872  837872\n",
       "149998  413803  789299   30317  700114  789299\n",
       "149999  733046  403663   40377  722079  733046\n",
       "\n",
       "[150000 rows x 5 columns]"
      ]
     },
     "execution_count": 13,
     "metadata": {},
     "output_type": "execute_result"
    }
   ],
   "source": [
    "df_2"
   ]
  },
  {
   "cell_type": "code",
   "execution_count": 19,
   "metadata": {},
   "outputs": [
    {
     "name": "stdout",
     "output_type": "stream",
     "text": [
      "CPU times: user 19.7 ms, sys: 137 µs, total: 19.9 ms\n",
      "Wall time: 18.3 ms\n"
     ]
    },
    {
     "data": {
      "text/html": [
       "<div>\n",
       "<style scoped>\n",
       "    .dataframe tbody tr th:only-of-type {\n",
       "        vertical-align: middle;\n",
       "    }\n",
       "\n",
       "    .dataframe tbody tr th {\n",
       "        vertical-align: top;\n",
       "    }\n",
       "\n",
       "    .dataframe thead th {\n",
       "        text-align: right;\n",
       "    }\n",
       "</style>\n",
       "<table border=\"1\" class=\"dataframe\">\n",
       "  <thead>\n",
       "    <tr style=\"text-align: right;\">\n",
       "      <th></th>\n",
       "      <th>A</th>\n",
       "      <th>B</th>\n",
       "      <th>C</th>\n",
       "      <th>D</th>\n",
       "      <th>yeni</th>\n",
       "    </tr>\n",
       "  </thead>\n",
       "  <tbody>\n",
       "    <tr>\n",
       "      <th>43886</th>\n",
       "      <td>667848</td>\n",
       "      <td>577454</td>\n",
       "      <td>795917</td>\n",
       "      <td>999999</td>\n",
       "      <td>999999</td>\n",
       "    </tr>\n",
       "    <tr>\n",
       "      <th>11599</th>\n",
       "      <td>336243</td>\n",
       "      <td>221454</td>\n",
       "      <td>999998</td>\n",
       "      <td>184722</td>\n",
       "      <td>999998</td>\n",
       "    </tr>\n",
       "    <tr>\n",
       "      <th>60485</th>\n",
       "      <td>557803</td>\n",
       "      <td>999997</td>\n",
       "      <td>664558</td>\n",
       "      <td>265342</td>\n",
       "      <td>999997</td>\n",
       "    </tr>\n",
       "    <tr>\n",
       "      <th>9161</th>\n",
       "      <td>161822</td>\n",
       "      <td>999996</td>\n",
       "      <td>393976</td>\n",
       "      <td>296622</td>\n",
       "      <td>999996</td>\n",
       "    </tr>\n",
       "    <tr>\n",
       "      <th>16456</th>\n",
       "      <td>150939</td>\n",
       "      <td>851914</td>\n",
       "      <td>139009</td>\n",
       "      <td>999996</td>\n",
       "      <td>999996</td>\n",
       "    </tr>\n",
       "  </tbody>\n",
       "</table>\n",
       "</div>"
      ],
      "text/plain": [
       "            A       B       C       D    yeni\n",
       "43886  667848  577454  795917  999999  999999\n",
       "11599  336243  221454  999998  184722  999998\n",
       "60485  557803  999997  664558  265342  999997\n",
       "9161   161822  999996  393976  296622  999996\n",
       "16456  150939  851914  139009  999996  999996"
      ]
     },
     "execution_count": 19,
     "metadata": {},
     "output_type": "execute_result"
    }
   ],
   "source": [
    "%%time\n",
    "df_2.sort_values('yeni', ascending=False).head(5)"
   ]
  },
  {
   "cell_type": "code",
   "execution_count": 18,
   "metadata": {},
   "outputs": [
    {
     "name": "stdout",
     "output_type": "stream",
     "text": [
      "CPU times: user 5.43 ms, sys: 797 µs, total: 6.23 ms\n",
      "Wall time: 4.98 ms\n"
     ]
    },
    {
     "data": {
      "text/html": [
       "<div>\n",
       "<style scoped>\n",
       "    .dataframe tbody tr th:only-of-type {\n",
       "        vertical-align: middle;\n",
       "    }\n",
       "\n",
       "    .dataframe tbody tr th {\n",
       "        vertical-align: top;\n",
       "    }\n",
       "\n",
       "    .dataframe thead th {\n",
       "        text-align: right;\n",
       "    }\n",
       "</style>\n",
       "<table border=\"1\" class=\"dataframe\">\n",
       "  <thead>\n",
       "    <tr style=\"text-align: right;\">\n",
       "      <th></th>\n",
       "      <th>A</th>\n",
       "      <th>B</th>\n",
       "      <th>C</th>\n",
       "      <th>D</th>\n",
       "      <th>yeni</th>\n",
       "    </tr>\n",
       "  </thead>\n",
       "  <tbody>\n",
       "    <tr>\n",
       "      <th>43886</th>\n",
       "      <td>667848</td>\n",
       "      <td>577454</td>\n",
       "      <td>795917</td>\n",
       "      <td>999999</td>\n",
       "      <td>999999</td>\n",
       "    </tr>\n",
       "    <tr>\n",
       "      <th>11599</th>\n",
       "      <td>336243</td>\n",
       "      <td>221454</td>\n",
       "      <td>999998</td>\n",
       "      <td>184722</td>\n",
       "      <td>999998</td>\n",
       "    </tr>\n",
       "    <tr>\n",
       "      <th>60485</th>\n",
       "      <td>557803</td>\n",
       "      <td>999997</td>\n",
       "      <td>664558</td>\n",
       "      <td>265342</td>\n",
       "      <td>999997</td>\n",
       "    </tr>\n",
       "    <tr>\n",
       "      <th>9161</th>\n",
       "      <td>161822</td>\n",
       "      <td>999996</td>\n",
       "      <td>393976</td>\n",
       "      <td>296622</td>\n",
       "      <td>999996</td>\n",
       "    </tr>\n",
       "    <tr>\n",
       "      <th>9555</th>\n",
       "      <td>672347</td>\n",
       "      <td>38613</td>\n",
       "      <td>88633</td>\n",
       "      <td>999996</td>\n",
       "      <td>999996</td>\n",
       "    </tr>\n",
       "  </tbody>\n",
       "</table>\n",
       "</div>"
      ],
      "text/plain": [
       "            A       B       C       D    yeni\n",
       "43886  667848  577454  795917  999999  999999\n",
       "11599  336243  221454  999998  184722  999998\n",
       "60485  557803  999997  664558  265342  999997\n",
       "9161   161822  999996  393976  296622  999996\n",
       "9555   672347   38613   88633  999996  999996"
      ]
     },
     "execution_count": 18,
     "metadata": {},
     "output_type": "execute_result"
    }
   ],
   "source": [
    "%%time\n",
    "df_2.nlargest(5, 'yeni')"
   ]
  },
  {
   "cell_type": "code",
   "execution_count": null,
   "metadata": {},
   "outputs": [],
   "source": []
  }
 ],
 "metadata": {
  "kernelspec": {
   "display_name": "Python 3",
   "language": "python",
   "name": "python3"
  },
  "language_info": {
   "codemirror_mode": {
    "name": "ipython",
    "version": 3
   },
   "file_extension": ".py",
   "mimetype": "text/x-python",
   "name": "python",
   "nbconvert_exporter": "python",
   "pygments_lexer": "ipython3",
   "version": "3.8.2"
  }
 },
 "nbformat": 4,
 "nbformat_minor": 4
}
