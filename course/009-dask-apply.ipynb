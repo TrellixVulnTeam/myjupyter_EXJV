{
 "cells": [
  {
   "cell_type": "code",
   "execution_count": 1,
   "metadata": {},
   "outputs": [
    {
     "data": {
      "text/html": [
       "<table style=\"border: 2px solid white;\">\n",
       "<tr>\n",
       "<td style=\"vertical-align: top; border: 0px solid white\">\n",
       "<h3 style=\"text-align: left;\">Client</h3>\n",
       "<ul style=\"text-align: left; list-style: none; margin: 0; padding: 0;\">\n",
       "  <li><b>Scheduler: </b>tcp://127.0.0.1:36219</li>\n",
       "  <li><b>Dashboard: </b><a href='http://127.0.0.1:8787/status' target='_blank'>http://127.0.0.1:8787/status</a></li>\n",
       "</ul>\n",
       "</td>\n",
       "<td style=\"vertical-align: top; border: 0px solid white\">\n",
       "<h3 style=\"text-align: left;\">Cluster</h3>\n",
       "<ul style=\"text-align: left; list-style:none; margin: 0; padding: 0;\">\n",
       "  <li><b>Workers: </b>8</li>\n",
       "  <li><b>Cores: </b>32</li>\n",
       "  <li><b>Memory: </b>134.85 GB</li>\n",
       "</ul>\n",
       "</td>\n",
       "</tr>\n",
       "</table>"
      ],
      "text/plain": [
       "<Client: 'tcp://127.0.0.1:36219' processes=8 threads=32, memory=134.85 GB>"
      ]
     },
     "execution_count": 1,
     "metadata": {},
     "output_type": "execute_result"
    }
   ],
   "source": [
    "from dask.distributed import Client, progress, LocalCluster\n",
    "\n",
    "# client = Client(\"tcp://127.0.0.1:50328\")\n",
    "# client = Client(processes=False, threads_per_worker=4, n_workers=4, memory_limit=\"10GB\")\n",
    "# client = Client(n_workers=4)\n",
    "# client = Client()\n",
    "cluster = LocalCluster()\n",
    "client = Client(cluster)\n",
    "# client = Client(\"tcp://172.20.103.122:8786\")\n",
    "\n",
    "client"
   ]
  },
  {
   "cell_type": "markdown",
   "metadata": {
    "jupyter": {
     "outputs_hidden": true
    }
   },
   "source": [
    "client.get_versions(check=True)"
   ]
  },
  {
   "cell_type": "markdown",
   "metadata": {},
   "source": [
    "client.restart()"
   ]
  },
  {
   "cell_type": "code",
   "execution_count": 2,
   "metadata": {},
   "outputs": [],
   "source": [
    "import dask\n",
    "import dask.dataframe as dd\n",
    "import pandas as pd"
   ]
  },
  {
   "cell_type": "code",
   "execution_count": 3,
   "metadata": {},
   "outputs": [
    {
     "name": "stdout",
     "output_type": "stream",
     "text": [
      "head*carpan =>  10000000\n"
     ]
    }
   ],
   "source": [
    "carpan = 500000\n",
    "hd = 20\n",
    "print(\"head*carpan => \", hd*carpan)\n",
    "initdf = dd.read_parquet('local_table3.parquet.gzip', engine='pyarrow')\n",
    "pdf = initdf.head(hd)"
   ]
  },
  {
   "cell_type": "markdown",
   "metadata": {},
   "source": [
    "len(pdf)"
   ]
  },
  {
   "cell_type": "markdown",
   "metadata": {},
   "source": [
    "sourceData = pdf[(pdf.personid == 365538) & (pdf.finger_index == 11)]\n",
    "print(type(sourceData))\n",
    "# print((sourceData))\n",
    "sourceData.to_parquet('sourceData.parquet.gzip',\n",
    "              compression='gzip')\n",
    "# dd.to_parquet(sourceData, 'sourceData',\n",
    "#               compression='gzip')\n",
    "# sourceData = sourceData['cylindersbinary'].compute().loc[0]\n",
    "# print((sourceData))\n",
    "print(type(sourceData))\n",
    "\n",
    "# sourceData"
   ]
  },
  {
   "cell_type": "code",
   "execution_count": 4,
   "metadata": {},
   "outputs": [],
   "source": [
    "sourceData = dd.read_parquet('sourceData.parquet.gzip')['cylindersbinary'].compute().loc[0]\n",
    "# dnm.compute()\n",
    "# dnm['cylindersbinary'].compute().loc[0]\n",
    "# sourceData"
   ]
  },
  {
   "cell_type": "markdown",
   "metadata": {},
   "source": [
    "len(pdf)"
   ]
  },
  {
   "cell_type": "code",
   "execution_count": 5,
   "metadata": {},
   "outputs": [],
   "source": [
    "pdf = pd.concat([pdf]*carpan, ignore_index=True)"
   ]
  },
  {
   "cell_type": "code",
   "execution_count": 6,
   "metadata": {},
   "outputs": [],
   "source": [
    "df = dd.from_pandas(pdf, npartitions=8)"
   ]
  },
  {
   "cell_type": "code",
   "execution_count": 7,
   "metadata": {},
   "outputs": [
    {
     "name": "stdout",
     "output_type": "stream",
     "text": [
      "(0, 1250000, 2500000, 3750000, 5000000, 6250000, 7500000, 8750000, 9999999)\n",
      "8\n",
      "2\n"
     ]
    }
   ],
   "source": [
    "# print(df.compute())\n",
    "print(df.divisions)\n",
    "print(df.npartitions)\n",
    "print(df.ndim)"
   ]
  },
  {
   "cell_type": "markdown",
   "metadata": {},
   "source": [
    "df = df.repartition(npartitions=8)"
   ]
  },
  {
   "cell_type": "markdown",
   "metadata": {},
   "source": [
    "### df = df.repartition(npartitions=df.npartitions // 100)\n",
    "df = df.repartition(npartitions=4)"
   ]
  },
  {
   "cell_type": "markdown",
   "metadata": {},
   "source": [
    "df.index"
   ]
  },
  {
   "cell_type": "code",
   "execution_count": 8,
   "metadata": {},
   "outputs": [
    {
     "data": {
      "text/plain": [
       "dask.dataframe.core.DataFrame"
      ]
     },
     "execution_count": 8,
     "metadata": {},
     "output_type": "execute_result"
    }
   ],
   "source": [
    "type(df)"
   ]
  },
  {
   "cell_type": "markdown",
   "metadata": {},
   "source": [
    "sourceData = df.loc(365538)\n",
    "sourceData = sourceData[df.finger_index == 11]\n",
    "sourceData = sourceData['cylindersbinary'].compute().loc[0]\n",
    "# sourceData"
   ]
  },
  {
   "cell_type": "markdown",
   "metadata": {},
   "source": [
    "sourceData = df[(df.personid == 365538) & (df.finger_index == 11)]\n",
    "sourceData = sourceData['cylindersbinary'].compute().loc[0]\n",
    "\n",
    "# sourceData"
   ]
  },
  {
   "cell_type": "markdown",
   "metadata": {},
   "source": [
    "df = df.set_index('personid')"
   ]
  },
  {
   "cell_type": "code",
   "execution_count": 9,
   "metadata": {},
   "outputs": [
    {
     "data": {
      "text/html": [
       "<div><strong>Dask DataFrame Structure:</strong></div>\n",
       "<div>\n",
       "<style scoped>\n",
       "    .dataframe tbody tr th:only-of-type {\n",
       "        vertical-align: middle;\n",
       "    }\n",
       "\n",
       "    .dataframe tbody tr th {\n",
       "        vertical-align: top;\n",
       "    }\n",
       "\n",
       "    .dataframe thead th {\n",
       "        text-align: right;\n",
       "    }\n",
       "</style>\n",
       "<table border=\"1\" class=\"dataframe\">\n",
       "  <thead>\n",
       "    <tr style=\"text-align: right;\">\n",
       "      <th></th>\n",
       "      <th>personid</th>\n",
       "      <th>status</th>\n",
       "      <th>finger_index</th>\n",
       "      <th>cylindersbinary</th>\n",
       "    </tr>\n",
       "    <tr>\n",
       "      <th>npartitions=8</th>\n",
       "      <th></th>\n",
       "      <th></th>\n",
       "      <th></th>\n",
       "      <th></th>\n",
       "    </tr>\n",
       "  </thead>\n",
       "  <tbody>\n",
       "    <tr>\n",
       "      <th>0</th>\n",
       "      <td>int64</td>\n",
       "      <td>int64</td>\n",
       "      <td>int64</td>\n",
       "      <td>object</td>\n",
       "    </tr>\n",
       "    <tr>\n",
       "      <th>1250000</th>\n",
       "      <td>...</td>\n",
       "      <td>...</td>\n",
       "      <td>...</td>\n",
       "      <td>...</td>\n",
       "    </tr>\n",
       "    <tr>\n",
       "      <th>...</th>\n",
       "      <td>...</td>\n",
       "      <td>...</td>\n",
       "      <td>...</td>\n",
       "      <td>...</td>\n",
       "    </tr>\n",
       "    <tr>\n",
       "      <th>8750000</th>\n",
       "      <td>...</td>\n",
       "      <td>...</td>\n",
       "      <td>...</td>\n",
       "      <td>...</td>\n",
       "    </tr>\n",
       "    <tr>\n",
       "      <th>9999999</th>\n",
       "      <td>...</td>\n",
       "      <td>...</td>\n",
       "      <td>...</td>\n",
       "      <td>...</td>\n",
       "    </tr>\n",
       "  </tbody>\n",
       "</table>\n",
       "</div>\n",
       "<div>Dask Name: from_pandas, 8 tasks</div>"
      ],
      "text/plain": [
       "Dask DataFrame Structure:\n",
       "              personid status finger_index cylindersbinary\n",
       "npartitions=8                                             \n",
       "0                int64  int64        int64          object\n",
       "1250000            ...    ...          ...             ...\n",
       "...                ...    ...          ...             ...\n",
       "8750000            ...    ...          ...             ...\n",
       "9999999            ...    ...          ...             ...\n",
       "Dask Name: from_pandas, 8 tasks"
      ]
     },
     "execution_count": 9,
     "metadata": {},
     "output_type": "execute_result"
    }
   ],
   "source": [
    "df = client.persist(df)\n",
    "df"
   ]
  },
  {
   "cell_type": "code",
   "execution_count": 10,
   "metadata": {},
   "outputs": [
    {
     "data": {
      "text/plain": [
       "<dask.highlevelgraph.HighLevelGraph at 0x7fb336e88a00>"
      ]
     },
     "execution_count": 10,
     "metadata": {},
     "output_type": "execute_result"
    }
   ],
   "source": [
    "df.dask"
   ]
  },
  {
   "cell_type": "code",
   "execution_count": 11,
   "metadata": {},
   "outputs": [
    {
     "data": {
      "text/plain": [
       "dask.dataframe.core.DataFrame"
      ]
     },
     "execution_count": 11,
     "metadata": {},
     "output_type": "execute_result"
    }
   ],
   "source": [
    "type(df)"
   ]
  },
  {
   "cell_type": "code",
   "execution_count": 12,
   "metadata": {},
   "outputs": [
    {
     "data": {
      "text/html": [
       "<div><strong>Dask DataFrame Structure:</strong></div>\n",
       "<div>\n",
       "<style scoped>\n",
       "    .dataframe tbody tr th:only-of-type {\n",
       "        vertical-align: middle;\n",
       "    }\n",
       "\n",
       "    .dataframe tbody tr th {\n",
       "        vertical-align: top;\n",
       "    }\n",
       "\n",
       "    .dataframe thead th {\n",
       "        text-align: right;\n",
       "    }\n",
       "</style>\n",
       "<table border=\"1\" class=\"dataframe\">\n",
       "  <thead>\n",
       "    <tr style=\"text-align: right;\">\n",
       "      <th></th>\n",
       "      <th>personid</th>\n",
       "      <th>status</th>\n",
       "      <th>finger_index</th>\n",
       "      <th>cylindersbinary</th>\n",
       "    </tr>\n",
       "    <tr>\n",
       "      <th>npartitions=8</th>\n",
       "      <th></th>\n",
       "      <th></th>\n",
       "      <th></th>\n",
       "      <th></th>\n",
       "    </tr>\n",
       "  </thead>\n",
       "  <tbody>\n",
       "    <tr>\n",
       "      <th>0</th>\n",
       "      <td>int64</td>\n",
       "      <td>int64</td>\n",
       "      <td>int64</td>\n",
       "      <td>object</td>\n",
       "    </tr>\n",
       "    <tr>\n",
       "      <th>1250000</th>\n",
       "      <td>...</td>\n",
       "      <td>...</td>\n",
       "      <td>...</td>\n",
       "      <td>...</td>\n",
       "    </tr>\n",
       "    <tr>\n",
       "      <th>...</th>\n",
       "      <td>...</td>\n",
       "      <td>...</td>\n",
       "      <td>...</td>\n",
       "      <td>...</td>\n",
       "    </tr>\n",
       "    <tr>\n",
       "      <th>8750000</th>\n",
       "      <td>...</td>\n",
       "      <td>...</td>\n",
       "      <td>...</td>\n",
       "      <td>...</td>\n",
       "    </tr>\n",
       "    <tr>\n",
       "      <th>9999999</th>\n",
       "      <td>...</td>\n",
       "      <td>...</td>\n",
       "      <td>...</td>\n",
       "      <td>...</td>\n",
       "    </tr>\n",
       "  </tbody>\n",
       "</table>\n",
       "</div>\n",
       "<div>Dask Name: from_pandas, 8 tasks</div>"
      ],
      "text/plain": [
       "Dask DataFrame Structure:\n",
       "              personid status finger_index cylindersbinary\n",
       "npartitions=8                                             \n",
       "0                int64  int64        int64          object\n",
       "1250000            ...    ...          ...             ...\n",
       "...                ...    ...          ...             ...\n",
       "8750000            ...    ...          ...             ...\n",
       "9999999            ...    ...          ...             ...\n",
       "Dask Name: from_pandas, 8 tasks"
      ]
     },
     "execution_count": 12,
     "metadata": {},
     "output_type": "execute_result"
    }
   ],
   "source": [
    "df"
   ]
  },
  {
   "cell_type": "markdown",
   "metadata": {},
   "source": [
    "df = df.head(30)\n",
    "df = dd.from_pandas(df, npartitions=2)"
   ]
  },
  {
   "cell_type": "code",
   "execution_count": 13,
   "metadata": {},
   "outputs": [
    {
     "data": {
      "text/plain": [
       "bytes"
      ]
     },
     "execution_count": 13,
     "metadata": {},
     "output_type": "execute_result"
    }
   ],
   "source": [
    "type(sourceData)"
   ]
  },
  {
   "cell_type": "markdown",
   "metadata": {},
   "source": [
    "len(df)"
   ]
  },
  {
   "cell_type": "markdown",
   "metadata": {},
   "source": [
    "df.compute().head(36)"
   ]
  },
  {
   "cell_type": "code",
   "execution_count": 11,
   "metadata": {},
   "outputs": [],
   "source": [
    "import ctypes as ct\n",
    "from ctypes import cdll\n",
    "\n",
    "def testCompareFing(a,b,c,d):\n",
    "    baseDir = '/home/dev/Practice/MCCLib-DASK'\n",
    "    # ct.CDLL._func_restype_ = ct.c_float\n",
    "\n",
    "#     libComp = cdll.LoadLibrary(baseDir + '/build/bin/fingercomp.so')\n",
    "\n",
    "#     compareF = libComp.compareFingers\n",
    "#     compareF.argtypes = [ct.c_char_p, ct.c_long, ct.c_char_p, ct.c_long]\n",
    "#     compareF.restype = ct.c_float\n",
    "\n",
    "    ret = 22.22\n",
    "\n",
    "    return ret "
   ]
  },
  {
   "cell_type": "code",
   "execution_count": 10,
   "metadata": {},
   "outputs": [],
   "source": [
    "import ctypes as ct\n",
    "from ctypes import cdll\n",
    "\n",
    "def compareFing(a,b,c,d):\n",
    "    baseDir = '/home/dev/Practice/MCCLib-DASK'\n",
    "    # ct.CDLL._func_restype_ = ct.c_float\n",
    "\n",
    "    libComp = cdll.LoadLibrary(baseDir + '/build/bin/fingercomp.so')\n",
    "\n",
    "    compareF = libComp.compareFingers\n",
    "    compareF.argtypes = [ct.c_char_p, ct.c_long, ct.c_char_p, ct.c_long]\n",
    "    compareF.restype = ct.c_float\n",
    "\n",
    "    ret = compareF(a,b,c,d)\n",
    "\n",
    "    return ret "
   ]
  },
  {
   "cell_type": "code",
   "execution_count": 11,
   "metadata": {},
   "outputs": [],
   "source": [
    "def calcWrapper(row):\n",
    "#     print(\"type(row) => \", type(row))\n",
    "#     print(\"row.dtypes => \", row.dtypes)\n",
    "#     print(\"row['Last Name'] => \", row['Last Name'])\n",
    "#     print(\"row => \\n\", row)\n",
    "\n",
    "#     return libComp.compareFingers(ct.c_char_p(sourceData),\n",
    "#                                            len(sourceData),\n",
    "#                                            ct.c_char_p(bytes(row['cylindersbinary'])),\n",
    "#                                            len(row['cylindersbinary']))\n",
    "#     print(type(row['cylindersbinary']))\n",
    "\n",
    "#     return libComp.compareFingers(sourceData,\n",
    "#                                            len(sourceData),\n",
    "#                                            sourceData,\n",
    "#                                            len(sourceData))\n",
    "\n",
    "#     return libComp.compareFingers(ct.c_char_p(sourceData),\n",
    "#                                            len(sourceData),\n",
    "#                                            ct.c_char_p(row['cylindersbinary']),\n",
    "#                                            len(row['cylindersbinary']))\n",
    "\n",
    "    return compareFing(sourceData,\n",
    "                       len(sourceData),\n",
    "                       row['cylindersbinary'],\n",
    "                       len(row['cylindersbinary']))\n",
    "\n",
    "# # a = peopleDaskDataFrame.applymap(myF)\n",
    "# a = peopleDaskDataFrame.apply(calcWrapper, axis=1)"
   ]
  },
  {
   "cell_type": "code",
   "execution_count": 12,
   "metadata": {},
   "outputs": [],
   "source": [
    "resultsSeries = df.apply(calcWrapper, axis=1, meta=(None, 'f8'))"
   ]
  },
  {
   "cell_type": "markdown",
   "metadata": {},
   "source": [
    "type(df)"
   ]
  },
  {
   "cell_type": "markdown",
   "metadata": {},
   "source": [
    "type(resultsSeries)"
   ]
  },
  {
   "cell_type": "markdown",
   "metadata": {},
   "source": [
    "%%time\n",
    "resultsSeries.compute()"
   ]
  },
  {
   "cell_type": "markdown",
   "metadata": {},
   "source": [
    "client.persist(resultsSeries)"
   ]
  },
  {
   "cell_type": "code",
   "execution_count": 13,
   "metadata": {},
   "outputs": [
    {
     "name": "stdout",
     "output_type": "stream",
     "text": [
      "CPU times: user 1.11 ms, sys: 0 ns, total: 1.11 ms\n",
      "Wall time: 1.11 ms\n"
     ]
    }
   ],
   "source": [
    "%%time\n",
    "res0 = resultsSeries.nlargest(15)\n",
    "# res0.visualize()"
   ]
  },
  {
   "cell_type": "markdown",
   "metadata": {},
   "source": [
    "len(resultsSeries)"
   ]
  },
  {
   "cell_type": "code",
   "execution_count": 14,
   "metadata": {},
   "outputs": [
    {
     "name": "stdout",
     "output_type": "stream",
     "text": [
      "CPU times: user 14.7 s, sys: 1.48 s, total: 16.1 s\n",
      "Wall time: 2min 1s\n"
     ]
    },
    {
     "data": {
      "text/plain": [
       "0      0.8684\n",
       "20     0.8684\n",
       "40     0.8684\n",
       "60     0.8684\n",
       "80     0.8684\n",
       "100    0.8684\n",
       "120    0.8684\n",
       "140    0.8684\n",
       "160    0.8684\n",
       "180    0.8684\n",
       "200    0.8684\n",
       "220    0.8684\n",
       "240    0.8684\n",
       "260    0.8684\n",
       "280    0.8684\n",
       "dtype: float64"
      ]
     },
     "execution_count": 14,
     "metadata": {},
     "output_type": "execute_result"
    }
   ],
   "source": [
    "%%time\n",
    "# client.gather(res0)\n",
    "res1 = res0.compute()\n",
    "res1"
   ]
  },
  {
   "cell_type": "markdown",
   "metadata": {},
   "source": [
    "client.cancel(res0)"
   ]
  },
  {
   "cell_type": "code",
   "execution_count": 19,
   "metadata": {},
   "outputs": [
    {
     "name": "stdout",
     "output_type": "stream",
     "text": [
      "CPU times: user 53 s, sys: 14.8 s, total: 1min 7s\n",
      "Wall time: 39.8 s\n"
     ]
    },
    {
     "data": {
      "text/plain": [
       "0        0.8684\n",
       "1        0.1310\n",
       "2        0.1443\n",
       "3        0.1493\n",
       "4        0.1334\n",
       "          ...  \n",
       "99995    0.1227\n",
       "99996    0.1238\n",
       "99997    0.1221\n",
       "99998    0.1219\n",
       "99999    0.1237\n",
       "Length: 100000, dtype: float64"
      ]
     },
     "execution_count": 19,
     "metadata": {},
     "output_type": "execute_result"
    }
   ],
   "source": [
    "%%time\n",
    "res1 = resultsSeries.compute()\n",
    "res1"
   ]
  },
  {
   "cell_type": "code",
   "execution_count": 52,
   "metadata": {},
   "outputs": [
    {
     "name": "stdout",
     "output_type": "stream",
     "text": [
      "100000\n",
      "100000\n"
     ]
    }
   ],
   "source": [
    "print(len(resultsSeries))\n",
    "print(len(df))"
   ]
  },
  {
   "cell_type": "code",
   "execution_count": 22,
   "metadata": {},
   "outputs": [
    {
     "data": {
      "text/plain": [
       "0        0.8684\n",
       "1        0.1310\n",
       "2        0.1443\n",
       "3        0.1493\n",
       "4        0.1334\n",
       "          ...  \n",
       "99995    0.1227\n",
       "99996    0.1238\n",
       "99997    0.1221\n",
       "99998    0.1219\n",
       "99999    0.1237\n",
       "Length: 100000, dtype: float64"
      ]
     },
     "execution_count": 22,
     "metadata": {},
     "output_type": "execute_result"
    }
   ],
   "source": [
    "resultsSeries.compute()"
   ]
  },
  {
   "cell_type": "code",
   "execution_count": null,
   "metadata": {},
   "outputs": [],
   "source": []
  }
 ],
 "metadata": {
  "kernelspec": {
   "display_name": "Python 3",
   "language": "python",
   "name": "python3"
  },
  "language_info": {
   "codemirror_mode": {
    "name": "ipython",
    "version": 3
   },
   "file_extension": ".py",
   "mimetype": "text/x-python",
   "name": "python",
   "nbconvert_exporter": "python",
   "pygments_lexer": "ipython3",
   "version": "3.8.2"
  }
 },
 "nbformat": 4,
 "nbformat_minor": 4
}
