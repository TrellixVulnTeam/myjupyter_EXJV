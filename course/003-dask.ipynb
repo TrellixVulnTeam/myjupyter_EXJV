{
 "cells": [
  {
   "cell_type": "code",
   "execution_count": 1,
   "metadata": {},
   "outputs": [],
   "source": [
    "import numpy as np\n",
    "import pandas as pd\n",
    "import dask\n",
    "import dask.dataframe as dd"
   ]
  },
  {
   "cell_type": "code",
   "execution_count": 50,
   "metadata": {},
   "outputs": [
    {
     "name": "stdout",
     "output_type": "stream",
     "text": [
      "CPU times: user 663 ms, sys: 59 ms, total: 722 ms\n",
      "Wall time: 720 ms\n"
     ]
    }
   ],
   "source": [
    "%%time\n",
    "df = dd.from_array(np.random.randint(0,1000000,size=(15000000, 4)), columns=list('ABCD'))"
   ]
  },
  {
   "cell_type": "code",
   "execution_count": 51,
   "metadata": {},
   "outputs": [
    {
     "name": "stdout",
     "output_type": "stream",
     "text": [
      "CPU times: user 96.4 ms, sys: 160 ms, total: 257 ms\n",
      "Wall time: 241 ms\n"
     ]
    },
    {
     "data": {
      "text/html": [
       "<div>\n",
       "<style scoped>\n",
       "    .dataframe tbody tr th:only-of-type {\n",
       "        vertical-align: middle;\n",
       "    }\n",
       "\n",
       "    .dataframe tbody tr th {\n",
       "        vertical-align: top;\n",
       "    }\n",
       "\n",
       "    .dataframe thead th {\n",
       "        text-align: right;\n",
       "    }\n",
       "</style>\n",
       "<table border=\"1\" class=\"dataframe\">\n",
       "  <thead>\n",
       "    <tr style=\"text-align: right;\">\n",
       "      <th></th>\n",
       "      <th>A</th>\n",
       "      <th>B</th>\n",
       "      <th>C</th>\n",
       "      <th>D</th>\n",
       "    </tr>\n",
       "  </thead>\n",
       "  <tbody>\n",
       "    <tr>\n",
       "      <th>0</th>\n",
       "      <td>582444</td>\n",
       "      <td>772476</td>\n",
       "      <td>523786</td>\n",
       "      <td>540216</td>\n",
       "    </tr>\n",
       "    <tr>\n",
       "      <th>1</th>\n",
       "      <td>979630</td>\n",
       "      <td>765776</td>\n",
       "      <td>361608</td>\n",
       "      <td>121976</td>\n",
       "    </tr>\n",
       "    <tr>\n",
       "      <th>2</th>\n",
       "      <td>590497</td>\n",
       "      <td>422973</td>\n",
       "      <td>115357</td>\n",
       "      <td>517849</td>\n",
       "    </tr>\n",
       "    <tr>\n",
       "      <th>3</th>\n",
       "      <td>158643</td>\n",
       "      <td>785834</td>\n",
       "      <td>273294</td>\n",
       "      <td>371481</td>\n",
       "    </tr>\n",
       "    <tr>\n",
       "      <th>4</th>\n",
       "      <td>757986</td>\n",
       "      <td>410621</td>\n",
       "      <td>515873</td>\n",
       "      <td>958883</td>\n",
       "    </tr>\n",
       "    <tr>\n",
       "      <th>...</th>\n",
       "      <td>...</td>\n",
       "      <td>...</td>\n",
       "      <td>...</td>\n",
       "      <td>...</td>\n",
       "    </tr>\n",
       "    <tr>\n",
       "      <th>49995</th>\n",
       "      <td>150552</td>\n",
       "      <td>680662</td>\n",
       "      <td>737085</td>\n",
       "      <td>467821</td>\n",
       "    </tr>\n",
       "    <tr>\n",
       "      <th>49996</th>\n",
       "      <td>911098</td>\n",
       "      <td>257677</td>\n",
       "      <td>671001</td>\n",
       "      <td>24726</td>\n",
       "    </tr>\n",
       "    <tr>\n",
       "      <th>49997</th>\n",
       "      <td>431640</td>\n",
       "      <td>424511</td>\n",
       "      <td>795696</td>\n",
       "      <td>457078</td>\n",
       "    </tr>\n",
       "    <tr>\n",
       "      <th>49998</th>\n",
       "      <td>953695</td>\n",
       "      <td>105258</td>\n",
       "      <td>224103</td>\n",
       "      <td>484081</td>\n",
       "    </tr>\n",
       "    <tr>\n",
       "      <th>49999</th>\n",
       "      <td>195495</td>\n",
       "      <td>641704</td>\n",
       "      <td>166832</td>\n",
       "      <td>456070</td>\n",
       "    </tr>\n",
       "  </tbody>\n",
       "</table>\n",
       "<p>15000000 rows × 4 columns</p>\n",
       "</div>"
      ],
      "text/plain": [
       "            A       B       C       D\n",
       "0      582444  772476  523786  540216\n",
       "1      979630  765776  361608  121976\n",
       "2      590497  422973  115357  517849\n",
       "3      158643  785834  273294  371481\n",
       "4      757986  410621  515873  958883\n",
       "...       ...     ...     ...     ...\n",
       "49995  150552  680662  737085  467821\n",
       "49996  911098  257677  671001   24726\n",
       "49997  431640  424511  795696  457078\n",
       "49998  953695  105258  224103  484081\n",
       "49999  195495  641704  166832  456070\n",
       "\n",
       "[15000000 rows x 4 columns]"
      ]
     },
     "execution_count": 51,
     "metadata": {},
     "output_type": "execute_result"
    }
   ],
   "source": [
    "%%time\n",
    "df.compute()"
   ]
  },
  {
   "cell_type": "code",
   "execution_count": 52,
   "metadata": {},
   "outputs": [
    {
     "data": {
      "text/plain": [
       "2"
      ]
     },
     "execution_count": 52,
     "metadata": {},
     "output_type": "execute_result"
    }
   ],
   "source": [
    "df.ndim"
   ]
  },
  {
   "cell_type": "code",
   "execution_count": 53,
   "metadata": {},
   "outputs": [
    {
     "data": {
      "text/plain": [
       "300"
      ]
     },
     "execution_count": 53,
     "metadata": {},
     "output_type": "execute_result"
    }
   ],
   "source": [
    "df.npartitions"
   ]
  },
  {
   "cell_type": "code",
   "execution_count": 54,
   "metadata": {},
   "outputs": [
    {
     "data": {
      "text/plain": [
       "A    int64\n",
       "B    int64\n",
       "C    int64\n",
       "D    int64\n",
       "dtype: object"
      ]
     },
     "execution_count": 54,
     "metadata": {},
     "output_type": "execute_result"
    }
   ],
   "source": [
    "df.dtypes"
   ]
  },
  {
   "cell_type": "code",
   "execution_count": 56,
   "metadata": {},
   "outputs": [
    {
     "name": "stdout",
     "output_type": "stream",
     "text": [
      "CPU times: user 1.18 s, sys: 380 ms, total: 1.56 s\n",
      "Wall time: 709 ms\n"
     ]
    },
    {
     "data": {
      "text/html": [
       "<div>\n",
       "<style scoped>\n",
       "    .dataframe tbody tr th:only-of-type {\n",
       "        vertical-align: middle;\n",
       "    }\n",
       "\n",
       "    .dataframe tbody tr th {\n",
       "        vertical-align: top;\n",
       "    }\n",
       "\n",
       "    .dataframe thead th {\n",
       "        text-align: right;\n",
       "    }\n",
       "</style>\n",
       "<table border=\"1\" class=\"dataframe\">\n",
       "  <thead>\n",
       "    <tr style=\"text-align: right;\">\n",
       "      <th></th>\n",
       "      <th>A</th>\n",
       "      <th>B</th>\n",
       "      <th>C</th>\n",
       "      <th>D</th>\n",
       "    </tr>\n",
       "  </thead>\n",
       "  <tbody>\n",
       "    <tr>\n",
       "      <th>664</th>\n",
       "      <td>864443</td>\n",
       "      <td>145024</td>\n",
       "      <td>956645</td>\n",
       "      <td>999999</td>\n",
       "    </tr>\n",
       "    <tr>\n",
       "      <th>39148</th>\n",
       "      <td>593369</td>\n",
       "      <td>872089</td>\n",
       "      <td>785770</td>\n",
       "      <td>999999</td>\n",
       "    </tr>\n",
       "    <tr>\n",
       "      <th>3704</th>\n",
       "      <td>592090</td>\n",
       "      <td>452821</td>\n",
       "      <td>67798</td>\n",
       "      <td>999999</td>\n",
       "    </tr>\n",
       "    <tr>\n",
       "      <th>7038</th>\n",
       "      <td>368284</td>\n",
       "      <td>458442</td>\n",
       "      <td>553225</td>\n",
       "      <td>999999</td>\n",
       "    </tr>\n",
       "    <tr>\n",
       "      <th>20580</th>\n",
       "      <td>191073</td>\n",
       "      <td>129198</td>\n",
       "      <td>379590</td>\n",
       "      <td>999999</td>\n",
       "    </tr>\n",
       "  </tbody>\n",
       "</table>\n",
       "</div>"
      ],
      "text/plain": [
       "            A       B       C       D\n",
       "664    864443  145024  956645  999999\n",
       "39148  593369  872089  785770  999999\n",
       "3704   592090  452821   67798  999999\n",
       "7038   368284  458442  553225  999999\n",
       "20580  191073  129198  379590  999999"
      ]
     },
     "execution_count": 56,
     "metadata": {},
     "output_type": "execute_result"
    }
   ],
   "source": [
    "%%time\n",
    "df.nlargest(5, 'D').compute()"
   ]
  },
  {
   "cell_type": "code",
   "execution_count": 57,
   "metadata": {},
   "outputs": [],
   "source": [
    "a=df.assign(temp_f=lambda x: x.A+10)"
   ]
  },
  {
   "cell_type": "code",
   "execution_count": 63,
   "metadata": {},
   "outputs": [
    {
     "name": "stdout",
     "output_type": "stream",
     "text": [
      "CPU times: user 873 ms, sys: 581 ms, total: 1.45 s\n",
      "Wall time: 1.09 s\n"
     ]
    },
    {
     "data": {
      "text/html": [
       "<div>\n",
       "<style scoped>\n",
       "    .dataframe tbody tr th:only-of-type {\n",
       "        vertical-align: middle;\n",
       "    }\n",
       "\n",
       "    .dataframe tbody tr th {\n",
       "        vertical-align: top;\n",
       "    }\n",
       "\n",
       "    .dataframe thead th {\n",
       "        text-align: right;\n",
       "    }\n",
       "</style>\n",
       "<table border=\"1\" class=\"dataframe\">\n",
       "  <thead>\n",
       "    <tr style=\"text-align: right;\">\n",
       "      <th></th>\n",
       "      <th>A</th>\n",
       "      <th>B</th>\n",
       "      <th>C</th>\n",
       "      <th>D</th>\n",
       "      <th>temp_f</th>\n",
       "    </tr>\n",
       "  </thead>\n",
       "  <tbody>\n",
       "    <tr>\n",
       "      <th>0</th>\n",
       "      <td>582444</td>\n",
       "      <td>772476</td>\n",
       "      <td>523786</td>\n",
       "      <td>540216</td>\n",
       "      <td>582454</td>\n",
       "    </tr>\n",
       "    <tr>\n",
       "      <th>1</th>\n",
       "      <td>979630</td>\n",
       "      <td>765776</td>\n",
       "      <td>361608</td>\n",
       "      <td>121976</td>\n",
       "      <td>979640</td>\n",
       "    </tr>\n",
       "    <tr>\n",
       "      <th>2</th>\n",
       "      <td>590497</td>\n",
       "      <td>422973</td>\n",
       "      <td>115357</td>\n",
       "      <td>517849</td>\n",
       "      <td>590507</td>\n",
       "    </tr>\n",
       "    <tr>\n",
       "      <th>3</th>\n",
       "      <td>158643</td>\n",
       "      <td>785834</td>\n",
       "      <td>273294</td>\n",
       "      <td>371481</td>\n",
       "      <td>158653</td>\n",
       "    </tr>\n",
       "    <tr>\n",
       "      <th>4</th>\n",
       "      <td>757986</td>\n",
       "      <td>410621</td>\n",
       "      <td>515873</td>\n",
       "      <td>958883</td>\n",
       "      <td>757996</td>\n",
       "    </tr>\n",
       "    <tr>\n",
       "      <th>...</th>\n",
       "      <td>...</td>\n",
       "      <td>...</td>\n",
       "      <td>...</td>\n",
       "      <td>...</td>\n",
       "      <td>...</td>\n",
       "    </tr>\n",
       "    <tr>\n",
       "      <th>49995</th>\n",
       "      <td>150552</td>\n",
       "      <td>680662</td>\n",
       "      <td>737085</td>\n",
       "      <td>467821</td>\n",
       "      <td>150562</td>\n",
       "    </tr>\n",
       "    <tr>\n",
       "      <th>49996</th>\n",
       "      <td>911098</td>\n",
       "      <td>257677</td>\n",
       "      <td>671001</td>\n",
       "      <td>24726</td>\n",
       "      <td>911108</td>\n",
       "    </tr>\n",
       "    <tr>\n",
       "      <th>49997</th>\n",
       "      <td>431640</td>\n",
       "      <td>424511</td>\n",
       "      <td>795696</td>\n",
       "      <td>457078</td>\n",
       "      <td>431650</td>\n",
       "    </tr>\n",
       "    <tr>\n",
       "      <th>49998</th>\n",
       "      <td>953695</td>\n",
       "      <td>105258</td>\n",
       "      <td>224103</td>\n",
       "      <td>484081</td>\n",
       "      <td>953705</td>\n",
       "    </tr>\n",
       "    <tr>\n",
       "      <th>49999</th>\n",
       "      <td>195495</td>\n",
       "      <td>641704</td>\n",
       "      <td>166832</td>\n",
       "      <td>456070</td>\n",
       "      <td>195505</td>\n",
       "    </tr>\n",
       "  </tbody>\n",
       "</table>\n",
       "<p>15000000 rows × 5 columns</p>\n",
       "</div>"
      ],
      "text/plain": [
       "            A       B       C       D  temp_f\n",
       "0      582444  772476  523786  540216  582454\n",
       "1      979630  765776  361608  121976  979640\n",
       "2      590497  422973  115357  517849  590507\n",
       "3      158643  785834  273294  371481  158653\n",
       "4      757986  410621  515873  958883  757996\n",
       "...       ...     ...     ...     ...     ...\n",
       "49995  150552  680662  737085  467821  150562\n",
       "49996  911098  257677  671001   24726  911108\n",
       "49997  431640  424511  795696  457078  431650\n",
       "49998  953695  105258  224103  484081  953705\n",
       "49999  195495  641704  166832  456070  195505\n",
       "\n",
       "[15000000 rows x 5 columns]"
      ]
     },
     "execution_count": 63,
     "metadata": {},
     "output_type": "execute_result"
    }
   ],
   "source": [
    "%%time\n",
    "a.compute()"
   ]
  },
  {
   "cell_type": "code",
   "execution_count": 65,
   "metadata": {},
   "outputs": [
    {
     "name": "stdout",
     "output_type": "stream",
     "text": [
      "CPU times: user 2.02 s, sys: 736 ms, total: 2.75 s\n",
      "Wall time: 1.2 s\n"
     ]
    },
    {
     "data": {
      "text/html": [
       "<div>\n",
       "<style scoped>\n",
       "    .dataframe tbody tr th:only-of-type {\n",
       "        vertical-align: middle;\n",
       "    }\n",
       "\n",
       "    .dataframe tbody tr th {\n",
       "        vertical-align: top;\n",
       "    }\n",
       "\n",
       "    .dataframe thead th {\n",
       "        text-align: right;\n",
       "    }\n",
       "</style>\n",
       "<table border=\"1\" class=\"dataframe\">\n",
       "  <thead>\n",
       "    <tr style=\"text-align: right;\">\n",
       "      <th></th>\n",
       "      <th>A</th>\n",
       "      <th>B</th>\n",
       "      <th>C</th>\n",
       "      <th>D</th>\n",
       "      <th>temp_f</th>\n",
       "    </tr>\n",
       "  </thead>\n",
       "  <tbody>\n",
       "    <tr>\n",
       "      <th>12467</th>\n",
       "      <td>999999</td>\n",
       "      <td>14876</td>\n",
       "      <td>218915</td>\n",
       "      <td>999611</td>\n",
       "      <td>1000009</td>\n",
       "    </tr>\n",
       "    <tr>\n",
       "      <th>24256</th>\n",
       "      <td>999999</td>\n",
       "      <td>469696</td>\n",
       "      <td>160116</td>\n",
       "      <td>307509</td>\n",
       "      <td>1000009</td>\n",
       "    </tr>\n",
       "    <tr>\n",
       "      <th>19774</th>\n",
       "      <td>999999</td>\n",
       "      <td>883593</td>\n",
       "      <td>446917</td>\n",
       "      <td>14673</td>\n",
       "      <td>1000009</td>\n",
       "    </tr>\n",
       "    <tr>\n",
       "      <th>31899</th>\n",
       "      <td>999999</td>\n",
       "      <td>862014</td>\n",
       "      <td>247849</td>\n",
       "      <td>482233</td>\n",
       "      <td>1000009</td>\n",
       "    </tr>\n",
       "    <tr>\n",
       "      <th>11808</th>\n",
       "      <td>999999</td>\n",
       "      <td>849161</td>\n",
       "      <td>457506</td>\n",
       "      <td>818367</td>\n",
       "      <td>1000009</td>\n",
       "    </tr>\n",
       "  </tbody>\n",
       "</table>\n",
       "</div>"
      ],
      "text/plain": [
       "            A       B       C       D   temp_f\n",
       "12467  999999   14876  218915  999611  1000009\n",
       "24256  999999  469696  160116  307509  1000009\n",
       "19774  999999  883593  446917   14673  1000009\n",
       "31899  999999  862014  247849  482233  1000009\n",
       "11808  999999  849161  457506  818367  1000009"
      ]
     },
     "execution_count": 65,
     "metadata": {},
     "output_type": "execute_result"
    }
   ],
   "source": [
    "%%time\n",
    "a.nlargest(5, 'temp_f').compute()"
   ]
  },
  {
   "cell_type": "code",
   "execution_count": null,
   "metadata": {},
   "outputs": [],
   "source": []
  }
 ],
 "metadata": {
  "kernelspec": {
   "display_name": "Python 3",
   "language": "python",
   "name": "python3"
  },
  "language_info": {
   "codemirror_mode": {
    "name": "ipython",
    "version": 3
   },
   "file_extension": ".py",
   "mimetype": "text/x-python",
   "name": "python",
   "nbconvert_exporter": "python",
   "pygments_lexer": "ipython3",
   "version": "3.8.2"
  }
 },
 "nbformat": 4,
 "nbformat_minor": 4
}
