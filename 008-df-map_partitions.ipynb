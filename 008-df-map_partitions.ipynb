{
 "cells": [
  {
   "cell_type": "code",
   "execution_count": 1,
   "metadata": {},
   "outputs": [],
   "source": [
    "import pandas\n",
    "import dask.dataframe as daskDataFrame\n",
    "\n",
    "person_IDs = [1,2,3,4,5,6,7,8,9,10]\n",
    "person_last_names = ['Smith', 'Williams', 'Williams','Jackson','Johnson','Smith','Anderson','Christiansen','Carter','Davidson']\n",
    "person_first_names = ['John', 'Bill', 'Jane','Cathy','Stuart','James','Felicity','Liam','Nancy','Christina']\n",
    "person_DOBs = ['1982-10-06', '1990-07-04', '1989-05-06', '1974-01-24', '1995-06-05', '1984-04-16', '1976-09-15', '1992-10-02', '1986-02-05', '1993-08-11']\n",
    "\n",
    "peoplePandasDataFrame = pandas.DataFrame({'Person ID':person_IDs, \n",
    "                                          'Last Name': person_last_names, \n",
    "                                          'First Name': person_first_names,\n",
    "                                          'Date of Birth': person_DOBs},\n",
    "                                         columns=['Person ID', 'Last Name', 'First Name', 'Date of Birth'])\n",
    "\n",
    "peopleDaskDataFrame = daskDataFrame.from_pandas(peoplePandasDataFrame, npartitions=2)"
   ]
  },
  {
   "cell_type": "code",
   "execution_count": 2,
   "metadata": {},
   "outputs": [
    {
     "name": "stdout",
     "output_type": "stream",
     "text": [
      "   Person ID     Last Name First Name Date of Birth\n",
      "0          1         Smith       John    1982-10-06\n",
      "1          2      Williams       Bill    1990-07-04\n",
      "2          3      Williams       Jane    1989-05-06\n",
      "3          4       Jackson      Cathy    1974-01-24\n",
      "4          5       Johnson     Stuart    1995-06-05\n",
      "5          6         Smith      James    1984-04-16\n",
      "6          7      Anderson   Felicity    1976-09-15\n",
      "7          8  Christiansen       Liam    1992-10-02\n",
      "8          9        Carter      Nancy    1986-02-05\n",
      "9         10      Davidson  Christina    1993-08-11\n",
      "(0, 5, 9)\n",
      "2\n"
     ]
    }
   ],
   "source": [
    "print(peopleDaskDataFrame.compute())\n",
    "print(peopleDaskDataFrame.divisions)\n",
    "print(peopleDaskDataFrame.npartitions)"
   ]
  },
  {
   "cell_type": "markdown",
   "metadata": {},
   "source": [
    "### map_partition # takes all row as 1 argument"
   ]
  },
  {
   "cell_type": "markdown",
   "metadata": {},
   "source": [
    "Above shows a couple useful attributes of Dask DataFrames that can be used to inspect how a DataFrame is partitioned. The first attribute, divisions, (0, 5, 9), shows the boundaries of the partitioning scheme (remember that partitions are created on the index). This might look strange since there are two partitions but three boundaries. Each partition’s boundary consists of pairs of numbers from the list of divisions. The boundary for the first partition is “from 0 up to (but not including) 5,” meaning it will contain rows 0, 1, 2, 3, and 4. The boundary for the second partition is “from 5 through (and including) 9,” meaning it will contain rows 5, 6, 7, 8, and 9. The last partition always includes the upper boundary, whereas the other partitions go up to but don’t include their upper boundary."
   ]
  },
  {
   "cell_type": "code",
   "execution_count": 44,
   "metadata": {},
   "outputs": [
    {
     "data": {
      "text/plain": [
       "0    5\n",
       "1    5\n",
       "dtype: int64"
      ]
     },
     "execution_count": 44,
     "metadata": {},
     "output_type": "execute_result"
    }
   ],
   "source": [
    "peopleDaskDataFrame.map_partitions(len).compute()"
   ]
  },
  {
   "cell_type": "code",
   "execution_count": 45,
   "metadata": {},
   "outputs": [],
   "source": [
    "people_filtered = peopleDaskDataFrame[peopleDaskDataFrame['Last Name'] != 'Williams']"
   ]
  },
  {
   "cell_type": "code",
   "execution_count": 46,
   "metadata": {},
   "outputs": [
    {
     "name": "stdout",
     "output_type": "stream",
     "text": [
      "0    3\n",
      "1    5\n",
      "dtype: int64\n"
     ]
    }
   ],
   "source": [
    "print(people_filtered.map_partitions(len).compute())"
   ]
  },
  {
   "cell_type": "code",
   "execution_count": 47,
   "metadata": {},
   "outputs": [
    {
     "name": "stdout",
     "output_type": "stream",
     "text": [
      "<class 'dask.dataframe.core.Series'>\n"
     ]
    }
   ],
   "source": [
    "print(type(people_filtered.map_partitions(len)))"
   ]
  },
  {
   "cell_type": "code",
   "execution_count": 48,
   "metadata": {},
   "outputs": [
    {
     "data": {
      "text/html": [
       "<div>\n",
       "<style scoped>\n",
       "    .dataframe tbody tr th:only-of-type {\n",
       "        vertical-align: middle;\n",
       "    }\n",
       "\n",
       "    .dataframe tbody tr th {\n",
       "        vertical-align: top;\n",
       "    }\n",
       "\n",
       "    .dataframe thead th {\n",
       "        text-align: right;\n",
       "    }\n",
       "</style>\n",
       "<table border=\"1\" class=\"dataframe\">\n",
       "  <thead>\n",
       "    <tr style=\"text-align: right;\">\n",
       "      <th></th>\n",
       "      <th>Person ID</th>\n",
       "      <th>Last Name</th>\n",
       "      <th>First Name</th>\n",
       "      <th>Date of Birth</th>\n",
       "    </tr>\n",
       "  </thead>\n",
       "  <tbody>\n",
       "    <tr>\n",
       "      <th>0</th>\n",
       "      <td>1</td>\n",
       "      <td>Smith</td>\n",
       "      <td>John</td>\n",
       "      <td>1982-10-06</td>\n",
       "    </tr>\n",
       "    <tr>\n",
       "      <th>3</th>\n",
       "      <td>4</td>\n",
       "      <td>Jackson</td>\n",
       "      <td>Cathy</td>\n",
       "      <td>1974-01-24</td>\n",
       "    </tr>\n",
       "    <tr>\n",
       "      <th>4</th>\n",
       "      <td>5</td>\n",
       "      <td>Johnson</td>\n",
       "      <td>Stuart</td>\n",
       "      <td>1995-06-05</td>\n",
       "    </tr>\n",
       "    <tr>\n",
       "      <th>5</th>\n",
       "      <td>6</td>\n",
       "      <td>Smith</td>\n",
       "      <td>James</td>\n",
       "      <td>1984-04-16</td>\n",
       "    </tr>\n",
       "    <tr>\n",
       "      <th>6</th>\n",
       "      <td>7</td>\n",
       "      <td>Anderson</td>\n",
       "      <td>Felicity</td>\n",
       "      <td>1976-09-15</td>\n",
       "    </tr>\n",
       "    <tr>\n",
       "      <th>7</th>\n",
       "      <td>8</td>\n",
       "      <td>Christiansen</td>\n",
       "      <td>Liam</td>\n",
       "      <td>1992-10-02</td>\n",
       "    </tr>\n",
       "    <tr>\n",
       "      <th>8</th>\n",
       "      <td>9</td>\n",
       "      <td>Carter</td>\n",
       "      <td>Nancy</td>\n",
       "      <td>1986-02-05</td>\n",
       "    </tr>\n",
       "    <tr>\n",
       "      <th>9</th>\n",
       "      <td>10</td>\n",
       "      <td>Davidson</td>\n",
       "      <td>Christina</td>\n",
       "      <td>1993-08-11</td>\n",
       "    </tr>\n",
       "  </tbody>\n",
       "</table>\n",
       "</div>"
      ],
      "text/plain": [
       "   Person ID     Last Name First Name Date of Birth\n",
       "0          1         Smith       John    1982-10-06\n",
       "3          4       Jackson      Cathy    1974-01-24\n",
       "4          5       Johnson     Stuart    1995-06-05\n",
       "5          6         Smith      James    1984-04-16\n",
       "6          7      Anderson   Felicity    1976-09-15\n",
       "7          8  Christiansen       Liam    1992-10-02\n",
       "8          9        Carter      Nancy    1986-02-05\n",
       "9         10      Davidson  Christina    1993-08-11"
      ]
     },
     "execution_count": 48,
     "metadata": {},
     "output_type": "execute_result"
    }
   ],
   "source": [
    "people_filtered.compute()"
   ]
  },
  {
   "cell_type": "code",
   "execution_count": 49,
   "metadata": {},
   "outputs": [],
   "source": [
    "### applymap"
   ]
  },
  {
   "cell_type": "code",
   "execution_count": 41,
   "metadata": {},
   "outputs": [
    {
     "name": "stdout",
     "output_type": "stream",
     "text": [
      "<class 'pandas.core.frame.DataFrame'>\n",
      "       0      1\n",
      "0  1.000  2.120\n",
      "1  3.356  4.567\n"
     ]
    }
   ],
   "source": [
    "dfa = pandas.DataFrame([[1, 2.12], [3.356, 4.567]])\n",
    "print(type(dfa))\n",
    "print(dfa)"
   ]
  },
  {
   "cell_type": "code",
   "execution_count": 45,
   "metadata": {},
   "outputs": [],
   "source": [
    "def mySquare(x):\n",
    "    print('x => ', x)\n",
    "    print('type(x) => ', type(x))\n"
   ]
  },
  {
   "cell_type": "code",
   "execution_count": 46,
   "metadata": {},
   "outputs": [
    {
     "name": "stdout",
     "output_type": "stream",
     "text": [
      "x =>  2.12\n",
      "type(x) =>  <class 'float'>\n",
      "x =>  4.567\n",
      "type(x) =>  <class 'float'>\n"
     ]
    },
    {
     "data": {
      "text/plain": [
       "0    None\n",
       "1    None\n",
       "Name: 1, dtype: object"
      ]
     },
     "execution_count": 46,
     "metadata": {},
     "output_type": "execute_result"
    }
   ],
   "source": [
    "dfa[1].map(mySquare)"
   ]
  },
  {
   "cell_type": "code",
   "execution_count": 47,
   "metadata": {},
   "outputs": [
    {
     "name": "stdout",
     "output_type": "stream",
     "text": [
      "x =>  1.0\n",
      "type(x) =>  <class 'float'>\n",
      "x =>  3.356\n",
      "type(x) =>  <class 'float'>\n",
      "x =>  2.12\n",
      "type(x) =>  <class 'float'>\n",
      "x =>  4.567\n",
      "type(x) =>  <class 'float'>\n"
     ]
    },
    {
     "data": {
      "text/html": [
       "<div>\n",
       "<style scoped>\n",
       "    .dataframe tbody tr th:only-of-type {\n",
       "        vertical-align: middle;\n",
       "    }\n",
       "\n",
       "    .dataframe tbody tr th {\n",
       "        vertical-align: top;\n",
       "    }\n",
       "\n",
       "    .dataframe thead th {\n",
       "        text-align: right;\n",
       "    }\n",
       "</style>\n",
       "<table border=\"1\" class=\"dataframe\">\n",
       "  <thead>\n",
       "    <tr style=\"text-align: right;\">\n",
       "      <th></th>\n",
       "      <th>0</th>\n",
       "      <th>1</th>\n",
       "    </tr>\n",
       "  </thead>\n",
       "  <tbody>\n",
       "    <tr>\n",
       "      <th>0</th>\n",
       "      <td>None</td>\n",
       "      <td>None</td>\n",
       "    </tr>\n",
       "    <tr>\n",
       "      <th>1</th>\n",
       "      <td>None</td>\n",
       "      <td>None</td>\n",
       "    </tr>\n",
       "  </tbody>\n",
       "</table>\n",
       "</div>"
      ],
      "text/plain": [
       "      0     1\n",
       "0  None  None\n",
       "1  None  None"
      ]
     },
     "execution_count": 47,
     "metadata": {},
     "output_type": "execute_result"
    }
   ],
   "source": [
    "dfa.applymap(mySquare)"
   ]
  },
  {
   "cell_type": "code",
   "execution_count": 8,
   "metadata": {},
   "outputs": [
    {
     "data": {
      "text/html": [
       "<div>\n",
       "<style scoped>\n",
       "    .dataframe tbody tr th:only-of-type {\n",
       "        vertical-align: middle;\n",
       "    }\n",
       "\n",
       "    .dataframe tbody tr th {\n",
       "        vertical-align: top;\n",
       "    }\n",
       "\n",
       "    .dataframe thead th {\n",
       "        text-align: right;\n",
       "    }\n",
       "</style>\n",
       "<table border=\"1\" class=\"dataframe\">\n",
       "  <thead>\n",
       "    <tr style=\"text-align: right;\">\n",
       "      <th></th>\n",
       "      <th>0</th>\n",
       "      <th>1</th>\n",
       "    </tr>\n",
       "  </thead>\n",
       "  <tbody>\n",
       "    <tr>\n",
       "      <th>0</th>\n",
       "      <td>3</td>\n",
       "      <td>4</td>\n",
       "    </tr>\n",
       "    <tr>\n",
       "      <th>1</th>\n",
       "      <td>5</td>\n",
       "      <td>5</td>\n",
       "    </tr>\n",
       "  </tbody>\n",
       "</table>\n",
       "</div>"
      ],
      "text/plain": [
       "   0  1\n",
       "0  3  4\n",
       "1  5  5"
      ]
     },
     "execution_count": 8,
     "metadata": {},
     "output_type": "execute_result"
    }
   ],
   "source": [
    "dfa.applymap(lambda x: len(str(x)))"
   ]
  },
  {
   "cell_type": "code",
   "execution_count": 5,
   "metadata": {},
   "outputs": [
    {
     "data": {
      "text/plain": [
       "0    1.000\n",
       "1    3.356\n",
       "Name: 0, dtype: float64"
      ]
     },
     "execution_count": 5,
     "metadata": {},
     "output_type": "execute_result"
    }
   ],
   "source": [
    "dfa[0]"
   ]
  },
  {
   "cell_type": "code",
   "execution_count": 55,
   "metadata": {},
   "outputs": [
    {
     "data": {
      "text/html": [
       "<div>\n",
       "<style scoped>\n",
       "    .dataframe tbody tr th:only-of-type {\n",
       "        vertical-align: middle;\n",
       "    }\n",
       "\n",
       "    .dataframe tbody tr th {\n",
       "        vertical-align: top;\n",
       "    }\n",
       "\n",
       "    .dataframe thead th {\n",
       "        text-align: right;\n",
       "    }\n",
       "</style>\n",
       "<table border=\"1\" class=\"dataframe\">\n",
       "  <thead>\n",
       "    <tr style=\"text-align: right;\">\n",
       "      <th></th>\n",
       "      <th>Person ID</th>\n",
       "      <th>Last Name</th>\n",
       "      <th>First Name</th>\n",
       "      <th>Date of Birth</th>\n",
       "    </tr>\n",
       "  </thead>\n",
       "  <tbody>\n",
       "    <tr>\n",
       "      <th>0</th>\n",
       "      <td>1</td>\n",
       "      <td>Smith</td>\n",
       "      <td>John</td>\n",
       "      <td>1982-10-06</td>\n",
       "    </tr>\n",
       "    <tr>\n",
       "      <th>1</th>\n",
       "      <td>2</td>\n",
       "      <td>Williams</td>\n",
       "      <td>Bill</td>\n",
       "      <td>1990-07-04</td>\n",
       "    </tr>\n",
       "    <tr>\n",
       "      <th>2</th>\n",
       "      <td>3</td>\n",
       "      <td>Williams</td>\n",
       "      <td>Jane</td>\n",
       "      <td>1989-05-06</td>\n",
       "    </tr>\n",
       "    <tr>\n",
       "      <th>3</th>\n",
       "      <td>4</td>\n",
       "      <td>Jackson</td>\n",
       "      <td>Cathy</td>\n",
       "      <td>1974-01-24</td>\n",
       "    </tr>\n",
       "    <tr>\n",
       "      <th>4</th>\n",
       "      <td>5</td>\n",
       "      <td>Johnson</td>\n",
       "      <td>Stuart</td>\n",
       "      <td>1995-06-05</td>\n",
       "    </tr>\n",
       "    <tr>\n",
       "      <th>5</th>\n",
       "      <td>6</td>\n",
       "      <td>Smith</td>\n",
       "      <td>James</td>\n",
       "      <td>1984-04-16</td>\n",
       "    </tr>\n",
       "    <tr>\n",
       "      <th>6</th>\n",
       "      <td>7</td>\n",
       "      <td>Anderson</td>\n",
       "      <td>Felicity</td>\n",
       "      <td>1976-09-15</td>\n",
       "    </tr>\n",
       "    <tr>\n",
       "      <th>7</th>\n",
       "      <td>8</td>\n",
       "      <td>Christiansen</td>\n",
       "      <td>Liam</td>\n",
       "      <td>1992-10-02</td>\n",
       "    </tr>\n",
       "    <tr>\n",
       "      <th>8</th>\n",
       "      <td>9</td>\n",
       "      <td>Carter</td>\n",
       "      <td>Nancy</td>\n",
       "      <td>1986-02-05</td>\n",
       "    </tr>\n",
       "    <tr>\n",
       "      <th>9</th>\n",
       "      <td>10</td>\n",
       "      <td>Davidson</td>\n",
       "      <td>Christina</td>\n",
       "      <td>1993-08-11</td>\n",
       "    </tr>\n",
       "  </tbody>\n",
       "</table>\n",
       "</div>"
      ],
      "text/plain": [
       "   Person ID     Last Name First Name Date of Birth\n",
       "0          1         Smith       John    1982-10-06\n",
       "1          2      Williams       Bill    1990-07-04\n",
       "2          3      Williams       Jane    1989-05-06\n",
       "3          4       Jackson      Cathy    1974-01-24\n",
       "4          5       Johnson     Stuart    1995-06-05\n",
       "5          6         Smith      James    1984-04-16\n",
       "6          7      Anderson   Felicity    1976-09-15\n",
       "7          8  Christiansen       Liam    1992-10-02\n",
       "8          9        Carter      Nancy    1986-02-05\n",
       "9         10      Davidson  Christina    1993-08-11"
      ]
     },
     "execution_count": 55,
     "metadata": {},
     "output_type": "execute_result"
    }
   ],
   "source": [
    "peopleDaskDataFrame.compute()"
   ]
  },
  {
   "cell_type": "code",
   "execution_count": 72,
   "metadata": {},
   "outputs": [],
   "source": [
    "peopleDaskDataFrame = peopleDaskDataFrame.set_index('First Name')"
   ]
  },
  {
   "cell_type": "code",
   "execution_count": 76,
   "metadata": {},
   "outputs": [
    {
     "data": {
      "text/html": [
       "<div>\n",
       "<style scoped>\n",
       "    .dataframe tbody tr th:only-of-type {\n",
       "        vertical-align: middle;\n",
       "    }\n",
       "\n",
       "    .dataframe tbody tr th {\n",
       "        vertical-align: top;\n",
       "    }\n",
       "\n",
       "    .dataframe thead th {\n",
       "        text-align: right;\n",
       "    }\n",
       "</style>\n",
       "<table border=\"1\" class=\"dataframe\">\n",
       "  <thead>\n",
       "    <tr style=\"text-align: right;\">\n",
       "      <th></th>\n",
       "      <th>Person ID</th>\n",
       "      <th>Last Name</th>\n",
       "      <th>Date of Birth</th>\n",
       "    </tr>\n",
       "    <tr>\n",
       "      <th>First Name</th>\n",
       "      <th></th>\n",
       "      <th></th>\n",
       "      <th></th>\n",
       "    </tr>\n",
       "  </thead>\n",
       "  <tbody>\n",
       "    <tr>\n",
       "      <th>Bill</th>\n",
       "      <td>2</td>\n",
       "      <td>Williams</td>\n",
       "      <td>1990-07-04</td>\n",
       "    </tr>\n",
       "    <tr>\n",
       "      <th>Cathy</th>\n",
       "      <td>4</td>\n",
       "      <td>Jackson</td>\n",
       "      <td>1974-01-24</td>\n",
       "    </tr>\n",
       "    <tr>\n",
       "      <th>Christina</th>\n",
       "      <td>10</td>\n",
       "      <td>Davidson</td>\n",
       "      <td>1993-08-11</td>\n",
       "    </tr>\n",
       "    <tr>\n",
       "      <th>Felicity</th>\n",
       "      <td>7</td>\n",
       "      <td>Anderson</td>\n",
       "      <td>1976-09-15</td>\n",
       "    </tr>\n",
       "    <tr>\n",
       "      <th>James</th>\n",
       "      <td>6</td>\n",
       "      <td>Smith</td>\n",
       "      <td>1984-04-16</td>\n",
       "    </tr>\n",
       "    <tr>\n",
       "      <th>Jane</th>\n",
       "      <td>3</td>\n",
       "      <td>Williams</td>\n",
       "      <td>1989-05-06</td>\n",
       "    </tr>\n",
       "    <tr>\n",
       "      <th>John</th>\n",
       "      <td>1</td>\n",
       "      <td>Smith</td>\n",
       "      <td>1982-10-06</td>\n",
       "    </tr>\n",
       "    <tr>\n",
       "      <th>Liam</th>\n",
       "      <td>8</td>\n",
       "      <td>Christiansen</td>\n",
       "      <td>1992-10-02</td>\n",
       "    </tr>\n",
       "    <tr>\n",
       "      <th>Nancy</th>\n",
       "      <td>9</td>\n",
       "      <td>Carter</td>\n",
       "      <td>1986-02-05</td>\n",
       "    </tr>\n",
       "    <tr>\n",
       "      <th>Stuart</th>\n",
       "      <td>5</td>\n",
       "      <td>Johnson</td>\n",
       "      <td>1995-06-05</td>\n",
       "    </tr>\n",
       "  </tbody>\n",
       "</table>\n",
       "</div>"
      ],
      "text/plain": [
       "            Person ID     Last Name Date of Birth\n",
       "First Name                                       \n",
       "Bill                2      Williams    1990-07-04\n",
       "Cathy               4       Jackson    1974-01-24\n",
       "Christina          10      Davidson    1993-08-11\n",
       "Felicity            7      Anderson    1976-09-15\n",
       "James               6         Smith    1984-04-16\n",
       "Jane                3      Williams    1989-05-06\n",
       "John                1         Smith    1982-10-06\n",
       "Liam                8  Christiansen    1992-10-02\n",
       "Nancy               9        Carter    1986-02-05\n",
       "Stuart              5       Johnson    1995-06-05"
      ]
     },
     "execution_count": 76,
     "metadata": {},
     "output_type": "execute_result"
    }
   ],
   "source": [
    "peopleDaskDataFrame.compute()"
   ]
  },
  {
   "cell_type": "code",
   "execution_count": 84,
   "metadata": {},
   "outputs": [
    {
     "name": "stdout",
     "output_type": "stream",
     "text": [
      "type(row) =>  <class 'pandas.core.series.Series'>\n",
      "row.dtypes =>  object\n",
      "row['Last Name'] =>  foo\n",
      "row => \n",
      " Person ID          1\n",
      "Last Name        foo\n",
      "Date of Birth    foo\n",
      "Name: a, dtype: object\n",
      "type(row) =>  <class 'pandas.core.series.Series'>\n",
      "row.dtypes =>  object\n",
      "row['Last Name'] =>  foo\n",
      "row => \n",
      " Person ID          1\n",
      "Last Name        foo\n",
      "Date of Birth    foo\n",
      "Name: b, dtype: object\n"
     ]
    },
    {
     "name": "stderr",
     "output_type": "stream",
     "text": [
      "/home/dev/.local/lib/python3.8/site-packages/dask/dataframe/core.py:4329: UserWarning: \n",
      "You did not provide metadata, so Dask is running your function on a small dataset to guess output types. It is possible that Dask will guess incorrectly.\n",
      "To provide an explicit output types or to silence this message, please provide the `meta=` keyword, as described in the map or apply function that you are using.\n",
      "  Before: .apply(func)\n",
      "  After:  .apply(func, meta=(None, 'int64'))\n",
      "\n",
      "  warnings.warn(meta_warning(meta))\n"
     ]
    }
   ],
   "source": [
    "count = 0\n",
    "def myF(row):\n",
    "    print(\"type(row) => \", type(row))\n",
    "    print(\"row.dtypes => \", row.dtypes)\n",
    "    print(\"row['Last Name'] => \", row['Last Name'])\n",
    "    print(\"row => \\n\", row)\n",
    "\n",
    "#     count = count+1\n",
    "    return row['Person ID'] * 10\n",
    "# a = peopleDaskDataFrame.applymap(myF)\n",
    "a = peopleDaskDataFrame.apply(myF, axis=1)"
   ]
  },
  {
   "cell_type": "code",
   "execution_count": 86,
   "metadata": {},
   "outputs": [
    {
     "name": "stdout",
     "output_type": "stream",
     "text": [
      "type(row) =>  <class 'pandas.core.series.Series'>\n",
      "row.dtypes =>  object\n",
      "row['Last Name'] =>  Williams\n",
      "row => \n",
      " Person ID                 2\n",
      "Last Name          Williams\n",
      "Date of Birth    1990-07-04\n",
      "Name: Bill, dtype: object\n",
      "type(row) =>  <class 'pandas.core.series.Series'>\n",
      "row.dtypes =>  type(row) =>  <class 'pandas.core.series.Series'>object\n",
      "row['Last Name'] =>  Jackson\n",
      "row => \n",
      " Person ID                 4\n",
      "Last Name           Jackson\n",
      "Date of Birth    1974-01-24\n",
      "Name: Cathy, dtype: object\n",
      "type(row) =>  <class 'pandas.core.series.Series'>\n",
      "row.dtypes =>  object\n",
      "row['Last Name'] =>  Davidson\n",
      "\n",
      "row.dtypes =>  object\n",
      "row['Last Name'] =>  Smithrow => \n",
      " Person ID                10\n",
      "Last Name          Davidson\n",
      "Date of Birth    1993-08-11\n",
      "Name: Christina, dtype: object\n",
      "row => \n",
      " Person ID                 6\n",
      "Last Name             Smith\n",
      "Date of Birth    1984-04-16\n",
      "Name: James, dtype: object\n",
      "type(row) =>  <class 'pandas.core.series.Series'>\n",
      "row.dtypes =>  object\n",
      "row['Last Name'] =>  Williams\n",
      "row => \n",
      " Person ID                 3\n",
      "Last Name          Williams\n",
      "Date of Birth    1989-05-06\n",
      "Name: Jane, dtype: object\n",
      "type(row) =>  <class 'pandas.core.series.Series'>\n",
      "row.dtypes =>  object\n",
      "row['Last Name'] =>  Smith\n",
      "row => \n",
      " Person ID                 1\n",
      "Last Name             Smith\n",
      "Date of Birth    1982-10-06\n",
      "Name: John, dtype: object\n",
      "type(row) => \n",
      "type(row) =>  <class 'pandas.core.series.Series'>\n",
      "row.dtypes =>  object\n",
      "row['Last Name'] =>  Anderson\n",
      "row => \n",
      " Person ID                 7\n",
      "Last Name          Anderson\n",
      "Date of Birth    1976-09-15\n",
      "Name: Felicity, dtype: object\n",
      " <class 'pandas.core.series.Series'>\n",
      "row.dtypes =>  object\n",
      "row['Last Name'] =>  Christiansen\n",
      "row => \n",
      " Person ID                   8\n",
      "Last Name        Christiansen\n",
      "Date of Birth      1992-10-02\n",
      "Name: Liam, dtype: object\n",
      "type(row) =>  <class 'pandas.core.series.Series'>\n",
      "row.dtypes =>  object\n",
      "row['Last Name'] =>  Carter\n",
      "row => \n",
      " Person ID                 9\n",
      "Last Name            Carter\n",
      "Date of Birth    1986-02-05\n",
      "Name: Nancy, dtype: object\n",
      "type(row) =>  <class 'pandas.core.series.Series'>\n",
      "row.dtypes =>  object\n",
      "row['Last Name'] =>  Johnson\n",
      "row => \n",
      " Person ID                 5\n",
      "Last Name           Johnson\n",
      "Date of Birth    1995-06-05\n",
      "Name: Stuart, dtype: object\n"
     ]
    },
    {
     "data": {
      "text/plain": [
       "First Name\n",
       "Christina    100\n",
       "Nancy         90\n",
       "Liam          80\n",
       "dtype: int64"
      ]
     },
     "execution_count": 86,
     "metadata": {},
     "output_type": "execute_result"
    }
   ],
   "source": [
    "a.nlargest(3).compute()"
   ]
  },
  {
   "cell_type": "code",
   "execution_count": null,
   "metadata": {},
   "outputs": [],
   "source": []
  }
 ],
 "metadata": {
  "kernelspec": {
   "display_name": "Python 3",
   "language": "python",
   "name": "python3"
  },
  "language_info": {
   "codemirror_mode": {
    "name": "ipython",
    "version": 3
   },
   "file_extension": ".py",
   "mimetype": "text/x-python",
   "name": "python",
   "nbconvert_exporter": "python",
   "pygments_lexer": "ipython3",
   "version": "3.8.2"
  }
 },
 "nbformat": 4,
 "nbformat_minor": 4
}
